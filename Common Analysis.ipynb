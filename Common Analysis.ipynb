{
 "cells": [
  {
   "cell_type": "markdown",
   "id": "86aec8e5",
   "metadata": {},
   "source": [
    "# Fire Smoke Estimates for Longview, Washington"
   ]
  },
  {
   "cell_type": "markdown",
   "id": "174c73ee",
   "metadata": {},
   "source": [
    "This analysis involves investigating the impact of fires on Longview, Washington. For the purpose of this project, I will focus on the last 60 years of wildland fires, will consider fires that are within 1250 miles of this city, and will consider an annual fire season to be from May 1st - October 31st.\n",
    "\n",
    "I have chosen to include both \"wildfires\" and \"prescribed fires\" in my analysis. According to the paper [*Impact of smoke from prescribed burning: Is it a public health concern?*](https://pubmed.ncbi.nlm.nih.gov/25947317/#:~:text=Smoke%20from%20prescribed%20burning%20can,consistently%20elevated%20during%20smoke%20events.), smoke from prescribed burning still has a significant impact on air quality and the environment. Thus, I believe that both wildfires and prescribed fires should be included in my overall smoke estimates."
   ]
  },
  {
   "cell_type": "markdown",
   "id": "b8cdb620",
   "metadata": {},
   "source": [
    "## Data Acquisition: Wildland Fire Datasets"
   ]
  },
  {
   "cell_type": "markdown",
   "id": "5239c7e8",
   "metadata": {},
   "source": [
    "To begin, I collect historical data regarding wildfires in the United States. This dataset was aggregated by the US Geological Survey and is titled *Combined wildland fire datasets for the United States and certain territories, 1800s-Present (combined wildland fire polygons).* I downloaded this data to my local device in the GeoJSON format, accessed at this [link](https://www.sciencebase.gov/catalog/item/61aa537dd34eb622f699df81) on 11/2/2023.\n",
    "\n",
    "Code in an example notebook ([Wildfire Proximity Computation Example](https://drive.google.com/file/d/1qNI6hji8CvDeBsnLDAhJXvaqf2gcg8UV/view?usp=drive_link)), provided by Dr. David W McDonald, has been modified and used below. This code has been provided under the [Creative Commons](https://creativecommons.org) [CC-BY license](https://creativecommons.org/licenses/by/4.0/). Revision 1.0 - August 13, 2023.\n",
    "\n",
    "The code below has dependencies on [Pyproj](https://pyproj4.github.io/pyproj/stable/index.html) and the GeoJSON module ([documentation](https://pypi.org/project/geojson/), [GitHub repo](https://github.com/jazzband/geojson)), which can be installed via pip."
   ]
  },
  {
   "cell_type": "markdown",
   "id": "73be3829",
   "metadata": {},
   "source": [
    "First, we import modules needed for this analysis, and open the GeoJSON files."
   ]
  },
  {
   "cell_type": "code",
   "execution_count": 345,
   "id": "b7e198aa",
   "metadata": {},
   "outputs": [],
   "source": [
    "# Code from Dr. McDonald\n",
    "#    IMPORTS\n",
    "# \n",
    "\n",
    "#    Import some standard python modules\n",
    "import os, json, time\n",
    "#\n",
    "#    The module pyproj is a standard module that can be installed using pip or your other favorite\n",
    "#    installation tool. This module provides tools to convert between different geodesic coordinate systems\n",
    "#    and for calculating distances between points (coordinates) in a specific geodesic system.\n",
    "#\n",
    "from pyproj import Transformer, Geod\n",
    "#    \n",
    "import geojson\n",
    "\n",
    "import numpy as np\n",
    "import pandas as pd\n",
    "import matplotlib.pyplot as plt\n",
    "from tqdm import tqdm\n",
    "\n",
    "import warnings\n",
    "warnings.filterwarnings(\"ignore\", category=FutureWarning, message=\"The frame.append method is deprecated and will be removed from pandas in a future version.\")\n",
    "\n",
    "import seaborn as sns"
   ]
  },
  {
   "cell_type": "code",
   "execution_count": 2,
   "id": "3df6091e",
   "metadata": {},
   "outputs": [],
   "source": [
    "# Code from Dr. McDonald\n",
    "#    CONSTANTS\n",
    "#\n",
    "\n",
    "# Define the name and path of the GeoJSON file\n",
    "EXTRACT_FILENAME = \"C:\\\\Users\\\\tejal\\\\Downloads\\\\GeoJSON Files\\\\GeoJSON Exports\\\\USGS_Wildland_Fire_Combined_Dataset.json\""
   ]
  },
  {
   "cell_type": "code",
   "execution_count": 3,
   "id": "2ac15d16",
   "metadata": {
    "scrolled": true
   },
   "outputs": [
    {
     "name": "stdout",
     "output_type": "stream",
     "text": [
      "The loaded JSON dictionary has the following keys:\n",
      "['displayFieldName', 'fieldAliases', 'geometryType', 'spatialReference', 'fields', 'features']\n",
      "\n",
      "Found 135061 features in the variable 'gj_data' \n"
     ]
    }
   ],
   "source": [
    "# Code from Dr. McDonald\n",
    "#    Open a file, load it with the geojson loader\n",
    "\n",
    "SAMPLE_DATA_FILENAME = EXTRACT_FILENAME\n",
    "geojson_file = open(SAMPLE_DATA_FILENAME,\"r\")\n",
    "gj_data = geojson.load(geojson_file)\n",
    "geojson_file.close()\n",
    "#\n",
    "#    Print the keys from the object\n",
    "#\n",
    "gj_keys = list(gj_data.keys())\n",
    "print(\"The loaded JSON dictionary has the following keys:\")\n",
    "print(gj_keys)\n",
    "print()\n",
    "#\n",
    "#    For all GeoJSON type things, the most important part of the file are the 'features'. \n",
    "#    In the case of the wildfire dataset, each feature is a polygon (ring) of points that define the bounary of a fire\n",
    "#\n",
    "    \n",
    "length = len(gj_data['features'])\n",
    "\n",
    "print(f\"Found {length} features in the variable 'gj_data' \")"
   ]
  },
  {
   "cell_type": "markdown",
   "id": "fd462da7",
   "metadata": {},
   "source": [
    "The next step is to filter the data for the years we are interested in. Since we are interested in wildfire data from the last 60 years, we will filter the data for instances where the year is greater than or equal to 1963. Please note that our dataset only contains data for up to 2020."
   ]
  },
  {
   "cell_type": "code",
   "execution_count": 4,
   "id": "dfb4776c",
   "metadata": {},
   "outputs": [],
   "source": [
    "# Obtain list of features\n",
    "gj_feature = gj_data['features']"
   ]
  },
  {
   "cell_type": "code",
   "execution_count": 5,
   "id": "c6114df0",
   "metadata": {},
   "outputs": [],
   "source": [
    "# Obtain year for each feature\n",
    "years = []\n",
    "\n",
    "for i in range(0, len(gj_feature)):\n",
    "    year = gj_feature[i]['attributes']['Fire_Year']\n",
    "    years.append(year)"
   ]
  },
  {
   "cell_type": "code",
   "execution_count": 6,
   "id": "88db51f4",
   "metadata": {},
   "outputs": [],
   "source": [
    "gj_df = pd.DataFrame(list(zip(gj_feature, years)), columns =['feature', 'year'])"
   ]
  },
  {
   "cell_type": "code",
   "execution_count": 7,
   "id": "a6870644",
   "metadata": {
    "scrolled": true
   },
   "outputs": [
    {
     "data": {
      "text/html": [
       "<div>\n",
       "<style scoped>\n",
       "    .dataframe tbody tr th:only-of-type {\n",
       "        vertical-align: middle;\n",
       "    }\n",
       "\n",
       "    .dataframe tbody tr th {\n",
       "        vertical-align: top;\n",
       "    }\n",
       "\n",
       "    .dataframe thead th {\n",
       "        text-align: right;\n",
       "    }\n",
       "</style>\n",
       "<table border=\"1\" class=\"dataframe\">\n",
       "  <thead>\n",
       "    <tr style=\"text-align: right;\">\n",
       "      <th></th>\n",
       "      <th>feature</th>\n",
       "      <th>year</th>\n",
       "    </tr>\n",
       "  </thead>\n",
       "  <tbody>\n",
       "    <tr>\n",
       "      <th>0</th>\n",
       "      <td>{'attributes': {'OBJECTID': 14299, 'USGS_Assig...</td>\n",
       "      <td>1963</td>\n",
       "    </tr>\n",
       "    <tr>\n",
       "      <th>1</th>\n",
       "      <td>{'attributes': {'OBJECTID': 14300, 'USGS_Assig...</td>\n",
       "      <td>1963</td>\n",
       "    </tr>\n",
       "    <tr>\n",
       "      <th>2</th>\n",
       "      <td>{'attributes': {'OBJECTID': 14301, 'USGS_Assig...</td>\n",
       "      <td>1963</td>\n",
       "    </tr>\n",
       "    <tr>\n",
       "      <th>3</th>\n",
       "      <td>{'attributes': {'OBJECTID': 14302, 'USGS_Assig...</td>\n",
       "      <td>1963</td>\n",
       "    </tr>\n",
       "    <tr>\n",
       "      <th>4</th>\n",
       "      <td>{'attributes': {'OBJECTID': 14303, 'USGS_Assig...</td>\n",
       "      <td>1963</td>\n",
       "    </tr>\n",
       "  </tbody>\n",
       "</table>\n",
       "</div>"
      ],
      "text/plain": [
       "                                             feature  year\n",
       "0  {'attributes': {'OBJECTID': 14299, 'USGS_Assig...  1963\n",
       "1  {'attributes': {'OBJECTID': 14300, 'USGS_Assig...  1963\n",
       "2  {'attributes': {'OBJECTID': 14301, 'USGS_Assig...  1963\n",
       "3  {'attributes': {'OBJECTID': 14302, 'USGS_Assig...  1963\n",
       "4  {'attributes': {'OBJECTID': 14303, 'USGS_Assig...  1963"
      ]
     },
     "execution_count": 7,
     "metadata": {},
     "output_type": "execute_result"
    }
   ],
   "source": [
    "# Filter data for years greater than or equal to 1963\n",
    "gj_df = gj_df[gj_df['year'] >= 1963].reset_index(drop=True)\n",
    "gj_df.head()"
   ]
  },
  {
   "cell_type": "code",
   "execution_count": 8,
   "id": "19b1cb46",
   "metadata": {},
   "outputs": [],
   "source": [
    "# Obtain list of features for relevant years\n",
    "\n",
    "gj_feature_years = gj_df['feature']"
   ]
  },
  {
   "cell_type": "markdown",
   "id": "b93e23ab",
   "metadata": {},
   "source": [
    "Now, we are interested in extracting geographic data, specifically, the coordinate rings of each fire. We first extract all coordinate rings for each fire. Then, we extract the biggest ring of each fire and save this in a list called *gj_biggest_ring*. We choose to extract the biggest ring as this represents the greatest area covered for each fire. This will allow us to use a consistent measure when comparing the smoke impact of each fire."
   ]
  },
  {
   "cell_type": "code",
   "execution_count": 9,
   "id": "c03b4e43",
   "metadata": {},
   "outputs": [],
   "source": [
    "# Code from Dr. McDonald\n",
    "\n",
    "#    Every feature has a 'geometry' which specifies geo coordinates that make up each geographic thing\n",
    "#    In the case of the wildfire data, most wildfires are bounded shapes, circles, squares, etc. This is\n",
    "#    represented by shapes called 'rings' in GeoJSON.\n",
    "\n",
    "# Extract list of geometry for each feature\n",
    "gj_geometry = []\n",
    "\n",
    "for i in range(0, len(gj_feature_years)):\n",
    "    geom = gj_feature_years[i]['geometry']\n",
    "    gj_geometry.append(geom)"
   ]
  },
  {
   "cell_type": "code",
   "execution_count": 10,
   "id": "04896143",
   "metadata": {},
   "outputs": [],
   "source": [
    "# Extract list of biggest rings\n",
    "\n",
    "gj_biggest_ring = []\n",
    "\n",
    "for i in range(0, len(gj_geometry)):\n",
    "    if 'rings' in gj_geometry[i]:\n",
    "        ring = gj_geometry[i]['rings'][0]\n",
    "    \n",
    "    else:\n",
    "        ring = 'NULL'\n",
    "        \n",
    "    gj_biggest_ring.append(ring)"
   ]
  },
  {
   "cell_type": "markdown",
   "id": "4d05d8ab",
   "metadata": {},
   "source": [
    "At this stage, there are 35 values where the geographic rings are in a different format (curveRings). Since this is such a small number, we will exclude these values in our analysis and consider them \"NULL\" for the time being."
   ]
  },
  {
   "cell_type": "markdown",
   "id": "bde282d4",
   "metadata": {},
   "source": [
    "The next step is to convert points between geodetic coordinate systems. The original wildfire dataset uses the well-known ID (WKID) 102008 coordinate system, also known as the  [ESRI:102008](https://epsg.io/102008) coordinate system. For the purposes of our analysis, we will be using the decimal degrees coordinate system, which has an official name (or WKID) of [EPSG:4326](https://epsg.io/4326).\n",
    "\n",
    "The function below, *convert_ring_to_epsg4326* defines logic for converting points. We use this function to convert points in our *gj_biggest_ring* list created above."
   ]
  },
  {
   "cell_type": "code",
   "execution_count": 11,
   "id": "fe788b2e",
   "metadata": {},
   "outputs": [],
   "source": [
    "# Code from Dr. McDonald\n",
    "#    Transform feature geometry data\n",
    "#\n",
    "#    The function takes one parameter, a list of ESRI:102008 coordinates that will be transformed to EPSG:4326\n",
    "#    The function returns a list of coordinates in EPSG:4326\n",
    "def convert_ring_to_epsg4326(ring_data=None):\n",
    "    converted_ring = list()\n",
    "    #\n",
    "    # We use a pyproj transformer that converts from ESRI:102008 to EPSG:4326 to transform the list of coordinates\n",
    "    to_epsg4326 = Transformer.from_crs(\"ESRI:102008\",\"EPSG:4326\")\n",
    "    # We'll run through the list transforming each ESRI:102008 x,y coordinate into a decimal degree lat,lon\n",
    "    for coord in ring_data:\n",
    "        lat,lon = to_epsg4326.transform(coord[0],coord[1])\n",
    "        new_coord = lat,lon\n",
    "        converted_ring.append(new_coord)\n",
    "    return converted_ring"
   ]
  },
  {
   "cell_type": "markdown",
   "id": "101e4646",
   "metadata": {},
   "source": [
    "As the code below will take some time to complete, we install and use the [tqdm](https://tqdm.github.io/) package to track progress. The idea to use this technique was suggested by Wanwei Huang, another student in the University of Washington Master of Science in Data Science program. We iterate through each of the coordinate sets in the *gj_biggest_ring* list to convert the coordinates."
   ]
  },
  {
   "cell_type": "code",
   "execution_count": 12,
   "id": "5d2bc215",
   "metadata": {
    "scrolled": false
   },
   "outputs": [
    {
     "name": "stderr",
     "output_type": "stream",
     "text": [
      "100%|████████████████████████████████████████████████████████████████████████| 117578/117578 [1:58:35<00:00, 16.52it/s]\n"
     ]
    }
   ],
   "source": [
    "from tqdm import tqdm\n",
    "\n",
    "converted_rings = []\n",
    "\n",
    "# Use function to convert each ring\n",
    "for i in tqdm(range(0, len(gj_biggest_ring))):\n",
    "    if gj_biggest_ring[i]==\"NULL\":\n",
    "        conv = \"NULL\"\n",
    "    else:\n",
    "        conv = convert_ring_to_epsg4326(gj_biggest_ring[i])\n",
    "    converted_rings.append(conv)"
   ]
  },
  {
   "cell_type": "markdown",
   "id": "1215a44b",
   "metadata": {},
   "source": [
    "The next step is to compute the distance between Longview, Washington, and each wildfire. For the purposes of this analysis, we will compute the distance to the approximate centroid of the fire region. Specifically, this is done by computing the average distance of all the perimeter points to the city, and returning the average as the distance.\n",
    "\n",
    "I have chosen to use the centroid of the fire region to compute the distance as opposed to another measure, as I believe that this will give us the most accurate estimates. I make the assumption that fires with a centroid closer to the city will result in a higher smoke impact than fires with a centroid further from the city. Using perimeter estimates, for example, will not allow me to make such a comparison as there could be fires with a perimeter very close to the city but a centroid that is much further, resulting in a minimal smoke impact."
   ]
  },
  {
   "cell_type": "code",
   "execution_count": 14,
   "id": "c9addef9",
   "metadata": {},
   "outputs": [],
   "source": [
    "# Code from Dr. McDonald\n",
    "\n",
    "#    The function takes two parameters\n",
    "#        A place - which is coordinate point (list or tuple with two items, (lat,lon) in decimal degrees EPSG:4326\n",
    "#        Ring_data - a list of decimal degree coordinates for the fire boundary\n",
    "#\n",
    "#    The function returns the average miles from boundary to the place\n",
    "#\n",
    "def average_distance_from_place_to_fire_perimeter(place=None,ring_data=None):\n",
    "    # convert the ring data to the right coordinate system\n",
    "    ring = ring_data    \n",
    "    # create a epsg4326 compliant object - which is what the WGS84 ellipsoid is\n",
    "    geodcalc = Geod(ellps='WGS84')\n",
    "    # create a list to store our results\n",
    "    distances_in_meters = list()\n",
    "    # run through each point in the converted ring data\n",
    "    for point in ring:\n",
    "        # calculate the distance\n",
    "        d = geodcalc.inv(place[1],place[0],point[1],point[0])\n",
    "        distances_in_meters.append(d[2])\n",
    "    #print(\"Got the following list:\",distances_in_meters)\n",
    "    # convert meters to miles\n",
    "    distances_in_miles = [meters*0.00062137 for meters in distances_in_meters]\n",
    "    # the esri polygon shape (the ring) requires that the first and last coordinates be identical to 'close the region\n",
    "    # we remove one of them so that we don't bias our average by having two of the same point\n",
    "    distances_in_miles_no_dup = distances_in_miles[1:]\n",
    "    # now, average miles\n",
    "    average = sum(distances_in_miles_no_dup)/len(distances_in_miles_no_dup)\n",
    "    return average"
   ]
  },
  {
   "cell_type": "markdown",
   "id": "e8580c2c",
   "metadata": {},
   "source": [
    "We now apply this function for each of the fires. Using [ESPG.io](https://epsg.io/map#srs=4326&x=-122.965558&y=46.142614&z=13&layer=streets), we determine that the coordinates of Longview, Washington are (46.142614, -122.965558). We save these distances in a list called *distances*."
   ]
  },
  {
   "cell_type": "code",
   "execution_count": 39,
   "id": "3c396252",
   "metadata": {},
   "outputs": [
    {
     "name": "stderr",
     "output_type": "stream",
     "text": [
      "100%|████████████████████████████████████████████████████████████████████████| 117578/117578 [01:30<00:00, 1300.40it/s]\n"
     ]
    }
   ],
   "source": [
    "# Longview coordinates\n",
    "\n",
    "latlon = [46.142614, -122.965558]\n",
    "\n",
    "distances = []\n",
    "\n",
    "for i in tqdm(range(0, len(converted_rings))):\n",
    "    if(converted_rings[i])=='NULL':\n",
    "        dist = 'NULL'\n",
    "    else:\n",
    "        dist = average_distance_from_place_to_fire_perimeter(latlon, converted_rings[i])\n",
    "    \n",
    "    distances.append(dist)"
   ]
  },
  {
   "cell_type": "markdown",
   "id": "75419fa5",
   "metadata": {},
   "source": [
    "Now, we will filter our dataset to only include fires that occured within (less than or equal to) 1250 miles of Longview."
   ]
  },
  {
   "cell_type": "code",
   "execution_count": 50,
   "id": "00f8993a",
   "metadata": {
    "scrolled": false
   },
   "outputs": [],
   "source": [
    "gj_df_dist = pd.DataFrame(list(zip(gj_feature_years, distances)), columns =['feature', 'distance'])\n",
    "gj_df_dist['distance'] = pd.to_numeric(gj_df_dist['distance'], errors='coerce')"
   ]
  },
  {
   "cell_type": "code",
   "execution_count": 53,
   "id": "ddaaf23d",
   "metadata": {
    "scrolled": false
   },
   "outputs": [
    {
     "data": {
      "text/plain": [
       "73747"
      ]
     },
     "execution_count": 53,
     "metadata": {},
     "output_type": "execute_result"
    }
   ],
   "source": [
    "gj_df_dist = gj_df_dist[gj_df_dist['distance'] <= 1250].reset_index(drop=True)\n",
    "len(gj_df_dist)"
   ]
  },
  {
   "cell_type": "code",
   "execution_count": 25,
   "id": "09db545a",
   "metadata": {
    "scrolled": true
   },
   "outputs": [
    {
     "data": {
      "text/html": [
       "<div>\n",
       "<style scoped>\n",
       "    .dataframe tbody tr th:only-of-type {\n",
       "        vertical-align: middle;\n",
       "    }\n",
       "\n",
       "    .dataframe tbody tr th {\n",
       "        vertical-align: top;\n",
       "    }\n",
       "\n",
       "    .dataframe thead th {\n",
       "        text-align: right;\n",
       "    }\n",
       "</style>\n",
       "<table border=\"1\" class=\"dataframe\">\n",
       "  <thead>\n",
       "    <tr style=\"text-align: right;\">\n",
       "      <th></th>\n",
       "      <th>feature</th>\n",
       "      <th>distance</th>\n",
       "    </tr>\n",
       "  </thead>\n",
       "  <tbody>\n",
       "    <tr>\n",
       "      <th>0</th>\n",
       "      <td>0</td>\n",
       "      <td>335.207190</td>\n",
       "    </tr>\n",
       "    <tr>\n",
       "      <th>1</th>\n",
       "      <td>1</td>\n",
       "      <td>307.407123</td>\n",
       "    </tr>\n",
       "    <tr>\n",
       "      <th>2</th>\n",
       "      <td>2</td>\n",
       "      <td>340.695973</td>\n",
       "    </tr>\n",
       "    <tr>\n",
       "      <th>3</th>\n",
       "      <td>3</td>\n",
       "      <td>408.155775</td>\n",
       "    </tr>\n",
       "    <tr>\n",
       "      <th>4</th>\n",
       "      <td>4</td>\n",
       "      <td>350.655777</td>\n",
       "    </tr>\n",
       "  </tbody>\n",
       "</table>\n",
       "</div>"
      ],
      "text/plain": [
       "   feature    distance\n",
       "0        0  335.207190\n",
       "1        1  307.407123\n",
       "2        2  340.695973\n",
       "3        3  408.155775\n",
       "4        4  350.655777"
      ]
     },
     "execution_count": 25,
     "metadata": {},
     "output_type": "execute_result"
    }
   ],
   "source": [
    "# View data\n",
    "gj_df_dist.head()"
   ]
  },
  {
   "cell_type": "markdown",
   "id": "9d95674c",
   "metadata": {},
   "source": [
    "Thus, there were 73747 fires that occured within 1250 miles of Longview, Washington in the last 60 years. Our further analysis will comprise of this data."
   ]
  },
  {
   "cell_type": "markdown",
   "id": "5f5201a4",
   "metadata": {},
   "source": [
    "## Creating Fire Smoke Estimates\n",
    "### Data Exploration"
   ]
  },
  {
   "cell_type": "markdown",
   "id": "65ecae03",
   "metadata": {},
   "source": [
    "The next step is to create an annual estimate of wildfire smoke for Longview. To begin, we will explore the attributes contained in this dataset. First, it would be interesting to see the distribution of distances among wildfires. To visualize this data, I create a histogram."
   ]
  },
  {
   "cell_type": "code",
   "execution_count": 3,
   "id": "296fa6a6",
   "metadata": {
    "scrolled": true
   },
   "outputs": [],
   "source": [
    "# Load data from csv file created above\n",
    "gj_df_dist = pd.read_csv('gj_df_dist.csv')\n",
    "\n",
    "# Convert column to dictionary format\n",
    "gj_df_dist['feature'] = gj_df_dist['feature'].apply(lambda x: eval(x) if x else {})"
   ]
  },
  {
   "cell_type": "code",
   "execution_count": 4,
   "id": "3bd972b5",
   "metadata": {
    "scrolled": true
   },
   "outputs": [
    {
     "data": {
      "image/png": "[encoded data removed]",
      "text/plain": [
       "<Figure size 432x288 with 1 Axes>"
      ]
     },
     "metadata": {
      "needs_background": "light"
     },
     "output_type": "display_data"
    }
   ],
   "source": [
    "plt.hist(gj_df_dist['distance'])\n",
    "plt.title(\"Histogram of Fire Distance\")\n",
    "plt.ylabel(\"Number of fires\")\n",
    "plt.xlabel(\"Distance (mi)\")\n",
    "plt.show()"
   ]
  },
  {
   "cell_type": "code",
   "execution_count": 6,
   "id": "142f04b1",
   "metadata": {},
   "outputs": [
    {
     "data": {
      "text/plain": [
       "18.25101445955176"
      ]
     },
     "execution_count": 6,
     "metadata": {},
     "output_type": "execute_result"
    }
   ],
   "source": [
    "# Closest fire\n",
    "min(gj_df_dist['distance'])"
   ]
  },
  {
   "cell_type": "markdown",
   "id": "19ff318c",
   "metadata": {},
   "source": [
    "From the histogram above, it appears that the distribution is approximately bimodal, with one peak occurring around 400 miles and another peak occurring around 800 miles. The closest fire that occurred was about 18 miles away. We next conduct a similar analysis to examine the number of fires that occurred each year.\n",
    "\n",
    "We use the Counter module to count the number of fires that occurred each year."
   ]
  },
  {
   "cell_type": "code",
   "execution_count": 7,
   "id": "bfd24b91",
   "metadata": {},
   "outputs": [],
   "source": [
    "year_extract = []\n",
    "\n",
    "for i in range(0, len(gj_df_dist)):\n",
    "    yr = gj_df_dist['feature'][i]['attributes']['Fire_Year']\n",
    "    year_extract.append(yr)"
   ]
  },
  {
   "cell_type": "code",
   "execution_count": 8,
   "id": "09c15978",
   "metadata": {},
   "outputs": [
    {
     "data": {
      "image/png": "[encoded data removed]",
      "text/plain": [
       "<Figure size 432x288 with 1 Axes>"
      ]
     },
     "metadata": {
      "needs_background": "light"
     },
     "output_type": "display_data"
    }
   ],
   "source": [
    "plt.hist(year_extract)\n",
    "plt.title(\"Histogram of Fire Year\")\n",
    "plt.ylabel(\"Number of fires\")\n",
    "plt.xlabel(\"Year\")\n",
    "plt.show()"
   ]
  },
  {
   "cell_type": "code",
   "execution_count": 9,
   "id": "10c98f97",
   "metadata": {
    "scrolled": true
   },
   "outputs": [
    {
     "data": {
      "text/plain": [
       "Counter({1963: 354,\n",
       "         1964: 356,\n",
       "         1965: 317,\n",
       "         1966: 408,\n",
       "         1967: 419,\n",
       "         1968: 413,\n",
       "         1969: 327,\n",
       "         1970: 524,\n",
       "         1971: 374,\n",
       "         1972: 425,\n",
       "         1973: 467,\n",
       "         1974: 552,\n",
       "         1975: 443,\n",
       "         1976: 467,\n",
       "         1977: 468,\n",
       "         1978: 478,\n",
       "         1979: 752,\n",
       "         1980: 894,\n",
       "         1981: 959,\n",
       "         1982: 589,\n",
       "         1983: 774,\n",
       "         1984: 1021,\n",
       "         1985: 1336,\n",
       "         1986: 1188,\n",
       "         1987: 1563,\n",
       "         1988: 1485,\n",
       "         1989: 1250,\n",
       "         1990: 1018,\n",
       "         1991: 862,\n",
       "         1992: 1008,\n",
       "         1993: 667,\n",
       "         1994: 1307,\n",
       "         1995: 858,\n",
       "         1996: 1381,\n",
       "         1997: 788,\n",
       "         1998: 994,\n",
       "         1999: 1378,\n",
       "         2000: 1909,\n",
       "         2001: 1592,\n",
       "         2002: 1554,\n",
       "         2003: 1719,\n",
       "         2004: 1332,\n",
       "         2005: 1850,\n",
       "         2006: 2578,\n",
       "         2007: 2331,\n",
       "         2008: 2022,\n",
       "         2009: 1918,\n",
       "         2010: 1835,\n",
       "         2011: 2158,\n",
       "         2012: 2427,\n",
       "         2013: 1923,\n",
       "         2014: 1844,\n",
       "         2015: 2145,\n",
       "         2016: 2325,\n",
       "         2017: 2926,\n",
       "         2018: 2613,\n",
       "         2019: 2333,\n",
       "         2020: 3549})"
      ]
     },
     "execution_count": 9,
     "metadata": {},
     "output_type": "execute_result"
    }
   ],
   "source": [
    "from collections import Counter\n",
    "\n",
    "Counter(year_extract)"
   ]
  },
  {
   "cell_type": "markdown",
   "id": "3e8de770",
   "metadata": {},
   "source": [
    "Based on the graph above, it is evident that the number of fires (as recorded in this dataset) steadily increased over the last 60 years. Specifically, the year 2020 had the most fires (3549). In contrast, the year 1965 had the lowest number of fires (317).\n",
    "\n",
    "That being said, it is important to note that the the data quality is not consistent over this time range. Data from more recent years is much more accurate due to advances in technology. Thus, the different in the number of fires over the years may not be so severe in actuality.\n",
    "\n",
    "Now, we look at the other attributes contained in the data."
   ]
  },
  {
   "cell_type": "code",
   "execution_count": 10,
   "id": "91c0b04d",
   "metadata": {
    "scrolled": true
   },
   "outputs": [
    {
     "data": {
      "text/plain": [
       "{'OBJECTID': 14299,\n",
       " 'USGS_Assigned_ID': 14299,\n",
       " 'Assigned_Fire_Type': 'Wildfire',\n",
       " 'Fire_Year': 1963,\n",
       " 'Fire_Polygon_Tier': 1,\n",
       " 'Fire_Attribute_Tiers': '1 (1), 3 (3)',\n",
       " 'GIS_Acres': 40992.45827111476,\n",
       " 'GIS_Hectares': 16589.05930244248,\n",
       " 'Source_Datasets': 'Comb_National_NIFC_Interagency_Fire_Perimeter_History (1), Comb_SubState_MNSRBOPNCA_Wildfires_Historic (1), Comb_SubState_BLM_Idaho_NOC_FPER_Historica_Fire_Polygons (1), Comb_National_BLM_Fire_Perimeters_LADP (1)',\n",
       " 'Listed_Fire_Types': 'Wildfire (1), Likely Wildfire (3)',\n",
       " 'Listed_Fire_Names': 'RATTLESNAKE (4)',\n",
       " 'Listed_Fire_Codes': 'No code provided (4)',\n",
       " 'Listed_Fire_IDs': '1963-NA-000000 (2)',\n",
       " 'Listed_Fire_IRWIN_IDs': '',\n",
       " 'Listed_Fire_Dates': 'Listed Wildfire Discovery Date(s): 1963-08-06 (3) | Listed Wildfire Controlled Date(s): 1963-12-31 (3)',\n",
       " 'Listed_Fire_Causes': 'Unknown (3)',\n",
       " 'Listed_Fire_Cause_Class': 'Undetermined (4)',\n",
       " 'Listed_Rx_Reported_Acres': None,\n",
       " 'Listed_Map_Digitize_Methods': 'Digitized-Topo (4)',\n",
       " 'Listed_Notes': '',\n",
       " 'Processing_Notes': '',\n",
       " 'Wildfire_Notice': 'Wildfire mapping prior to 1984 was inconsistent, infrequent, and done without the aid of more modern fire mapping methods (GPS and satellite imagery). Areas burned prior to 1984 in this dataset represent only a fraction of what actually burned. While areas burned on or after 1984 are much more accurate and complete, errors still can and do occur. This dataset represents the most complete set of digitized polygon fire data available to the public that we, the authors, were able to collect. It is not a complete collection of all wildfires burned during the time period it represents.',\n",
       " 'Prescribed_Burn_Notice': 'Prescribed fire data in this dataset represents only a fraction of the area burned in prescribed burns across all years due to lack of reporting, particularly on private lands. The missing prescribed burn data becomes more pronounced further back in time, particularly in the southeastern U.S.; however, errors and omissions still occur through the most recent years in this dataset. This dataset represents the most complete set of digitized polygon fire data available to the public that we, the authors, were able to collect. It is not a complete collection of all prescribed burns burned during the time period it represents.',\n",
       " 'Wildfire_and_Rx_Flag': None,\n",
       " 'Overlap_Within_1_or_2_Flag': None,\n",
       " 'Circleness_Scale': 0.38535519109185146,\n",
       " 'Circle_Flag': None,\n",
       " 'Exclude_From_Summary_Rasters': 'No',\n",
       " 'Shape_Length': 73550.42811804128,\n",
       " 'Shape_Area': 165890593.0244248}"
      ]
     },
     "execution_count": 10,
     "metadata": {},
     "output_type": "execute_result"
    }
   ],
   "source": [
    "gj_df_dist['feature'][0]['attributes']"
   ]
  },
  {
   "cell_type": "markdown",
   "id": "69b886d9",
   "metadata": {},
   "source": [
    "Upon reviewing the [documentation](https://www.sciencebase.gov/catalog/file/get/61aa537dd34eb622f699df81?f=__disk__d0%2F63%2F53%2Fd063532049be8e1bc83d1d3047b4df1a5cb56f15&transform=1&allowOpen=true#Entity%20and%20Attribute%20Information) for each of these attributes, *GIS_Acres* is a variable of interest. This variable is defined to be \"the GIS calculated acres of the fire polygon calculated by using the Calculate Geometry tool in ArcGIS Pro.\" Thus, it will give us information regarding the total area of the fire. Once again, I will visualize the distribution of this feature using a histogram.\n",
    "\n",
    "I decide to transform this variable using natural log, as there is great variation in the size of the data."
   ]
  },
  {
   "cell_type": "code",
   "execution_count": 11,
   "id": "38092dda",
   "metadata": {},
   "outputs": [],
   "source": [
    "acres_extract = []\n",
    "\n",
    "for i in range(0, len(gj_df_dist)):\n",
    "    ac = gj_df_dist['feature'][i]['attributes']['GIS_Acres']\n",
    "    acres_extract.append(ac)"
   ]
  },
  {
   "cell_type": "code",
   "execution_count": 12,
   "id": "0b5e1faf",
   "metadata": {},
   "outputs": [],
   "source": [
    "# Log transform data to plot since range is so large\n",
    "acres_extract = np.array(acres_extract) \n",
    "acres_extract_log = np.log(acres_extract)"
   ]
  },
  {
   "cell_type": "code",
   "execution_count": 257,
   "id": "50548bd2",
   "metadata": {},
   "outputs": [
    {
     "data": {
      "text/plain": [
       "4.697010012483919e-06"
      ]
     },
     "execution_count": 257,
     "metadata": {},
     "output_type": "execute_result"
    }
   ],
   "source": [
    "# Smallest fire\n",
    "min(acres_extract)"
   ]
  },
  {
   "cell_type": "code",
   "execution_count": 258,
   "id": "5411a73b",
   "metadata": {
    "scrolled": true
   },
   "outputs": [
    {
     "data": {
      "text/plain": [
       "1032651.4212943749"
      ]
     },
     "execution_count": 258,
     "metadata": {},
     "output_type": "execute_result"
    }
   ],
   "source": [
    "# Largest fire\n",
    "max(acres_extract)"
   ]
  },
  {
   "cell_type": "code",
   "execution_count": 15,
   "id": "468a51a9",
   "metadata": {
    "scrolled": true
   },
   "outputs": [
    {
     "data": {
      "image/png": "[encoded data removed]",
      "text/plain": [
       "<Figure size 432x288 with 1 Axes>"
      ]
     },
     "metadata": {
      "needs_background": "light"
     },
     "output_type": "display_data"
    }
   ],
   "source": [
    "plt.hist(acres_extract_log)\n",
    "plt.title(\"Histogram of Fire Acres\")\n",
    "plt.ylabel(\"Number of fires\")\n",
    "plt.xlabel(\"Log(Acres)\")\n",
    "plt.show()"
   ]
  },
  {
   "cell_type": "markdown",
   "id": "15c611dd",
   "metadata": {},
   "source": [
    "Based on the histogram above, the area of the fire (as approximated by *GIS_Acres*) appears to be normally distributed, with a mean around e<sup>5</sup> acres. This is equivalent to approximately 148.41 acres, or about 0.23 square miles."
   ]
  },
  {
   "cell_type": "markdown",
   "id": "6cfe546d",
   "metadata": {},
   "source": [
    "I am also interested in observing aggregate values for each year. I now calculate the total number of fires for each year, the total acres of land affected by fires for each year, and the total distance of the fires to the city for each year. I will use these aggregate values to calculate averages for each of these measures as well. I will then visualize these values using bar plots.\n",
    "\n",
    "I also take a look at minimum and maximum values."
   ]
  },
  {
   "cell_type": "code",
   "execution_count": 259,
   "id": "ea425903",
   "metadata": {
    "scrolled": true
   },
   "outputs": [
    {
     "data": {
      "text/html": [
       "<div>\n",
       "<style scoped>\n",
       "    .dataframe tbody tr th:only-of-type {\n",
       "        vertical-align: middle;\n",
       "    }\n",
       "\n",
       "    .dataframe tbody tr th {\n",
       "        vertical-align: top;\n",
       "    }\n",
       "\n",
       "    .dataframe thead th {\n",
       "        text-align: right;\n",
       "    }\n",
       "</style>\n",
       "<table border=\"1\" class=\"dataframe\">\n",
       "  <thead>\n",
       "    <tr style=\"text-align: right;\">\n",
       "      <th></th>\n",
       "      <th>year</th>\n",
       "      <th>distance</th>\n",
       "      <th>acres</th>\n",
       "    </tr>\n",
       "  </thead>\n",
       "  <tbody>\n",
       "    <tr>\n",
       "      <th>0</th>\n",
       "      <td>1963</td>\n",
       "      <td>335.207190</td>\n",
       "      <td>40992.458271</td>\n",
       "    </tr>\n",
       "    <tr>\n",
       "      <th>1</th>\n",
       "      <td>1963</td>\n",
       "      <td>307.407123</td>\n",
       "      <td>25757.090203</td>\n",
       "    </tr>\n",
       "    <tr>\n",
       "      <th>2</th>\n",
       "      <td>1963</td>\n",
       "      <td>340.695973</td>\n",
       "      <td>45527.210986</td>\n",
       "    </tr>\n",
       "    <tr>\n",
       "      <th>3</th>\n",
       "      <td>1963</td>\n",
       "      <td>408.155775</td>\n",
       "      <td>10395.010334</td>\n",
       "    </tr>\n",
       "    <tr>\n",
       "      <th>4</th>\n",
       "      <td>1963</td>\n",
       "      <td>350.655777</td>\n",
       "      <td>9983.605738</td>\n",
       "    </tr>\n",
       "  </tbody>\n",
       "</table>\n",
       "</div>"
      ],
      "text/plain": [
       "   year    distance         acres\n",
       "0  1963  335.207190  40992.458271\n",
       "1  1963  307.407123  25757.090203\n",
       "2  1963  340.695973  45527.210986\n",
       "3  1963  408.155775  10395.010334\n",
       "4  1963  350.655777   9983.605738"
      ]
     },
     "execution_count": 259,
     "metadata": {},
     "output_type": "execute_result"
    }
   ],
   "source": [
    "# Create dataframe with a column for each variable\n",
    "year_dist_acres_df = pd.DataFrame(list(zip(year_extract, gj_df_dist['distance'], acres_extract)), columns=['year','distance', 'acres'])\n",
    "\n",
    "# Show head of dataframe\n",
    "year_dist_acres_df.head()"
   ]
  },
  {
   "cell_type": "code",
   "execution_count": 260,
   "id": "4a35ca5f",
   "metadata": {
    "scrolled": true
   },
   "outputs": [
    {
     "data": {
      "text/html": [
       "<div>\n",
       "<style scoped>\n",
       "    .dataframe tbody tr th:only-of-type {\n",
       "        vertical-align: middle;\n",
       "    }\n",
       "\n",
       "    .dataframe tbody tr th {\n",
       "        vertical-align: top;\n",
       "    }\n",
       "\n",
       "    .dataframe thead th {\n",
       "        text-align: right;\n",
       "    }\n",
       "</style>\n",
       "<table border=\"1\" class=\"dataframe\">\n",
       "  <thead>\n",
       "    <tr style=\"text-align: right;\">\n",
       "      <th></th>\n",
       "      <th>year</th>\n",
       "      <th>num_fires</th>\n",
       "      <th>total_distance</th>\n",
       "      <th>avg_distance</th>\n",
       "      <th>total_acres</th>\n",
       "      <th>avg_acres</th>\n",
       "    </tr>\n",
       "  </thead>\n",
       "  <tbody>\n",
       "    <tr>\n",
       "      <th>0</th>\n",
       "      <td>1963</td>\n",
       "      <td>354</td>\n",
       "      <td>216945.788842</td>\n",
       "      <td>612.841211</td>\n",
       "      <td>246695.413455</td>\n",
       "      <td>696.879699</td>\n",
       "    </tr>\n",
       "    <tr>\n",
       "      <th>1</th>\n",
       "      <td>1964</td>\n",
       "      <td>356</td>\n",
       "      <td>205524.543055</td>\n",
       "      <td>577.316132</td>\n",
       "      <td>440219.630088</td>\n",
       "      <td>1236.571995</td>\n",
       "    </tr>\n",
       "    <tr>\n",
       "      <th>2</th>\n",
       "      <td>1965</td>\n",
       "      <td>317</td>\n",
       "      <td>169980.913529</td>\n",
       "      <td>536.217393</td>\n",
       "      <td>238800.072577</td>\n",
       "      <td>753.312532</td>\n",
       "    </tr>\n",
       "    <tr>\n",
       "      <th>3</th>\n",
       "      <td>1966</td>\n",
       "      <td>408</td>\n",
       "      <td>246900.356642</td>\n",
       "      <td>605.147933</td>\n",
       "      <td>696522.359246</td>\n",
       "      <td>1707.162645</td>\n",
       "    </tr>\n",
       "    <tr>\n",
       "      <th>4</th>\n",
       "      <td>1967</td>\n",
       "      <td>419</td>\n",
       "      <td>252382.330462</td>\n",
       "      <td>602.344464</td>\n",
       "      <td>476686.936537</td>\n",
       "      <td>1137.677653</td>\n",
       "    </tr>\n",
       "  </tbody>\n",
       "</table>\n",
       "</div>"
      ],
      "text/plain": [
       "   year  num_fires  total_distance  avg_distance    total_acres    avg_acres\n",
       "0  1963        354   216945.788842    612.841211  246695.413455   696.879699\n",
       "1  1964        356   205524.543055    577.316132  440219.630088  1236.571995\n",
       "2  1965        317   169980.913529    536.217393  238800.072577   753.312532\n",
       "3  1966        408   246900.356642    605.147933  696522.359246  1707.162645\n",
       "4  1967        419   252382.330462    602.344464  476686.936537  1137.677653"
      ]
     },
     "execution_count": 260,
     "metadata": {},
     "output_type": "execute_result"
    }
   ],
   "source": [
    "# Create dataframe and aggregate values\n",
    "pivot_df = year_dist_acres_df.groupby('year').agg({'distance': ['count', 'sum', 'mean'], 'acres': ['sum', 'mean']})\n",
    "pivot_df.columns = ['num_fires', 'total_distance', 'avg_distance', 'total_acres', 'avg_acres']\n",
    "pivot_df = pivot_df.reset_index()\n",
    "\n",
    "# Show head of dataframe\n",
    "pivot_df.head()"
   ]
  },
  {
   "cell_type": "code",
   "execution_count": 261,
   "id": "d423f5de",
   "metadata": {},
   "outputs": [
    {
     "name": "stdout",
     "output_type": "stream",
     "text": [
      "min total distance: 169980.9135291853\n",
      "max total distance: 2414046.8916113144\n",
      "min total acres: 189029.2575176324\n",
      "max total acres: 9352218.527754715\n"
     ]
    }
   ],
   "source": [
    "# Look at min and max values\n",
    "\n",
    "# Min total distance\n",
    "print('min total distance:', min(pivot_df['total_distance']))\n",
    "\n",
    "# Max total distance\n",
    "print('max total distance:', max(pivot_df['total_distance']))\n",
    "\n",
    "# Min total acres\n",
    "print('min total acres:', min(pivot_df['total_acres']))\n",
    "\n",
    "# Max total acres\n",
    "print('max total acres:', max(pivot_df['total_acres']))"
   ]
  },
  {
   "cell_type": "code",
   "execution_count": 262,
   "id": "47b28485",
   "metadata": {
    "scrolled": true
   },
   "outputs": [
    {
     "data": {
      "image/png": "[encoded data removed]",
      "text/plain": [
       "<Figure size 432x288 with 1 Axes>"
      ]
     },
     "metadata": {
      "needs_background": "light"
     },
     "output_type": "display_data"
    }
   ],
   "source": [
    "# Plot looking at total distance\n",
    "plt.bar(pivot_df['year'], pivot_df['total_distance'])\n",
    "plt.title(\"Total Distance of Fires by Year\")\n",
    "plt.ylabel(\"Total Distance (mi)\")\n",
    "plt.xlabel(\"Year\")\n",
    "plt.show()"
   ]
  },
  {
   "cell_type": "code",
   "execution_count": 263,
   "id": "91724b60",
   "metadata": {
    "scrolled": true
   },
   "outputs": [
    {
     "data": {
      "image/png": "[encoded data removed]",
      "text/plain": [
       "<Figure size 432x288 with 1 Axes>"
      ]
     },
     "metadata": {
      "needs_background": "light"
     },
     "output_type": "display_data"
    }
   ],
   "source": [
    "# Plot looking at total area\n",
    "plt.bar(pivot_df['year'], pivot_df['total_acres'])\n",
    "plt.title(\"Total Area of Fires by Year\")\n",
    "plt.ylabel(\"Total Area (acres)\")\n",
    "plt.xlabel(\"Year\")\n",
    "plt.show()"
   ]
  },
  {
   "cell_type": "markdown",
   "id": "4bc7c9af",
   "metadata": {},
   "source": [
    "As shown above, the total distance from the fires increased over the years, with some periodicity in values over the years. There is a lot of periodicity in the total area of fires by year, but there is a clear upwards trend. This is to be expected, as we observed earlier that the number of fires steadily increased. Now, we will look at the averages for each of these measures to see if the type of fires changed over time. Were the fires that occurred more severe (as measured by the total area covered, and the proximity to the city) on average in later years?"
   ]
  },
  {
   "cell_type": "code",
   "execution_count": 264,
   "id": "4de8376b",
   "metadata": {
    "scrolled": true
   },
   "outputs": [
    {
     "data": {
      "image/png": "[encoded data removed]",
      "text/plain": [
       "<Figure size 432x288 with 1 Axes>"
      ]
     },
     "metadata": {
      "needs_background": "light"
     },
     "output_type": "display_data"
    }
   ],
   "source": [
    "# Plot looking at avg distance\n",
    "plt.bar(pivot_df['year'], pivot_df['avg_distance'])\n",
    "plt.title(\"Average Distance of Fires by Year\")\n",
    "plt.ylabel(\"Distance (mi)\")\n",
    "plt.xlabel(\"Year\")\n",
    "plt.show()"
   ]
  },
  {
   "cell_type": "code",
   "execution_count": 265,
   "id": "f80c2312",
   "metadata": {},
   "outputs": [
    {
     "data": {
      "image/png": "[encoded data removed]",
      "text/plain": [
       "<Figure size 432x288 with 1 Axes>"
      ]
     },
     "metadata": {
      "needs_background": "light"
     },
     "output_type": "display_data"
    }
   ],
   "source": [
    "# Plot looking at avg area\n",
    "plt.bar(pivot_df['year'], pivot_df['avg_acres'])\n",
    "plt.title(\"Average Area of Fires by Year\")\n",
    "plt.ylabel(\"Area (acres)\")\n",
    "plt.xlabel(\"Year\")\n",
    "plt.show()"
   ]
  },
  {
   "cell_type": "markdown",
   "id": "6db272a0",
   "metadata": {},
   "source": [
    "Looking at the plots above, there is no clear trend in the average distance of the fires from the city, or the average area of the fires over the years. Thus, I assume that on average, the severity of individual fires did not significantly change year over year."
   ]
  },
  {
   "cell_type": "markdown",
   "id": "91e26905",
   "metadata": {},
   "source": [
    "### Creating an Estimate"
   ]
  },
  {
   "cell_type": "markdown",
   "id": "512da514",
   "metadata": {},
   "source": [
    "I will now define an annual smoke estimate for Longview, based on the distance of each fire from the city, the area covered by each fire, and the number of fires that occurred each year. I will use a weighted average of each of these variables to form my estimate.\n",
    "\n",
    "In addition, I will structure my estimates so that my values range from 0 to 500. This is because, I will eventually be comparing my smoke estimates to air quality index (AQI) estimates. This index also uses values that primarily range from 0 to 500."
   ]
  },
  {
   "cell_type": "markdown",
   "id": "c3be0fdf",
   "metadata": {},
   "source": [
    "We will first assign each fire a score between 0 and 100, by scaling the distance of the fire. This score will be based on an inverse linear relationship; fires that occurred at a closer distance will receive a higher score (as this is associated with a higher smoke impact), and fires that occurred further away will receive a lower score (as they likely resulted in a lower smoke impact).\n",
    "\n",
    "We will scale this estimate and consider 3,000 miles to be the greatest possible distance, even though we are only considering fires that occurred within 1,250 miles of Longview. This is because, this [article by NPR](https://www.npr.org/2021/07/21/1018865569/the-western-wildfires-are-affecting-people-3-000-miles-away) describes how smoke from recent fires back in 2021 affected people up to 3,000 miles away."
   ]
  },
  {
   "cell_type": "code",
   "execution_count": 266,
   "id": "2c8a0952",
   "metadata": {},
   "outputs": [],
   "source": [
    "# Distance score estimate transformation\n",
    "# Divide distance by 1250 to find percent, then multiply by 100 to scale\n",
    "# Subtract from 100 as this is an inverse relationship\n",
    "distance_score = 100 - ((year_dist_acres_df['distance'] / 3000) * 100)"
   ]
  },
  {
   "cell_type": "markdown",
   "id": "e5a0df11",
   "metadata": {},
   "source": [
    "Now, we will similarly assign each fire a score between 0 and 100 based on the area covered by the fire. \n",
    "\n",
    "In this case, we will use a linear relationship, as we assume that fires with a greater area will result in a greater smoke impact.\n",
    "\n",
    "This [article published by USA Today](https://www.usatoday.com/story/news/nation/2023/06/08/largest-us-wildfires-history/70302872007/) outlines the biggest wildfires in the history of the United States. As the 2020 wildfires in California were the largest and covered an estimated 4.4 million acres, we will consider this value to be the greatest area."
   ]
  },
  {
   "cell_type": "code",
   "execution_count": 267,
   "id": "9be7a8ea",
   "metadata": {},
   "outputs": [],
   "source": [
    "# Area score estimate transformation\n",
    "area_score = ((year_dist_acres_df['acres'])/4400000)*100"
   ]
  },
  {
   "cell_type": "markdown",
   "id": "8be98990",
   "metadata": {},
   "source": [
    "We will combine the distance score estimate and area score estimate to assign an overall fire estimate for each fire. We will add these values together to assign a score from 0 to 200 for each fire. We have chosen to weight the distance and area measures equally, as I believe they both contribute equally to smoke impact."
   ]
  },
  {
   "cell_type": "code",
   "execution_count": 268,
   "id": "80a53a37",
   "metadata": {},
   "outputs": [],
   "source": [
    "# Combine scores\n",
    "fire_score = distance_score + area_score"
   ]
  },
  {
   "cell_type": "code",
   "execution_count": 269,
   "id": "d76d2d90",
   "metadata": {},
   "outputs": [
    {
     "data": {
      "image/png": "[encoded data removed]",
      "text/plain": [
       "<Figure size 432x288 with 1 Axes>"
      ]
     },
     "metadata": {
      "needs_background": "light"
     },
     "output_type": "display_data"
    }
   ],
   "source": [
    "plt.hist(fire_score)\n",
    "plt.title('Histogram of Fire Score')\n",
    "plt.show()"
   ]
  },
  {
   "cell_type": "markdown",
   "id": "7fb42899",
   "metadata": {},
   "source": [
    "As shown above, the overall fire scores range from 0 to 110, and are approximately centered around 85 with a right skew.\n",
    "\n",
    "Now that we have a score for each fire, we will compute an average fire score for each year. This is calculated by adding all the fire scores for each year, and dividing by the number of fires that occurred in that year."
   ]
  },
  {
   "cell_type": "code",
   "execution_count": 270,
   "id": "2177edea",
   "metadata": {},
   "outputs": [],
   "source": [
    "# Add fire score column to df\n",
    "year_dist_acres_df['fire_score'] = fire_score"
   ]
  },
  {
   "cell_type": "code",
   "execution_count": 376,
   "id": "c154ba0a",
   "metadata": {
    "scrolled": false
   },
   "outputs": [
    {
     "data": {
      "text/html": [
       "<div>\n",
       "<style scoped>\n",
       "    .dataframe tbody tr th:only-of-type {\n",
       "        vertical-align: middle;\n",
       "    }\n",
       "\n",
       "    .dataframe tbody tr th {\n",
       "        vertical-align: top;\n",
       "    }\n",
       "\n",
       "    .dataframe thead th {\n",
       "        text-align: right;\n",
       "    }\n",
       "</style>\n",
       "<table border=\"1\" class=\"dataframe\">\n",
       "  <thead>\n",
       "    <tr style=\"text-align: right;\">\n",
       "      <th></th>\n",
       "      <th>year</th>\n",
       "      <th>fire_score</th>\n",
       "    </tr>\n",
       "  </thead>\n",
       "  <tbody>\n",
       "    <tr>\n",
       "      <th>0</th>\n",
       "      <td>1963</td>\n",
       "      <td>79.587798</td>\n",
       "    </tr>\n",
       "    <tr>\n",
       "      <th>1</th>\n",
       "      <td>1964</td>\n",
       "      <td>80.784233</td>\n",
       "    </tr>\n",
       "    <tr>\n",
       "      <th>2</th>\n",
       "      <td>1965</td>\n",
       "      <td>82.143208</td>\n",
       "    </tr>\n",
       "    <tr>\n",
       "      <th>3</th>\n",
       "      <td>1966</td>\n",
       "      <td>79.867201</td>\n",
       "    </tr>\n",
       "    <tr>\n",
       "      <th>4</th>\n",
       "      <td>1967</td>\n",
       "      <td>79.947708</td>\n",
       "    </tr>\n",
       "  </tbody>\n",
       "</table>\n",
       "</div>"
      ],
      "text/plain": [
       "   year  fire_score\n",
       "0  1963   79.587798\n",
       "1  1964   80.784233\n",
       "2  1965   82.143208\n",
       "3  1966   79.867201\n",
       "4  1967   79.947708"
      ]
     },
     "execution_count": 376,
     "metadata": {},
     "output_type": "execute_result"
    }
   ],
   "source": [
    "# Calculate mean 'fire score' for each year\n",
    "\n",
    "average_fire_score_by_year = year_dist_acres_df.groupby('year')['fire_score'].mean()\n",
    "average_fire_score_by_year = average_fire_score_by_year.reset_index()\n",
    "\n",
    "# View head of data\n",
    "average_fire_score_by_year.head()"
   ]
  },
  {
   "cell_type": "markdown",
   "id": "df28748f",
   "metadata": {},
   "source": [
    "Now that we have an average fire score for every year, we will multiply this by a value from 0 to 2.5 based on the number of fires that occurred in that year. This is because, I believe that the number of fires that occurred in the area has a multiplicative impact on annual smoke.\n",
    "\n",
    "This will adapt our estimator to take the number of fires into account. As our fire score estimates ranged between 0 and 200, our final estimator will range between 0 and 500.\n",
    "\n",
    "We will calculate our number of fires estimator by scaling the number of fires to a value from 0 to 2.5. According to this [Wikipedia article](https://en.wikipedia.org/wiki/List_of_California_wildfires) regarding the California wildfires (2020) mentioned above, there were 9,639 fires that took place. Thus, we will round and consider 9,650 to be the largest number when scaling."
   ]
  },
  {
   "cell_type": "code",
   "execution_count": 377,
   "id": "0efcb72a",
   "metadata": {
    "scrolled": false
   },
   "outputs": [
    {
     "data": {
      "text/html": [
       "<div>\n",
       "<style scoped>\n",
       "    .dataframe tbody tr th:only-of-type {\n",
       "        vertical-align: middle;\n",
       "    }\n",
       "\n",
       "    .dataframe tbody tr th {\n",
       "        vertical-align: top;\n",
       "    }\n",
       "\n",
       "    .dataframe thead th {\n",
       "        text-align: right;\n",
       "    }\n",
       "</style>\n",
       "<table border=\"1\" class=\"dataframe\">\n",
       "  <thead>\n",
       "    <tr style=\"text-align: right;\">\n",
       "      <th></th>\n",
       "      <th>year</th>\n",
       "      <th>fire_score</th>\n",
       "      <th>num_estimate</th>\n",
       "      <th>annual_estimate</th>\n",
       "    </tr>\n",
       "  </thead>\n",
       "  <tbody>\n",
       "    <tr>\n",
       "      <th>0</th>\n",
       "      <td>1963</td>\n",
       "      <td>79.587798</td>\n",
       "      <td>0.249296</td>\n",
       "      <td>19.840902</td>\n",
       "    </tr>\n",
       "    <tr>\n",
       "      <th>1</th>\n",
       "      <td>1964</td>\n",
       "      <td>80.784233</td>\n",
       "      <td>0.250704</td>\n",
       "      <td>20.252949</td>\n",
       "    </tr>\n",
       "    <tr>\n",
       "      <th>2</th>\n",
       "      <td>1965</td>\n",
       "      <td>82.143208</td>\n",
       "      <td>0.223239</td>\n",
       "      <td>18.337603</td>\n",
       "    </tr>\n",
       "    <tr>\n",
       "      <th>3</th>\n",
       "      <td>1966</td>\n",
       "      <td>79.867201</td>\n",
       "      <td>0.287324</td>\n",
       "      <td>22.947759</td>\n",
       "    </tr>\n",
       "    <tr>\n",
       "      <th>4</th>\n",
       "      <td>1967</td>\n",
       "      <td>79.947708</td>\n",
       "      <td>0.295070</td>\n",
       "      <td>23.590204</td>\n",
       "    </tr>\n",
       "  </tbody>\n",
       "</table>\n",
       "</div>"
      ],
      "text/plain": [
       "   year  fire_score  num_estimate  annual_estimate\n",
       "0  1963   79.587798      0.249296        19.840902\n",
       "1  1964   80.784233      0.250704        20.252949\n",
       "2  1965   82.143208      0.223239        18.337603\n",
       "3  1966   79.867201      0.287324        22.947759\n",
       "4  1967   79.947708      0.295070        23.590204"
      ]
     },
     "execution_count": 377,
     "metadata": {},
     "output_type": "execute_result"
    }
   ],
   "source": [
    "# Number of fires estimate transformation\n",
    "\n",
    "num_estimate = ((pivot_df['num_fires'])/3550)*2.5\n",
    "\n",
    "# Add column to average_fire_score_by_year df\n",
    "average_fire_score_by_year['num_estimate'] = num_estimate\n",
    "\n",
    "# Multiply fire_score by num_estimate for final estimator\n",
    "average_fire_score_by_year['annual_estimate'] = average_fire_score_by_year['fire_score']*average_fire_score_by_year['num_estimate']\n",
    "\n",
    "# View data\n",
    "average_fire_score_by_year.head()"
   ]
  },
  {
   "cell_type": "markdown",
   "id": "c7f01eea",
   "metadata": {},
   "source": [
    "## Data Acquisition: AQI Measures"
   ]
  },
  {
   "cell_type": "markdown",
   "id": "b9c902c1",
   "metadata": {},
   "source": [
    "Now, we want to compare our smoke estimates to Air Quality Index (AQI) measures.  AQI is used to estimate how healthy the air is on a particular day. More information on how the AQI is measured is available at this [link](https://www.airnow.gov/sites/default/files/2020-05/aqi-technical-assistance-document-sept2018.pdf).\n",
    "\n",
    "We obtain AQI data using the US Environmental Protection Agency (EPA) Air Quality Service (AQS) API. Documentation for this API is accessible at this [link](https://aqs.epa.gov/aqsweb/documents/data_api.html).\n",
    "\n",
    "Code in an example notebook, [US EPA Air Quality System API Example](https://drive.google.com/file/d/1bxl9qrb_52RocKNGfbZ5znHVqFDMkUzf/view?usp=drive_link), provided by Dr. David W McDonald, has been modified and used below. This code has been provided under the [Creative Commons](https://creativecommons.org) [CC-BY license](https://creativecommons.org/licenses/by/4.0/). Revision 1.1 - September 5, 2023."
   ]
  },
  {
   "cell_type": "code",
   "execution_count": 79,
   "id": "346a36cf",
   "metadata": {},
   "outputs": [],
   "source": [
    "# Code from Dr. McDonald\n",
    "#    These are standard python modules\n",
    "#\n",
    "#import json, time, urllib.parse\n",
    "import json, time\n",
    "#\n",
    "#    The 'requests' module is a distribution module for making web requests.\n",
    "#\n",
    "import requests"
   ]
  },
  {
   "cell_type": "markdown",
   "id": "5f383b6e",
   "metadata": {},
   "source": [
    "We first create constants that we will use later on in our API call."
   ]
  },
  {
   "cell_type": "code",
   "execution_count": 80,
   "id": "7488e1ce",
   "metadata": {},
   "outputs": [],
   "source": [
    "# Code from Dr. McDonald\n",
    "#\n",
    "#    CONSTANTS\n",
    "#\n",
    "\n",
    "#\n",
    "#    This is the root of all AQS API URLs\n",
    "#\n",
    "API_REQUEST_URL = 'https://aqs.epa.gov/data/api'\n",
    "\n",
    "#\n",
    "#    These are 'actions' we can ask the API to take or requests that we can make of the API\n",
    "#\n",
    "#    Sign-up request - generally only performed once - unless you lose your key\n",
    "API_ACTION_SIGNUP = '/signup?email={email}'\n",
    "#\n",
    "#    List actions provide information on API parameter values that are required by some other actions/requests\n",
    "API_ACTION_LIST_CLASSES = '/list/classes?email={email}&key={key}'\n",
    "API_ACTION_LIST_PARAMS = '/list/parametersByClass?email={email}&key={key}&pc={pclass}'\n",
    "API_ACTION_LIST_SITES = '/list/sitesByCounty?email={email}&key={key}&state={state}&county={county}'\n",
    "#\n",
    "#    Monitor actions are requests for monitoring stations that meet specific criteria\n",
    "API_ACTION_MONITORS_COUNTY = '/monitors/byCounty?email={email}&key={key}&param={param}&bdate={begin_date}&edate={end_date}&state={state}&county={county}'\n",
    "API_ACTION_MONITORS_BOX = '/monitors/byBox?email={email}&key={key}&param={param}&bdate={begin_date}&edate={end_date}&minlat={minlat}&maxlat={maxlat}&minlon={minlon}&maxlon={maxlon}'\n",
    "\n",
    "#    Summary actions are requests for summary data. These are for daily summaries\n",
    "API_ACTION_DAILY_SUMMARY_COUNTY = '/dailyData/byCounty?email={email}&key={key}&param={param}&bdate={begin_date}&edate={end_date}&state={state}&county={county}'\n",
    "API_ACTION_DAILY_SUMMARY_BOX = '/dailyData/byBox?email={email}&key={key}&param={param}&bdate={begin_date}&edate={end_date}&minlat={minlat}&maxlat={maxlat}&minlon={minlon}&maxlon={maxlon}'\n",
    "#    It is always nice to be respectful of a free data resource.\n",
    "#    We're going to observe a 100 requests per minute limit - which is fairly nice\n",
    "API_LATENCY_ASSUMED = 0.002       # Assuming roughly 2ms latency on the API and network\n",
    "API_THROTTLE_WAIT = (1.0/100.0)-API_LATENCY_ASSUMED\n",
    "#\n",
    "#\n",
    "#    This is a template that covers most of the parameters for the actions we might take, from the set of actions\n",
    "#    above. In the examples below, most of the time parameters can either be supplied as individual values to a\n",
    "#    function - or they can be set in a copy of the template and passed in with the template.\n",
    "# \n",
    "AQS_REQUEST_TEMPLATE = {\n",
    "    \"email\":      \"\",     \n",
    "    \"key\":        \"\",      \n",
    "    \"state\":      \"\",     # the two digit state FIPS # as a string\n",
    "    \"county\":     \"\",     # the three digit county FIPS # as a string\n",
    "    \"begin_date\": \"\",     # the start of a time window in YYYYMMDD format\n",
    "    \"end_date\":   \"\",     # the end of a time window in YYYYMMDD format, begin_date and end_date must be in the same year\n",
    "    \"minlat\":    0.0,\n",
    "    \"maxlat\":    0.0,\n",
    "    \"minlon\":    0.0,\n",
    "    \"maxlon\":    0.0,\n",
    "    \"param\":     \"\",     # a list of comma separated 5 digit codes, max 5 codes requested\n",
    "    \"pclass\":    \"\"      # parameter class is only used by the List calls\n",
    "}"
   ]
  },
  {
   "cell_type": "markdown",
   "id": "84033275",
   "metadata": {},
   "source": [
    "The code below creates a function, *request_signup*, which facilitates the API sign up request."
   ]
  },
  {
   "cell_type": "code",
   "execution_count": 81,
   "id": "45ea6196",
   "metadata": {},
   "outputs": [],
   "source": [
    "# Code from Dr. McDonald\n",
    "#    This implements the sign-up request. The parameters are standardized so that this function definition matches\n",
    "#    all of the others. However, the easiest way to call this is to simply call this function with your preferred\n",
    "#    email address.\n",
    "#\n",
    "def request_signup(email_address = None,\n",
    "                   endpoint_url = API_REQUEST_URL, \n",
    "                   endpoint_action = API_ACTION_SIGNUP, \n",
    "                   request_template = AQS_REQUEST_TEMPLATE,\n",
    "                   headers = None):\n",
    "    \n",
    "    # Make sure we have a string - if you don't have access to this email addres, things might go badly for you\n",
    "    if email_address:\n",
    "        request_template['email'] = email_address        \n",
    "    if not request_template['email']: \n",
    "        raise Exception(\"Must supply an email address to call 'request_signup()'\")\n",
    "    \n",
    "    # Compose the signup url - create a request URL by combining the endpoint_url with the parameters for the request\n",
    "    request_url = endpoint_url+endpoint_action.format(**request_template)\n",
    "        \n",
    "    # make the request\n",
    "    try:\n",
    "        # Wait first, to make sure we don't exceed a rate limit in the situation where an exception occurs\n",
    "        # during the request processing - throttling is always a good practice with a free data source\n",
    "        if API_THROTTLE_WAIT > 0.0:\n",
    "            time.sleep(API_THROTTLE_WAIT)\n",
    "        response = requests.get(request_url, headers=headers)\n",
    "        json_response = response.json()\n",
    "    except Exception as e:\n",
    "        print(e)\n",
    "        json_response = None\n",
    "    return json_response"
   ]
  },
  {
   "cell_type": "markdown",
   "id": "f062e743",
   "metadata": {},
   "source": [
    "I use the function below to specify my email address and request a key. The code should only be run once, and is thus commented out to avoid running again."
   ]
  },
  {
   "cell_type": "code",
   "execution_count": 82,
   "id": "0c7d715d",
   "metadata": {},
   "outputs": [],
   "source": [
    "# Code from Dr. McDonald\n",
    "#    A SIGNUP request is only to be done once, to request a key. A key is sent to that email address and needs to be confirmed with a click through\n",
    "#    This code should probably be commented out after you've made your key request to make sure you don't accidentally make a new sign-up request\n",
    "#\n",
    "#print(\"Requesting SIGNUP ...\")\n",
    "#response = request_signup(\"tejalk@uw.edu\")\n",
    "#print(json.dumps(response,indent=4))\n",
    "#"
   ]
  },
  {
   "cell_type": "markdown",
   "id": "5eccd6f5",
   "metadata": {},
   "source": [
    "Upon running the code above, you will receive an email with your API key and a link asking you to confirm your email address. My username and API key are saved in the variables below."
   ]
  },
  {
   "cell_type": "code",
   "execution_count": 83,
   "id": "06cb3ed5",
   "metadata": {},
   "outputs": [],
   "source": [
    "# Save username and api key\n",
    "USERNAME = \"tejalk@uw.edu\"\n",
    "APIKEY = \"tealfox37\""
   ]
  },
  {
   "cell_type": "markdown",
   "id": "422dbc5b",
   "metadata": {},
   "source": [
    "I create a function, *request_list_info* to implement a list request. This will allow me to request information regarding lists using the AQI API."
   ]
  },
  {
   "cell_type": "code",
   "execution_count": 86,
   "id": "9bbe8a37",
   "metadata": {},
   "outputs": [],
   "source": [
    "# Code from Dr. McDonald\n",
    "#    This implements the list request. There are several versions of the list request that only require email and key.\n",
    "#    This code sets the default action/requests to list the groups or parameter class descriptors. Having those descriptors \n",
    "#    allows one to request the individual (proprietary) 5 digit codes for individual air quality measures by using the\n",
    "#    param request. Some code in later cells will illustrate those requests.\n",
    "#\n",
    "def request_list_info(email_address = None, key = None,\n",
    "                      endpoint_url = API_REQUEST_URL, \n",
    "                      endpoint_action = API_ACTION_LIST_CLASSES, \n",
    "                      request_template = AQS_REQUEST_TEMPLATE,\n",
    "                      headers = None):\n",
    "    \n",
    "    #  Make sure we have email and key - at least\n",
    "    #  This prioritizes the info from the call parameters - not what's already in the template\n",
    "    if email_address:\n",
    "        request_template['email'] = email_address\n",
    "    if key:\n",
    "        request_template['key'] = key\n",
    "    \n",
    "    # For the basic request we need an email address and a key\n",
    "    if not request_template['email']:\n",
    "        raise Exception(\"Must supply an email address to call 'request_list_info()'\")\n",
    "    if not request_template['key']: \n",
    "        raise Exception(\"Must supply a key to call 'request_list_info()'\")\n",
    "\n",
    "    # compose the request\n",
    "    request_url = endpoint_url+endpoint_action.format(**request_template)\n",
    "        \n",
    "    # make the request\n",
    "    try:\n",
    "        # Wait first, to make sure we don't exceed a rate limit in the situation where an exception occurs\n",
    "        # during the request processing - throttling is always a good practice with a free data source\n",
    "        if API_THROTTLE_WAIT > 0.0:\n",
    "            time.sleep(API_THROTTLE_WAIT)\n",
    "        response = requests.get(request_url, headers=headers)\n",
    "        json_response = response.json()\n",
    "    except Exception as e:\n",
    "        print(e)\n",
    "        json_response = None\n",
    "    return json_response"
   ]
  },
  {
   "cell_type": "markdown",
   "id": "fb5928ea",
   "metadata": {},
   "source": [
    "I utilize this function to see the possible parameter classes that I can obtain data for using this API. Based on the options, I find that I am interested in observing the *AQI Pollutants* class. "
   ]
  },
  {
   "cell_type": "code",
   "execution_count": 89,
   "id": "13674b3a",
   "metadata": {},
   "outputs": [
    {
     "name": "stdout",
     "output_type": "stream",
     "text": [
      "[\n",
      "    {\n",
      "        \"code\": \"AIRNOW MAPS\",\n",
      "        \"value_represented\": \"The parameters represented on AirNow maps (88101, 88502, and 44201)\"\n",
      "    },\n",
      "    {\n",
      "        \"code\": \"ALL\",\n",
      "        \"value_represented\": \"Select all Parameters Available\"\n",
      "    },\n",
      "    {\n",
      "        \"code\": \"AQI POLLUTANTS\",\n",
      "        \"value_represented\": \"Pollutants that have an AQI Defined\"\n",
      "    },\n",
      "    {\n",
      "        \"code\": \"CORE_HAPS\",\n",
      "        \"value_represented\": \"Urban Air Toxic Pollutants\"\n",
      "    },\n",
      "    {\n",
      "        \"code\": \"CRITERIA\",\n",
      "        \"value_represented\": \"Criteria Pollutants\"\n",
      "    },\n",
      "    {\n",
      "        \"code\": \"CSN DART\",\n",
      "        \"value_represented\": \"List of CSN speciation parameters to populate the STI DART tool\"\n",
      "    },\n",
      "    {\n",
      "        \"code\": \"FORECAST\",\n",
      "        \"value_represented\": \"Parameters routinely extracted by AirNow (STI)\"\n",
      "    },\n",
      "    {\n",
      "        \"code\": \"HAPS\",\n",
      "        \"value_represented\": \"Hazardous Air Pollutants\"\n",
      "    },\n",
      "    {\n",
      "        \"code\": \"IMPROVE CARBON\",\n",
      "        \"value_represented\": \"IMPROVE Carbon Parameters\"\n",
      "    },\n",
      "    {\n",
      "        \"code\": \"IMPROVE_SPECIATION\",\n",
      "        \"value_represented\": \"PM2.5 Speciated Parameters Measured at IMPROVE sites\"\n",
      "    },\n",
      "    {\n",
      "        \"code\": \"MET\",\n",
      "        \"value_represented\": \"Meteorological Parameters\"\n",
      "    },\n",
      "    {\n",
      "        \"code\": \"NATTS CORE HAPS\",\n",
      "        \"value_represented\": \"The core list of toxics of interest to the NATTS program.\"\n",
      "    },\n",
      "    {\n",
      "        \"code\": \"NATTS REQUIRED\",\n",
      "        \"value_represented\": \"Required compounds to be collected in the National Air Toxics Network\"\n",
      "    },\n",
      "    {\n",
      "        \"code\": \"PAMS\",\n",
      "        \"value_represented\": \"Photochemical Assessment Monitoring System\"\n",
      "    },\n",
      "    {\n",
      "        \"code\": \"PAMS_VOC\",\n",
      "        \"value_represented\": \"Volatile Organic Compound subset of the PAMS Parameters\"\n",
      "    },\n",
      "    {\n",
      "        \"code\": \"PM COARSE\",\n",
      "        \"value_represented\": \"PM between 2.5 and 10 micrometers\"\n",
      "    },\n",
      "    {\n",
      "        \"code\": \"PM10 SPECIATION\",\n",
      "        \"value_represented\": \"PM10 Speciated Parameters\"\n",
      "    },\n",
      "    {\n",
      "        \"code\": \"PM2.5 CONT NONREF\",\n",
      "        \"value_represented\": \"PM2.5 Continuous, Nonreference Methods\"\n",
      "    },\n",
      "    {\n",
      "        \"code\": \"PM2.5 MASS/QA\",\n",
      "        \"value_represented\": \"PM2.5 Mass and QA Parameters\"\n",
      "    },\n",
      "    {\n",
      "        \"code\": \"SCHOOL AIR TOXICS\",\n",
      "        \"value_represented\": \"School Air Toxics Program Parameters\"\n",
      "    },\n",
      "    {\n",
      "        \"code\": \"SPECIATION\",\n",
      "        \"value_represented\": \"PM2.5 Speciated Parameters\"\n",
      "    },\n",
      "    {\n",
      "        \"code\": \"SPECIATION CARBON\",\n",
      "        \"value_represented\": \"PM2.5 Speciation Carbon Parameters\"\n",
      "    },\n",
      "    {\n",
      "        \"code\": \"SPECIATION CATION/ANION\",\n",
      "        \"value_represented\": \"PM2.5 Speciation Cation/Anion Parameters\"\n",
      "    },\n",
      "    {\n",
      "        \"code\": \"SPECIATION METALS\",\n",
      "        \"value_represented\": \"PM2.5 Speciation Metal Parameters\"\n",
      "    },\n",
      "    {\n",
      "        \"code\": \"UATMP CARBONYL\",\n",
      "        \"value_represented\": \"Urban Air Toxics Monitoring Program Carbonyls\"\n",
      "    },\n",
      "    {\n",
      "        \"code\": \"UATMP VOC\",\n",
      "        \"value_represented\": \"Urban Air Toxics Monitoring Program VOCs\"\n",
      "    },\n",
      "    {\n",
      "        \"code\": \"VOC\",\n",
      "        \"value_represented\": \"Volatile organic compounds\"\n",
      "    }\n",
      "]\n"
     ]
    }
   ],
   "source": [
    "# Code from Dr. McDonald\n",
    "#   The default should get us a list of the various groups or classes of sensors. These classes are user defined names for clustors of\n",
    "#   sensors that might be part of a package or default air quality sensing station. We need a class name to start getting down to the\n",
    "#   a sensor ID. Each sensor type has an ID number. We'll eventually need those ID numbers to be able to request values that come from\n",
    "#   that specific sensor.\n",
    "#\n",
    "request_data = AQS_REQUEST_TEMPLATE.copy()\n",
    "request_data['email'] = USERNAME\n",
    "request_data['key'] = APIKEY\n",
    "\n",
    "response = request_list_info(request_template=request_data)\n",
    "\n",
    "if response[\"Header\"][0]['status'] == \"Success\":\n",
    "    print(json.dumps(response['Data'],indent=4))\n",
    "else:\n",
    "    print(json.dumps(response,indent=4))"
   ]
  },
  {
   "cell_type": "markdown",
   "id": "914aa0b5",
   "metadata": {},
   "source": [
    "As I am interested in information regarding AQI measures, I specify this in a constant below. Then, I view the all the sensors in the *AQI Pollutants* class. The output below shows me sensor numbers as well as a description or name for each sensor."
   ]
  },
  {
   "cell_type": "code",
   "execution_count": 90,
   "id": "10f6de7f",
   "metadata": {},
   "outputs": [],
   "source": [
    "# Code from Dr. McDonald\n",
    "#   Once we have a list of the classes or groups of possible sensors, we can find the sensor IDs that make up that class (group)\n",
    "#   The one that looks to be associated with the Air Quality Index is \"AQI POLLUTANTS\"\n",
    "#   We'll use that to make another list request.\n",
    "#\n",
    "AQI_PARAM_CLASS = \"AQI POLLUTANTS\""
   ]
  },
  {
   "cell_type": "code",
   "execution_count": 91,
   "id": "382a3174",
   "metadata": {},
   "outputs": [
    {
     "name": "stdout",
     "output_type": "stream",
     "text": [
      "[\n",
      "    {\n",
      "        \"code\": \"42101\",\n",
      "        \"value_represented\": \"Carbon monoxide\"\n",
      "    },\n",
      "    {\n",
      "        \"code\": \"42401\",\n",
      "        \"value_represented\": \"Sulfur dioxide\"\n",
      "    },\n",
      "    {\n",
      "        \"code\": \"42602\",\n",
      "        \"value_represented\": \"Nitrogen dioxide (NO2)\"\n",
      "    },\n",
      "    {\n",
      "        \"code\": \"44201\",\n",
      "        \"value_represented\": \"Ozone\"\n",
      "    },\n",
      "    {\n",
      "        \"code\": \"81102\",\n",
      "        \"value_represented\": \"PM10 Total 0-10um STP\"\n",
      "    },\n",
      "    {\n",
      "        \"code\": \"88101\",\n",
      "        \"value_represented\": \"PM2.5 - Local Conditions\"\n",
      "    },\n",
      "    {\n",
      "        \"code\": \"88502\",\n",
      "        \"value_represented\": \"Acceptable PM2.5 AQI & Speciation Mass\"\n",
      "    }\n",
      "]\n"
     ]
    }
   ],
   "source": [
    "# Code from Dr. McDonald\n",
    "#   Structure a request to get the sensor IDs associated with the AQI\n",
    "#\n",
    "request_data = AQS_REQUEST_TEMPLATE.copy()\n",
    "request_data['email'] = USERNAME\n",
    "request_data['key'] = APIKEY\n",
    "request_data['pclass'] = AQI_PARAM_CLASS  # here we specify that we want this 'pclass' or parameter classs\n",
    "\n",
    "response = request_list_info(request_template=request_data, endpoint_action=API_ACTION_LIST_PARAMS)\n",
    "\n",
    "if response[\"Header\"][0]['status'] == \"Success\":\n",
    "    print(json.dumps(response['Data'],indent=4))\n",
    "else:\n",
    "    print(json.dumps(response,indent=4))"
   ]
  },
  {
   "cell_type": "markdown",
   "id": "aeac328a",
   "metadata": {},
   "source": [
    "Thus, I am interested in observing the following attributes: Carbon monoxide, Sulfur dioxide, Nitrogen dioxide (NO2), Ozone, PM10 Total 0-10um STP,  PM2.5 - Local Conditions, and Acceptable PM2.5 AQI & Speciation Mass.\n",
    "\n",
    "I break the parameters into two lists, one for gaseous pollutants and one for particulate pollutants. This is because, the API only allows for a maximum of 5 sensors per request."
   ]
  },
  {
   "cell_type": "code",
   "execution_count": 92,
   "id": "aae27004",
   "metadata": {},
   "outputs": [],
   "source": [
    "# Code from Dr. McDonald\n",
    "#   Given the set of sensor codes, now we can create a parameter list or 'param' value as defined by the AQS API spec.\n",
    "#   It turns out that we want all of these measures for AQI, but we need to have two different param constants to get\n",
    "#   all seven of the code types. We can only have a max of 5 sensors/values request per param.\n",
    "#\n",
    "#   Gaseous AQI pollutants CO, SO2, NO2, and O2\n",
    "AQI_PARAMS_GASEOUS = \"42101,42401,42602,44201\"\n",
    "#\n",
    "#   Particulate AQI pollutants PM10, PM2.5, and Acceptable PM2.5\n",
    "AQI_PARAMS_PARTICULATES = \"81102,88101,88502\""
   ]
  },
  {
   "cell_type": "markdown",
   "id": "3b904afd",
   "metadata": {},
   "source": [
    "The next step is to create a constants for the coordinates, city, state, county, and FIPS number. The FIPS number is a 5 digit string that specifies the state and county, and has been found using this [link](https://www.census.gov/library/reference/code-lists/ansi.html). Longview, Washington is located in Cowlitz county."
   ]
  },
  {
   "cell_type": "code",
   "execution_count": 93,
   "id": "1c616318",
   "metadata": {},
   "outputs": [],
   "source": [
    "# Create constants\n",
    "latlon = [46.142614, -122.965558]\n",
    "city = \"Longview\"\n",
    "state = \"Washington\"\n",
    "fips = \"53015\"\n",
    "county = \"Cowlitz\""
   ]
  },
  {
   "cell_type": "markdown",
   "id": "7f2abae3",
   "metadata": {},
   "source": [
    "To find which monitoring stations are near Longview, I will utilize a geographic bounding box. I will use a 100 mile bounding box and observe monitoring stations within 50 miles of Longview. This will allow me to obtain estimates for each of the sensors specified earlier. The function *bounding_latlon* has logic to create a rough estimate for a bounding box around a given place."
   ]
  },
  {
   "cell_type": "code",
   "execution_count": 96,
   "id": "52261deb",
   "metadata": {},
   "outputs": [],
   "source": [
    "# Code from Dr. McDonald\n",
    "\n",
    "#\n",
    "#   These are rough estimates for creating bounding boxes based on a city location\n",
    "#   You can find these rough estimates on the USGS website:\n",
    "#   https://www.usgs.gov/faqs/how-much-distance-does-a-degree-minute-and-second-cover-your-maps\n",
    "#\n",
    "LAT_25MILES = 25.0 * (1.0/69.0)    # This is about 25 miles of latitude in decimal degrees\n",
    "LON_25MILES = 25.0 * (1.0/54.6)    # This is about 25 miles of longitude in decimal degrees\n",
    "\n",
    "#   The bounding box is scaled in 50 mile increments. That is the bounding box will have sides that\n",
    "#   are rough multiples of 50 miles, with the center of the box around the indicated place.\n",
    "#   The scale parameter determines the scale (size) of the bounding box\n",
    "#\n",
    "\n",
    "def bounding_latlon(place=None,scale=1.0):\n",
    "    minlat = latlon[0] - float(scale) * LAT_25MILES\n",
    "    maxlat = latlon[0] + float(scale) * LAT_25MILES\n",
    "    minlon = latlon[1] - float(scale) * LON_25MILES\n",
    "    maxlon = latlon[1] + float(scale) * LON_25MILES\n",
    "    return [minlat,maxlat,minlon,maxlon]\n"
   ]
  },
  {
   "cell_type": "markdown",
   "id": "478f15da",
   "metadata": {},
   "source": [
    "The function below, *request_monitors* requests monitoring stations. This allows us to see the monitoring stations and sensors near Longview."
   ]
  },
  {
   "cell_type": "code",
   "execution_count": 126,
   "id": "467908c7",
   "metadata": {},
   "outputs": [],
   "source": [
    "#\n",
    "#    This implements the monitors request. This requests monitoring stations. This can be done by state, county, or bounding box. \n",
    "#\n",
    "#    Like the two other functions, this can be called with a mixture of a defined parameter dictionary, or with function\n",
    "#    parameters. If function parameters are provided, those take precedence over any parameters from the request template.\n",
    "#\n",
    "def request_monitors(email_address = None, key = None, param=None,\n",
    "                          begin_date = None, end_date = None, fips = None,\n",
    "                          endpoint_url = API_REQUEST_URL, \n",
    "                          endpoint_action = API_ACTION_MONITORS_COUNTY, \n",
    "                          request_template = AQS_REQUEST_TEMPLATE,\n",
    "                          headers = None):\n",
    "    \n",
    "    #  This prioritizes the info from the call parameters - not what's already in the template\n",
    "    if email_address:\n",
    "        request_template['email'] = email_address\n",
    "    if key:\n",
    "        request_template['key'] = key\n",
    "    if param:\n",
    "        request_template['param'] = param\n",
    "    if begin_date:\n",
    "        request_template['begin_date'] = begin_date\n",
    "    if end_date:\n",
    "        request_template['end_date'] = end_date\n",
    "    if fips and len(fips)==5:\n",
    "        request_template['state'] = fips[:2]\n",
    "        request_template['county'] = fips[2:]            \n",
    "\n",
    "    # Make sure there are values that allow us to make a call - these are always required\n",
    "    if not request_template['email']:\n",
    "        raise Exception(\"Must supply an email address to call 'request_monitors()'\")\n",
    "    if not request_template['key']: \n",
    "        raise Exception(\"Must supply a key to call 'request_monitors()'\")\n",
    "    if not request_template['param']: \n",
    "        raise Exception(\"Must supply param values to call 'request_monitors()'\")\n",
    "    if not request_template['begin_date']: \n",
    "        raise Exception(\"Must supply a begin_date to call 'request_monitors()'\")\n",
    "    if not request_template['end_date']: \n",
    "        raise Exception(\"Must supply an end_date to call 'request_monitors()'\")\n",
    "    # Note we're not validating FIPS fields because not all of the monitors actions require the FIPS numbers\n",
    "    \n",
    "    # compose the request\n",
    "    request_url = endpoint_url+endpoint_action.format(**request_template)\n",
    "    \n",
    "    # make the request\n",
    "    try:\n",
    "        # Wait first, to make sure we don't exceed a rate limit in the situation where an exception occurs\n",
    "        # during the request processing - throttling is always a good practice with a free data source\n",
    "        if API_THROTTLE_WAIT > 0.0:\n",
    "            time.sleep(API_THROTTLE_WAIT)\n",
    "        response = requests.get(request_url, headers=headers)\n",
    "        json_response = response.json()\n",
    "    except Exception as e:\n",
    "        print(e)\n",
    "        json_response = None\n",
    "    return json_response"
   ]
  },
  {
   "cell_type": "markdown",
   "id": "629a9d3f",
   "metadata": {},
   "source": [
    "First, we observe the stations for the particulate parameters."
   ]
  },
  {
   "cell_type": "code",
   "execution_count": 131,
   "id": "e92ff812",
   "metadata": {},
   "outputs": [
    {
     "name": "stdout",
     "output_type": "stream",
     "text": [
      "[\n",
      "    {\n",
      "        \"state_code\": \"41\",\n",
      "        \"county_code\": \"009\",\n",
      "        \"site_number\": \"0004\",\n",
      "        \"parameter_code\": \"88502\",\n",
      "        \"poc\": 3,\n",
      "        \"parameter_name\": \"Acceptable PM2.5 AQI & Speciation Mass\",\n",
      "        \"open_date\": \"2004-05-01\",\n",
      "        \"close_date\": null,\n",
      "        \"concurred_exclusions\": null,\n",
      "        \"dominant_source\": \"AREA\",\n",
      "        \"measurement_scale\": \"NEIGHBORHOOD\",\n",
      "        \"measurement_scale_def\": \"500 M TO 4KM\",\n",
      "        \"monitoring_objective\": \"GENERAL/BACKGROUND; REGIONAL TRANSPORT\",\n",
      "        \"last_method_code\": \"771\",\n",
      "        \"last_method_description\": \"Correlated Radiance Research M903 With Heated Inlet - Nephelometry\",\n",
      "        \"last_method_begin_date\": \"2004-05-01\",\n",
      "        \"naaqs_primary_monitor\": null,\n",
      "        \"qa_primary_monitor\": null,\n",
      "        \"monitor_type\": \"SLAMS\",\n",
      "        \"networks\": null,\n",
      "        \"monitoring_agency_code\": \"0821\",\n",
      "        \"monitoring_agency\": \"Oregon Department Of Environmental Quality\",\n",
      "        \"si_id\": 13100,\n",
      "        \"latitude\": 45.768531,\n",
      "        \"longitude\": -122.7721,\n",
      "        \"datum\": \"WGS84\",\n",
      "        \"lat_lon_accuracy\": 0.0,\n",
      "        \"elevation\": 6.0,\n",
      "        \"probe_height\": 3.0,\n",
      "        \"pl_probe_location\": \"GROUND LEVEL SUPPORT\",\n",
      "        \"local_site_name\": \"SAUVIE ISLAND-SIS\",\n",
      "        \"address\": \"SAUVIE ISLAND-SSB/ROUTE 1, BOX 442\",\n",
      "        \"state_name\": \"Oregon\",\n",
      "        \"county_name\": \"Columbia\",\n",
      "        \"city_name\": \"Not in a City\",\n",
      "        \"cbsa_code\": \"38900\",\n",
      "        \"cbsa_name\": \"Portland-Vancouver-Hillsboro, OR-WA\",\n",
      "        \"csa_code\": \"440\",\n",
      "        \"csa_name\": \"Portland-Vancouver-Salem, OR-WA\",\n",
      "        \"tribal_code\": null,\n",
      "        \"tribe_name\": null\n",
      "    },\n",
      "    {\n",
      "        \"state_code\": \"53\",\n",
      "        \"county_code\": \"011\",\n",
      "        \"site_number\": \"0022\",\n",
      "        \"parameter_code\": \"88502\",\n",
      "        \"poc\": 4,\n",
      "        \"parameter_name\": \"Acceptable PM2.5 AQI & Speciation Mass\",\n",
      "        \"open_date\": \"2007-05-02\",\n",
      "        \"close_date\": null,\n",
      "        \"concurred_exclusions\": null,\n",
      "        \"dominant_source\": null,\n",
      "        \"measurement_scale\": \"NEIGHBORHOOD\",\n",
      "        \"measurement_scale_def\": \"500 M TO 4KM\",\n",
      "        \"monitoring_objective\": \"POPULATION EXPOSURE\",\n",
      "        \"last_method_code\": \"771\",\n",
      "        \"last_method_description\": \"Correlated Radiance Research M903 With Heated Inlet - Nephelometry\",\n",
      "        \"last_method_begin_date\": \"2007-05-02\",\n",
      "        \"naaqs_primary_monitor\": null,\n",
      "        \"qa_primary_monitor\": null,\n",
      "        \"monitor_type\": \"SLAMS\",\n",
      "        \"networks\": null,\n",
      "        \"monitoring_agency_code\": \"1136\",\n",
      "        \"monitoring_agency\": \"Washington State Department Of Ecology\",\n",
      "        \"si_id\": 91673,\n",
      "        \"latitude\": 45.8639,\n",
      "        \"longitude\": -122.410889,\n",
      "        \"datum\": \"WGS84\",\n",
      "        \"lat_lon_accuracy\": 5.0,\n",
      "        \"elevation\": 213.0,\n",
      "        \"probe_height\": 18.0,\n",
      "        \"pl_probe_location\": null,\n",
      "        \"local_site_name\": \"YACOLT - YACOLT RD\",\n",
      "        \"address\": \"406 W YACOLT RD\",\n",
      "        \"state_name\": \"Washington\",\n",
      "        \"county_name\": \"Clark\",\n",
      "        \"city_name\": \"Yacolt\",\n",
      "        \"cbsa_code\": \"38900\",\n",
      "        \"cbsa_name\": \"Portland-Vancouver-Hillsboro, OR-WA\",\n",
      "        \"csa_code\": \"440\",\n",
      "        \"csa_name\": \"Portland-Vancouver-Salem, OR-WA\",\n",
      "        \"tribal_code\": null,\n",
      "        \"tribe_name\": null\n",
      "    },\n",
      "    {\n",
      "        \"state_code\": \"53\",\n",
      "        \"county_code\": \"015\",\n",
      "        \"site_number\": \"0015\",\n",
      "        \"parameter_code\": \"88502\",\n",
      "        \"poc\": 4,\n",
      "        \"parameter_name\": \"Acceptable PM2.5 AQI & Speciation Mass\",\n",
      "        \"open_date\": \"2003-03-06\",\n",
      "        \"close_date\": null,\n",
      "        \"concurred_exclusions\": null,\n",
      "        \"dominant_source\": null,\n",
      "        \"measurement_scale\": \"NEIGHBORHOOD\",\n",
      "        \"measurement_scale_def\": \"500 M TO 4KM\",\n",
      "        \"monitoring_objective\": \"POPULATION EXPOSURE\",\n",
      "        \"last_method_code\": \"771\",\n",
      "        \"last_method_description\": \"Correlated Radiance Research M903 With Heated Inlet - Nephelometry\",\n",
      "        \"last_method_begin_date\": \"2003-03-06\",\n",
      "        \"naaqs_primary_monitor\": null,\n",
      "        \"qa_primary_monitor\": null,\n",
      "        \"monitor_type\": \"SLAMS\",\n",
      "        \"networks\": null,\n",
      "        \"monitoring_agency_code\": \"1136\",\n",
      "        \"monitoring_agency\": \"Washington State Department Of Ecology\",\n",
      "        \"si_id\": 16517,\n",
      "        \"latitude\": 46.139444,\n",
      "        \"longitude\": -122.961944,\n",
      "        \"datum\": \"WGS84\",\n",
      "        \"lat_lon_accuracy\": 5.0,\n",
      "        \"elevation\": 13.0,\n",
      "        \"probe_height\": 8.0,\n",
      "        \"pl_probe_location\": \"TOP OF BUILDING\",\n",
      "        \"local_site_name\": \"LONGVIEW - 30TH AVE\",\n",
      "        \"address\": \"1324 30TH AVE (Olympic Elementary School)\",\n",
      "        \"state_name\": \"Washington\",\n",
      "        \"county_name\": \"Cowlitz\",\n",
      "        \"city_name\": \"Longview\",\n",
      "        \"cbsa_code\": \"31020\",\n",
      "        \"cbsa_name\": \"Longview, WA\",\n",
      "        \"csa_code\": \"440\",\n",
      "        \"csa_name\": \"Portland-Vancouver-Salem, OR-WA\",\n",
      "        \"tribal_code\": null,\n",
      "        \"tribe_name\": null\n",
      "    },\n",
      "    {\n",
      "        \"state_code\": \"41\",\n",
      "        \"county_code\": \"067\",\n",
      "        \"site_number\": \"0004\",\n",
      "        \"parameter_code\": \"88101\",\n",
      "        \"poc\": 2,\n",
      "        \"parameter_name\": \"PM2.5 - Local Conditions\",\n",
      "        \"open_date\": \"2010-07-01\",\n",
      "        \"close_date\": \"2023-04-30\",\n",
      "        \"concurred_exclusions\": null,\n",
      "        \"dominant_source\": \"AREA\",\n",
      "        \"measurement_scale\": \"NEIGHBORHOOD\",\n",
      "        \"measurement_scale_def\": \"500 M TO 4KM\",\n",
      "        \"monitoring_objective\": \"POPULATION EXPOSURE\",\n",
      "        \"last_method_code\": \"145\",\n",
      "        \"last_method_description\": \"R & P Model 2025 PM-2.5 Sequential Air Sampler w/VSCC - Gravimetric\",\n",
      "        \"last_method_begin_date\": \"2018-03-01\",\n",
      "        \"naaqs_primary_monitor\": null,\n",
      "        \"qa_primary_monitor\": null,\n",
      "        \"monitor_type\": null,\n",
      "        \"networks\": null,\n",
      "        \"monitoring_agency_code\": \"0821\",\n",
      "        \"monitoring_agency\": \"Oregon Department Of Environmental Quality\",\n",
      "        \"si_id\": 92254,\n",
      "        \"latitude\": 45.528501,\n",
      "        \"longitude\": -122.972398,\n",
      "        \"datum\": \"WGS84\",\n",
      "        \"lat_lon_accuracy\": 80.0,\n",
      "        \"elevation\": 16.0,\n",
      "        \"probe_height\": 3.0,\n",
      "        \"pl_probe_location\": \"GROUND LEVEL SUPPORT\",\n",
      "        \"local_site_name\": \"Hillsboro - Hare Field\",\n",
      "        \"address\": \"1149 NE GRANT ST HILLSBORO, OR 97124\",\n",
      "        \"state_name\": \"Oregon\",\n",
      "        \"county_name\": \"Washington\",\n",
      "        \"city_name\": \"Hillsboro\",\n",
      "        \"cbsa_code\": \"38900\",\n",
      "        \"cbsa_name\": \"Portland-Vancouver-Hillsboro, OR-WA\",\n",
      "        \"csa_code\": \"440\",\n",
      "        \"csa_name\": \"Portland-Vancouver-Salem, OR-WA\",\n",
      "        \"tribal_code\": null,\n",
      "        \"tribe_name\": null\n",
      "    },\n",
      "    {\n",
      "        \"state_code\": \"41\",\n",
      "        \"county_code\": \"067\",\n",
      "        \"site_number\": \"0006\",\n",
      "        \"parameter_code\": \"88502\",\n",
      "        \"poc\": 3,\n",
      "        \"parameter_name\": \"Acceptable PM2.5 AQI & Speciation Mass\",\n",
      "        \"open_date\": \"2019-06-20\",\n",
      "        \"close_date\": null,\n",
      "        \"concurred_exclusions\": null,\n",
      "        \"dominant_source\": \"AREA\",\n",
      "        \"measurement_scale\": \"NEIGHBORHOOD\",\n",
      "        \"measurement_scale_def\": \"500 M TO 4KM\",\n",
      "        \"monitoring_objective\": \"POPULATION EXPOSURE\",\n",
      "        \"last_method_code\": \"771\",\n",
      "        \"last_method_description\": \"Correlated Radiance Research M903 With Heated Inlet - Nephelometry\",\n",
      "        \"last_method_begin_date\": \"2019-06-20\",\n",
      "        \"naaqs_primary_monitor\": null,\n",
      "        \"qa_primary_monitor\": null,\n",
      "        \"monitor_type\": \"SPM\",\n",
      "        \"networks\": null,\n",
      "        \"monitoring_agency_code\": \"0821\",\n",
      "        \"monitoring_agency\": \"Oregon Department Of Environmental Quality\",\n",
      "        \"si_id\": 104536,\n",
      "        \"latitude\": 45.52483,\n",
      "        \"longitude\": -123.10554,\n",
      "        \"datum\": \"NAD83\",\n",
      "        \"lat_lon_accuracy\": 1.0,\n",
      "        \"elevation\": 56.0,\n",
      "        \"probe_height\": 2.0,\n",
      "        \"pl_probe_location\": \"GROUND LEVEL SUPPORT\",\n",
      "        \"local_site_name\": null,\n",
      "        \"address\": \"Pacific University, Cedar St and 23rd Place, Forest Grove (FGC)\",\n",
      "        \"state_name\": \"Oregon\",\n",
      "        \"county_name\": \"Washington\",\n",
      "        \"city_name\": \"Forest Grove\",\n",
      "        \"cbsa_code\": \"38900\",\n",
      "        \"cbsa_name\": \"Portland-Vancouver-Hillsboro, OR-WA\",\n",
      "        \"csa_code\": \"440\",\n",
      "        \"csa_name\": \"Portland-Vancouver-Salem, OR-WA\",\n",
      "        \"tribal_code\": null,\n",
      "        \"tribe_name\": null\n",
      "    },\n",
      "    {\n",
      "        \"state_code\": \"41\",\n",
      "        \"county_code\": \"051\",\n",
      "        \"site_number\": \"0080\",\n",
      "        \"parameter_code\": \"88101\",\n",
      "        \"poc\": 1,\n",
      "        \"parameter_name\": \"PM2.5 - Local Conditions\",\n",
      "        \"open_date\": \"1999-01-01\",\n",
      "        \"close_date\": null,\n",
      "        \"concurred_exclusions\": null,\n",
      "        \"dominant_source\": \"AREA\",\n",
      "        \"measurement_scale\": \"NEIGHBORHOOD\",\n",
      "        \"measurement_scale_def\": \"500 M TO 4KM\",\n",
      "        \"monitoring_objective\": \"POPULATION EXPOSURE\",\n",
      "        \"last_method_code\": \"209\",\n",
      "        \"last_method_description\": \"Met One BAM-1022 Mass Monitor w/ VSCC or TE-PM2.5C - Beta Attenuation\",\n",
      "        \"last_method_begin_date\": \"2023-01-01\",\n",
      "        \"naaqs_primary_monitor\": \"Y\",\n",
      "        \"qa_primary_monitor\": \"Y\",\n",
      "        \"monitor_type\": \"SLAMS\",\n",
      "        \"networks\": \"NCORE\",\n",
      "        \"monitoring_agency_code\": \"0821\",\n",
      "        \"monitoring_agency\": \"Oregon Department Of Environmental Quality\",\n",
      "        \"si_id\": 13303,\n",
      "        \"latitude\": 45.496641,\n",
      "        \"longitude\": -122.602877,\n",
      "        \"datum\": \"WGS84\",\n",
      "        \"lat_lon_accuracy\": 0.0,\n",
      "        \"elevation\": 69.0,\n",
      "        \"probe_height\": 4.0,\n",
      "        \"pl_probe_location\": \"TOP OF BUILDING\",\n",
      "        \"local_site_name\": \"Portland - SE Lafayette\",\n",
      "        \"address\": \"SE LAFAYETTE/5824 SE LAFAYETTE\",\n",
      "        \"state_name\": \"Oregon\",\n",
      "        \"county_name\": \"Multnomah\",\n",
      "        \"city_name\": \"Portland\",\n",
      "        \"cbsa_code\": \"38900\",\n",
      "        \"cbsa_name\": \"Portland-Vancouver-Hillsboro, OR-WA\",\n",
      "        \"csa_code\": \"440\",\n",
      "        \"csa_name\": \"Portland-Vancouver-Salem, OR-WA\",\n",
      "        \"tribal_code\": null,\n",
      "        \"tribe_name\": null\n",
      "    },\n",
      "    {\n",
      "        \"state_code\": \"41\",\n",
      "        \"county_code\": \"051\",\n",
      "        \"site_number\": \"0080\",\n",
      "        \"parameter_code\": \"88502\",\n",
      "        \"poc\": 3,\n",
      "        \"parameter_name\": \"Acceptable PM2.5 AQI & Speciation Mass\",\n",
      "        \"open_date\": \"2004-01-01\",\n",
      "        \"close_date\": null,\n",
      "        \"concurred_exclusions\": null,\n",
      "        \"dominant_source\": \"AREA\",\n",
      "        \"measurement_scale\": \"NEIGHBORHOOD\",\n",
      "        \"measurement_scale_def\": \"500 M TO 4KM\",\n",
      "        \"monitoring_objective\": \"POPULATION EXPOSURE\",\n",
      "        \"last_method_code\": \"771\",\n",
      "        \"last_method_description\": \"Correlated Radiance Research M903 With Heated Inlet - Nephelometry\",\n",
      "        \"last_method_begin_date\": \"2004-01-01\",\n",
      "        \"naaqs_primary_monitor\": null,\n",
      "        \"qa_primary_monitor\": null,\n",
      "        \"monitor_type\": \"SLAMS\",\n",
      "        \"networks\": \"NCORE\",\n",
      "        \"monitoring_agency_code\": \"0821\",\n",
      "        \"monitoring_agency\": \"Oregon Department Of Environmental Quality\",\n",
      "        \"si_id\": 13303,\n",
      "        \"latitude\": 45.496641,\n",
      "        \"longitude\": -122.602877,\n",
      "        \"datum\": \"WGS84\",\n",
      "        \"lat_lon_accuracy\": 0.0,\n",
      "        \"elevation\": 69.0,\n",
      "        \"probe_height\": 3.0,\n",
      "        \"pl_probe_location\": \"GROUND LEVEL SUPPORT\",\n",
      "        \"local_site_name\": \"Portland - SE Lafayette\",\n",
      "        \"address\": \"SE LAFAYETTE/5824 SE LAFAYETTE\",\n",
      "        \"state_name\": \"Oregon\",\n",
      "        \"county_name\": \"Multnomah\",\n",
      "        \"city_name\": \"Portland\",\n",
      "        \"cbsa_code\": \"38900\",\n",
      "        \"cbsa_name\": \"Portland-Vancouver-Hillsboro, OR-WA\",\n",
      "        \"csa_code\": \"440\",\n",
      "        \"csa_name\": \"Portland-Vancouver-Salem, OR-WA\",\n",
      "        \"tribal_code\": null,\n",
      "        \"tribe_name\": null\n",
      "    },\n",
      "    {\n",
      "        \"state_code\": \"41\",\n",
      "        \"county_code\": \"067\",\n",
      "        \"site_number\": \"0004\",\n",
      "        \"parameter_code\": \"88101\",\n",
      "        \"poc\": 1,\n",
      "        \"parameter_name\": \"PM2.5 - Local Conditions\",\n",
      "        \"open_date\": \"2005-01-28\",\n",
      "        \"close_date\": null,\n",
      "        \"concurred_exclusions\": null,\n",
      "        \"dominant_source\": \"AREA\",\n",
      "        \"measurement_scale\": \"NEIGHBORHOOD\",\n",
      "        \"measurement_scale_def\": \"500 M TO 4KM\",\n",
      "        \"monitoring_objective\": \"POPULATION EXPOSURE\",\n",
      "        \"last_method_code\": \"209\",\n",
      "        \"last_method_description\": \"Met One BAM-1022 Mass Monitor w/ VSCC or TE-PM2.5C - Beta Attenuation\",\n",
      "        \"last_method_begin_date\": \"2023-01-01\",\n",
      "        \"naaqs_primary_monitor\": \"Y\",\n",
      "        \"qa_primary_monitor\": \"Y\",\n",
      "        \"monitor_type\": \"SLAMS\",\n",
      "        \"networks\": null,\n",
      "        \"monitoring_agency_code\": \"0821\",\n",
      "        \"monitoring_agency\": \"Oregon Department Of Environmental Quality\",\n",
      "        \"si_id\": 92254,\n",
      "        \"latitude\": 45.528501,\n",
      "        \"longitude\": -122.972398,\n",
      "        \"datum\": \"WGS84\",\n",
      "        \"lat_lon_accuracy\": 80.0,\n",
      "        \"elevation\": 16.0,\n",
      "        \"probe_height\": 3.0,\n",
      "        \"pl_probe_location\": \"GROUND LEVEL SUPPORT\",\n",
      "        \"local_site_name\": \"Hillsboro - Hare Field\",\n",
      "        \"address\": \"1149 NE GRANT ST HILLSBORO, OR 97124\",\n",
      "        \"state_name\": \"Oregon\",\n",
      "        \"county_name\": \"Washington\",\n",
      "        \"city_name\": \"Hillsboro\",\n",
      "        \"cbsa_code\": \"38900\",\n",
      "        \"cbsa_name\": \"Portland-Vancouver-Hillsboro, OR-WA\",\n",
      "        \"csa_code\": \"440\",\n",
      "        \"csa_name\": \"Portland-Vancouver-Salem, OR-WA\",\n",
      "        \"tribal_code\": null,\n",
      "        \"tribe_name\": null\n",
      "    },\n",
      "    {\n",
      "        \"state_code\": \"53\",\n",
      "        \"county_code\": \"053\",\n",
      "        \"site_number\": \"1010\",\n",
      "        \"parameter_code\": \"88502\",\n",
      "        \"poc\": 1,\n",
      "        \"parameter_name\": \"Acceptable PM2.5 AQI & Speciation Mass\",\n",
      "        \"open_date\": \"1988-03-02\",\n",
      "        \"close_date\": null,\n",
      "        \"concurred_exclusions\": null,\n",
      "        \"dominant_source\": null,\n",
      "        \"measurement_scale\": \"REGIONAL SCALE\",\n",
      "        \"measurement_scale_def\": \"50 TO HUNDREDS KM\",\n",
      "        \"monitoring_objective\": \"GENERAL/BACKGROUND\",\n",
      "        \"last_method_code\": \"707\",\n",
      "        \"last_method_description\": \"IMPROVE Module A with Cyclone Inlet-Teflon Filter, 2.2 sq. cm. - GRAVIMETRIC\",\n",
      "        \"last_method_begin_date\": \"1999-02-06\",\n",
      "        \"naaqs_primary_monitor\": null,\n",
      "        \"qa_primary_monitor\": null,\n",
      "        \"monitor_type\": \"EPA\",\n",
      "        \"networks\": \"IMPROVE\",\n",
      "        \"monitoring_agency_code\": \"0745\",\n",
      "        \"monitoring_agency\": \"National Park Service\",\n",
      "        \"si_id\": 16687,\n",
      "        \"latitude\": 46.75838,\n",
      "        \"longitude\": -122.12429,\n",
      "        \"datum\": \"WGS84\",\n",
      "        \"lat_lon_accuracy\": 5.0,\n",
      "        \"elevation\": 420.0,\n",
      "        \"probe_height\": null,\n",
      "        \"pl_probe_location\": null,\n",
      "        \"local_site_name\": \"Mount Rainier National Park, Tahoma Woods\",\n",
      "        \"address\": \"MOUNT RAINIER NP, TAHOMA WOODS ADMIN\",\n",
      "        \"state_name\": \"Washington\",\n",
      "        \"county_name\": \"Pierce\",\n",
      "        \"city_name\": \"Not in a City\",\n",
      "        \"cbsa_code\": \"42660\",\n",
      "        \"cbsa_name\": \"Seattle-Tacoma-Bellevue, WA\",\n",
      "        \"csa_code\": \"500\",\n",
      "        \"csa_name\": \"Seattle-Tacoma, WA\",\n",
      "        \"tribal_code\": null,\n",
      "        \"tribe_name\": null\n",
      "    },\n",
      "    {\n",
      "        \"state_code\": \"41\",\n",
      "        \"county_code\": \"067\",\n",
      "        \"site_number\": \"0004\",\n",
      "        \"parameter_code\": \"88502\",\n",
      "        \"poc\": 2,\n",
      "        \"parameter_name\": \"Acceptable PM2.5 AQI & Speciation Mass\",\n",
      "        \"open_date\": \"2017-01-01\",\n",
      "        \"close_date\": null,\n",
      "        \"concurred_exclusions\": null,\n",
      "        \"dominant_source\": \"AREA\",\n",
      "        \"measurement_scale\": \"NEIGHBORHOOD\",\n",
      "        \"measurement_scale_def\": \"500 M TO 4KM\",\n",
      "        \"monitoring_objective\": \"POPULATION EXPOSURE\",\n",
      "        \"last_method_code\": \"145\",\n",
      "        \"last_method_description\": \"R & P Model 2025 PM-2.5 Sequential Air Sampler w/VSCC - Gravimetric\",\n",
      "        \"last_method_begin_date\": \"2017-01-01\",\n",
      "        \"naaqs_primary_monitor\": null,\n",
      "        \"qa_primary_monitor\": null,\n",
      "        \"monitor_type\": \"SPM\",\n",
      "        \"networks\": null,\n",
      "        \"monitoring_agency_code\": \"0821\",\n",
      "        \"monitoring_agency\": \"Oregon Department Of Environmental Quality\",\n",
      "        \"si_id\": 92254,\n",
      "        \"latitude\": 45.528501,\n",
      "        \"longitude\": -122.972398,\n",
      "        \"datum\": \"WGS84\",\n",
      "        \"lat_lon_accuracy\": 80.0,\n",
      "        \"elevation\": 16.0,\n",
      "        \"probe_height\": 3.0,\n",
      "        \"pl_probe_location\": \"GROUND LEVEL SUPPORT\",\n",
      "        \"local_site_name\": \"Hillsboro - Hare Field\",\n",
      "        \"address\": \"1149 NE GRANT ST HILLSBORO, OR 97124\",\n",
      "        \"state_name\": \"Oregon\",\n",
      "        \"county_name\": \"Washington\",\n",
      "        \"city_name\": \"Hillsboro\",\n",
      "        \"cbsa_code\": \"38900\",\n",
      "        \"cbsa_name\": \"Portland-Vancouver-Hillsboro, OR-WA\",\n",
      "        \"csa_code\": \"440\",\n",
      "        \"csa_name\": \"Portland-Vancouver-Salem, OR-WA\",\n",
      "        \"tribal_code\": null,\n",
      "        \"tribe_name\": null\n",
      "    },\n",
      "    {\n",
      "        \"state_code\": \"41\",\n",
      "        \"county_code\": \"051\",\n",
      "        \"site_number\": \"0080\",\n",
      "        \"parameter_code\": \"81102\",\n",
      "        \"poc\": 1,\n",
      "        \"parameter_name\": \"PM10 Total 0-10um STP\",\n",
      "        \"open_date\": \"1984-01-01\",\n",
      "        \"close_date\": null,\n",
      "        \"concurred_exclusions\": null,\n",
      "        \"dominant_source\": \"AREA\",\n",
      "        \"measurement_scale\": \"NEIGHBORHOOD\",\n",
      "        \"measurement_scale_def\": \"500 M TO 4KM\",\n",
      "        \"monitoring_objective\": \"POPULATION EXPOSURE\",\n",
      "        \"last_method_code\": \"127\",\n",
      "        \"last_method_description\": \"R - P Co Partisol Model 2025 - Gravimetric\",\n",
      "        \"last_method_begin_date\": \"2008-01-01\",\n",
      "        \"naaqs_primary_monitor\": null,\n",
      "        \"qa_primary_monitor\": \"Y\",\n",
      "        \"monitor_type\": \"SLAMS\",\n",
      "        \"networks\": \"NCORE\",\n",
      "        \"monitoring_agency_code\": \"0821\",\n",
      "        \"monitoring_agency\": \"Oregon Department Of Environmental Quality\",\n",
      "        \"si_id\": 13303,\n",
      "        \"latitude\": 45.496641,\n",
      "        \"longitude\": -122.602877,\n",
      "        \"datum\": \"WGS84\",\n",
      "        \"lat_lon_accuracy\": 0.0,\n",
      "        \"elevation\": 69.0,\n",
      "        \"probe_height\": 6.0,\n",
      "        \"pl_probe_location\": \"GROUND LEVEL SUPPORT\",\n",
      "        \"local_site_name\": \"Portland - SE Lafayette\",\n",
      "        \"address\": \"SE LAFAYETTE/5824 SE LAFAYETTE\",\n",
      "        \"state_name\": \"Oregon\",\n",
      "        \"county_name\": \"Multnomah\",\n",
      "        \"city_name\": \"Portland\",\n",
      "        \"cbsa_code\": \"38900\",\n",
      "        \"cbsa_name\": \"Portland-Vancouver-Hillsboro, OR-WA\",\n",
      "        \"csa_code\": \"440\",\n",
      "        \"csa_name\": \"Portland-Vancouver-Salem, OR-WA\",\n",
      "        \"tribal_code\": null,\n",
      "        \"tribe_name\": null\n",
      "    },\n",
      "    {\n",
      "        \"state_code\": \"41\",\n",
      "        \"county_code\": \"051\",\n",
      "        \"site_number\": \"0080\",\n",
      "        \"parameter_code\": \"81102\",\n",
      "        \"poc\": 2,\n",
      "        \"parameter_name\": \"PM10 Total 0-10um STP\",\n",
      "        \"open_date\": \"1983-01-01\",\n",
      "        \"close_date\": null,\n",
      "        \"concurred_exclusions\": null,\n",
      "        \"dominant_source\": \"AREA\",\n",
      "        \"measurement_scale\": \"NEIGHBORHOOD\",\n",
      "        \"measurement_scale_def\": \"500 M TO 4KM\",\n",
      "        \"monitoring_objective\": \"HIGHEST CONCENTRATION\",\n",
      "        \"last_method_code\": \"127\",\n",
      "        \"last_method_description\": \"R - P Co Partisol Model 2025 - Gravimetric\",\n",
      "        \"last_method_begin_date\": \"2013-07-03\",\n",
      "        \"naaqs_primary_monitor\": null,\n",
      "        \"qa_primary_monitor\": null,\n",
      "        \"monitor_type\": \"SLAMS\",\n",
      "        \"networks\": null,\n",
      "        \"monitoring_agency_code\": \"0821\",\n",
      "        \"monitoring_agency\": \"Oregon Department Of Environmental Quality\",\n",
      "        \"si_id\": 13303,\n",
      "        \"latitude\": 45.496641,\n",
      "        \"longitude\": -122.602877,\n",
      "        \"datum\": \"WGS84\",\n",
      "        \"lat_lon_accuracy\": 0.0,\n",
      "        \"elevation\": 69.0,\n",
      "        \"probe_height\": 6.0,\n",
      "        \"pl_probe_location\": \"GROUND LEVEL SUPPORT\",\n",
      "        \"local_site_name\": \"Portland - SE Lafayette\",\n",
      "        \"address\": \"SE LAFAYETTE/5824 SE LAFAYETTE\",\n",
      "        \"state_name\": \"Oregon\",\n",
      "        \"county_name\": \"Multnomah\",\n",
      "        \"city_name\": \"Portland\",\n",
      "        \"cbsa_code\": \"38900\",\n",
      "        \"cbsa_name\": \"Portland-Vancouver-Hillsboro, OR-WA\",\n",
      "        \"csa_code\": \"440\",\n",
      "        \"csa_name\": \"Portland-Vancouver-Salem, OR-WA\",\n",
      "        \"tribal_code\": null,\n",
      "        \"tribe_name\": null\n",
      "    },\n",
      "    {\n",
      "        \"state_code\": \"53\",\n",
      "        \"county_code\": \"011\",\n",
      "        \"site_number\": \"0024\",\n",
      "        \"parameter_code\": \"88101\",\n",
      "        \"poc\": 5,\n",
      "        \"parameter_name\": \"PM2.5 - Local Conditions\",\n",
      "        \"open_date\": \"2015-11-25\",\n",
      "        \"close_date\": null,\n",
      "        \"concurred_exclusions\": null,\n",
      "        \"dominant_source\": null,\n",
      "        \"measurement_scale\": \"NEIGHBORHOOD\",\n",
      "        \"measurement_scale_def\": \"500 M TO 4KM\",\n",
      "        \"monitoring_objective\": \"POPULATION EXPOSURE\",\n",
      "        \"last_method_code\": \"170\",\n",
      "        \"last_method_description\": \"Met One BAM-1020 Mass Monitor w/VSCC - Beta Attenuation\",\n",
      "        \"last_method_begin_date\": \"2015-11-25\",\n",
      "        \"naaqs_primary_monitor\": \"Y\",\n",
      "        \"qa_primary_monitor\": \"Y\",\n",
      "        \"monitor_type\": \"SLAMS\",\n",
      "        \"networks\": null,\n",
      "        \"monitoring_agency_code\": \"0978\",\n",
      "        \"monitoring_agency\": \"Southwest Air Pollution Control Authority\",\n",
      "        \"si_id\": 97785,\n",
      "        \"latitude\": 45.64336,\n",
      "        \"longitude\": -122.58737,\n",
      "        \"datum\": \"WGS84\",\n",
      "        \"lat_lon_accuracy\": 5.0,\n",
      "        \"elevation\": 54.0,\n",
      "        \"probe_height\": 3.0,\n",
      "        \"pl_probe_location\": \"GROUND LEVEL SUPPORT\",\n",
      "        \"local_site_name\": \"Vancouver-NE 84th Ave\",\n",
      "        \"address\": \"2722 NE 84th Ave\",\n",
      "        \"state_name\": \"Washington\",\n",
      "        \"county_name\": \"Clark\",\n",
      "        \"city_name\": \"Vancouver\",\n",
      "        \"cbsa_code\": \"38900\",\n",
      "        \"cbsa_name\": \"Portland-Vancouver-Hillsboro, OR-WA\",\n",
      "        \"csa_code\": \"440\",\n",
      "        \"csa_name\": \"Portland-Vancouver-Salem, OR-WA\",\n",
      "        \"tribal_code\": null,\n",
      "        \"tribe_name\": null\n",
      "    },\n",
      "    {\n",
      "        \"state_code\": \"41\",\n",
      "        \"county_code\": \"051\",\n",
      "        \"site_number\": \"2010\",\n",
      "        \"parameter_code\": \"81102\",\n",
      "        \"poc\": 9,\n",
      "        \"parameter_name\": \"PM10 Total 0-10um STP\",\n",
      "        \"open_date\": \"2017-02-01\",\n",
      "        \"close_date\": null,\n",
      "        \"concurred_exclusions\": null,\n",
      "        \"dominant_source\": \"AREA\",\n",
      "        \"measurement_scale\": \"NEIGHBORHOOD\",\n",
      "        \"measurement_scale_def\": \"500 M TO 4KM\",\n",
      "        \"monitoring_objective\": \"POPULATION EXPOSURE\",\n",
      "        \"last_method_code\": \"141\",\n",
      "        \"last_method_description\": \"Tisch Environ Model-6070 PM10 Hi-Vol - Gravimetric\",\n",
      "        \"last_method_begin_date\": \"2017-02-01\",\n",
      "        \"naaqs_primary_monitor\": null,\n",
      "        \"qa_primary_monitor\": null,\n",
      "        \"monitor_type\": \"SLAMS\",\n",
      "        \"networks\": null,\n",
      "        \"monitoring_agency_code\": \"0821\",\n",
      "        \"monitoring_agency\": \"Oregon Department Of Environmental Quality\",\n",
      "        \"si_id\": 103867,\n",
      "        \"latitude\": 45.558081,\n",
      "        \"longitude\": -122.670985,\n",
      "        \"datum\": \"NAD83\",\n",
      "        \"lat_lon_accuracy\": 1.0,\n",
      "        \"elevation\": 63.0,\n",
      "        \"probe_height\": 3.0,\n",
      "        \"pl_probe_location\": \"GROUND LEVEL SUPPORT\",\n",
      "        \"local_site_name\": null,\n",
      "        \"address\": \"Portland Humboltd School (PHS), 4915 N Gantenbein Ave\",\n",
      "        \"state_name\": \"Oregon\",\n",
      "        \"county_name\": \"Multnomah\",\n",
      "        \"city_name\": \"Portland\",\n",
      "        \"cbsa_code\": \"38900\",\n",
      "        \"cbsa_name\": \"Portland-Vancouver-Hillsboro, OR-WA\",\n",
      "        \"csa_code\": \"440\",\n",
      "        \"csa_name\": \"Portland-Vancouver-Salem, OR-WA\",\n",
      "        \"tribal_code\": null,\n",
      "        \"tribe_name\": null\n",
      "    },\n",
      "    {\n",
      "        \"state_code\": \"41\",\n",
      "        \"county_code\": \"051\",\n",
      "        \"site_number\": \"0034\",\n",
      "        \"parameter_code\": \"88502\",\n",
      "        \"poc\": 3,\n",
      "        \"parameter_name\": \"Acceptable PM2.5 AQI & Speciation Mass\",\n",
      "        \"open_date\": \"2021-04-22\",\n",
      "        \"close_date\": null,\n",
      "        \"concurred_exclusions\": null,\n",
      "        \"dominant_source\": \"AREA\",\n",
      "        \"measurement_scale\": \"NEIGHBORHOOD\",\n",
      "        \"measurement_scale_def\": \"500 M TO 4KM\",\n",
      "        \"monitoring_objective\": \"POPULATION EXPOSURE\",\n",
      "        \"last_method_code\": \"791\",\n",
      "        \"last_method_description\": \"OTHR AUTOMATD 2.5 MASS CONCENT - SURROGATE MEASURE\",\n",
      "        \"last_method_begin_date\": \"2021-04-22\",\n",
      "        \"naaqs_primary_monitor\": null,\n",
      "        \"qa_primary_monitor\": null,\n",
      "        \"monitor_type\": \"SPM\",\n",
      "        \"networks\": null,\n",
      "        \"monitoring_agency_code\": \"0821\",\n",
      "        \"monitoring_agency\": \"Oregon Department Of Environmental Quality\",\n",
      "        \"si_id\": 104837,\n",
      "        \"latitude\": 45.519378,\n",
      "        \"longitude\": -122.691012,\n",
      "        \"datum\": \"WGS84\",\n",
      "        \"lat_lon_accuracy\": 40.0,\n",
      "        \"elevation\": 38.0,\n",
      "        \"probe_height\": 10.0,\n",
      "        \"pl_probe_location\": \"TOP OF BUILDING\",\n",
      "        \"local_site_name\": null,\n",
      "        \"address\": \"Lincoln High School, Portland (PLH) 1600 SW Salmon St\",\n",
      "        \"state_name\": \"Oregon\",\n",
      "        \"county_name\": \"Multnomah\",\n",
      "        \"city_name\": \"Portland\",\n",
      "        \"cbsa_code\": \"38900\",\n",
      "        \"cbsa_name\": \"Portland-Vancouver-Hillsboro, OR-WA\",\n",
      "        \"csa_code\": \"440\",\n",
      "        \"csa_name\": \"Portland-Vancouver-Salem, OR-WA\",\n",
      "        \"tribal_code\": null,\n",
      "        \"tribe_name\": null\n",
      "    },\n",
      "    {\n",
      "        \"state_code\": \"41\",\n",
      "        \"county_code\": \"051\",\n",
      "        \"site_number\": \"0080\",\n",
      "        \"parameter_code\": \"88502\",\n",
      "        \"poc\": 1,\n",
      "        \"parameter_name\": \"Acceptable PM2.5 AQI & Speciation Mass\",\n",
      "        \"open_date\": \"2017-01-01\",\n",
      "        \"close_date\": null,\n",
      "        \"concurred_exclusions\": null,\n",
      "        \"dominant_source\": \"AREA\",\n",
      "        \"measurement_scale\": \"NEIGHBORHOOD\",\n",
      "        \"measurement_scale_def\": \"500 M TO 4KM\",\n",
      "        \"monitoring_objective\": \"POPULATION EXPOSURE\",\n",
      "        \"last_method_code\": \"145\",\n",
      "        \"last_method_description\": \"R & P Model 2025 PM-2.5 Sequential Air Sampler w/VSCC - Gravimetric\",\n",
      "        \"last_method_begin_date\": \"2017-01-01\",\n",
      "        \"naaqs_primary_monitor\": null,\n",
      "        \"qa_primary_monitor\": null,\n",
      "        \"monitor_type\": \"SPM\",\n",
      "        \"networks\": null,\n",
      "        \"monitoring_agency_code\": \"0821\",\n",
      "        \"monitoring_agency\": \"Oregon Department Of Environmental Quality\",\n",
      "        \"si_id\": 13303,\n",
      "        \"latitude\": 45.496641,\n",
      "        \"longitude\": -122.602877,\n",
      "        \"datum\": \"WGS84\",\n",
      "        \"lat_lon_accuracy\": 0.0,\n",
      "        \"elevation\": 69.0,\n",
      "        \"probe_height\": 3.0,\n",
      "        \"pl_probe_location\": \"GROUND LEVEL SUPPORT\",\n",
      "        \"local_site_name\": \"Portland - SE Lafayette\",\n",
      "        \"address\": \"SE LAFAYETTE/5824 SE LAFAYETTE\",\n",
      "        \"state_name\": \"Oregon\",\n",
      "        \"county_name\": \"Multnomah\",\n",
      "        \"city_name\": \"Portland\",\n",
      "        \"cbsa_code\": \"38900\",\n",
      "        \"cbsa_name\": \"Portland-Vancouver-Hillsboro, OR-WA\",\n",
      "        \"csa_code\": \"440\",\n",
      "        \"csa_name\": \"Portland-Vancouver-Salem, OR-WA\",\n",
      "        \"tribal_code\": null,\n",
      "        \"tribe_name\": null\n",
      "    },\n",
      "    {\n",
      "        \"state_code\": \"41\",\n",
      "        \"county_code\": \"067\",\n",
      "        \"site_number\": \"0111\",\n",
      "        \"parameter_code\": \"88502\",\n",
      "        \"poc\": 3,\n",
      "        \"parameter_name\": \"Acceptable PM2.5 AQI & Speciation Mass\",\n",
      "        \"open_date\": \"2004-04-16\",\n",
      "        \"close_date\": null,\n",
      "        \"concurred_exclusions\": null,\n",
      "        \"dominant_source\": \"AREA\",\n",
      "        \"measurement_scale\": \"NEIGHBORHOOD\",\n",
      "        \"measurement_scale_def\": \"500 M TO 4KM\",\n",
      "        \"monitoring_objective\": \"POPULATION EXPOSURE\",\n",
      "        \"last_method_code\": \"771\",\n",
      "        \"last_method_description\": \"Correlated Radiance Research M903 With Heated Inlet - Nephelometry\",\n",
      "        \"last_method_begin_date\": \"2004-04-16\",\n",
      "        \"naaqs_primary_monitor\": null,\n",
      "        \"qa_primary_monitor\": null,\n",
      "        \"monitor_type\": \"SLAMS\",\n",
      "        \"networks\": null,\n",
      "        \"monitoring_agency_code\": \"0821\",\n",
      "        \"monitoring_agency\": \"Oregon Department Of Environmental Quality\",\n",
      "        \"si_id\": 13343,\n",
      "        \"latitude\": 45.470191,\n",
      "        \"longitude\": -122.816411,\n",
      "        \"datum\": \"WGS84\",\n",
      "        \"lat_lon_accuracy\": 23.97,\n",
      "        \"elevation\": 58.0,\n",
      "        \"probe_height\": 3.0,\n",
      "        \"pl_probe_location\": \"GROUND LEVEL SUPPORT\",\n",
      "        \"local_site_name\": \"Beaverton - Highland Park\",\n",
      "        \"address\": \"7000 SW WILSON ST., Beaverton Highland Pk School\",\n",
      "        \"state_name\": \"Oregon\",\n",
      "        \"county_name\": \"Washington\",\n",
      "        \"city_name\": \"Beaverton\",\n",
      "        \"cbsa_code\": \"38900\",\n",
      "        \"cbsa_name\": \"Portland-Vancouver-Hillsboro, OR-WA\",\n",
      "        \"csa_code\": \"440\",\n",
      "        \"csa_name\": \"Portland-Vancouver-Salem, OR-WA\",\n",
      "        \"tribal_code\": null,\n",
      "        \"tribe_name\": null\n",
      "    },\n",
      "    {\n",
      "        \"state_code\": \"53\",\n",
      "        \"county_code\": \"041\",\n",
      "        \"site_number\": \"0004\",\n",
      "        \"parameter_code\": \"88502\",\n",
      "        \"poc\": 4,\n",
      "        \"parameter_name\": \"Acceptable PM2.5 AQI & Speciation Mass\",\n",
      "        \"open_date\": \"2009-12-29\",\n",
      "        \"close_date\": null,\n",
      "        \"concurred_exclusions\": null,\n",
      "        \"dominant_source\": null,\n",
      "        \"measurement_scale\": \"NEIGHBORHOOD\",\n",
      "        \"measurement_scale_def\": \"500 M TO 4KM\",\n",
      "        \"monitoring_objective\": \"POPULATION EXPOSURE\",\n",
      "        \"last_method_code\": \"771\",\n",
      "        \"last_method_description\": \"Correlated Radiance Research M903 With Heated Inlet - Nephelometry\",\n",
      "        \"last_method_begin_date\": \"2009-12-29\",\n",
      "        \"naaqs_primary_monitor\": null,\n",
      "        \"qa_primary_monitor\": null,\n",
      "        \"monitor_type\": \"SLAMS\",\n",
      "        \"networks\": null,\n",
      "        \"monitoring_agency_code\": \"1136\",\n",
      "        \"monitoring_agency\": \"Washington State Department Of Ecology\",\n",
      "        \"si_id\": 95349,\n",
      "        \"latitude\": 46.66409,\n",
      "        \"longitude\": -122.96732,\n",
      "        \"datum\": \"WGS84\",\n",
      "        \"lat_lon_accuracy\": 5.0,\n",
      "        \"elevation\": 34.0,\n",
      "        \"probe_height\": 10.0,\n",
      "        \"pl_probe_location\": \"TOP OF BUILDING\",\n",
      "        \"local_site_name\": \"CHEHALIS - MARKET BLVD\",\n",
      "        \"address\": \"350 N MARKET BLVD\",\n",
      "        \"state_name\": \"Washington\",\n",
      "        \"county_name\": \"Lewis\",\n",
      "        \"city_name\": \"Chehalis\",\n",
      "        \"cbsa_code\": \"16500\",\n",
      "        \"cbsa_name\": \"Centralia, WA\",\n",
      "        \"csa_code\": \"500\",\n",
      "        \"csa_name\": \"Seattle-Tacoma, WA\",\n",
      "        \"tribal_code\": null,\n",
      "        \"tribe_name\": null\n",
      "    },\n",
      "    {\n",
      "        \"state_code\": \"41\",\n",
      "        \"county_code\": \"051\",\n",
      "        \"site_number\": \"2010\",\n",
      "        \"parameter_code\": \"81102\",\n",
      "        \"poc\": 7,\n",
      "        \"parameter_name\": \"PM10 Total 0-10um STP\",\n",
      "        \"open_date\": \"2017-02-01\",\n",
      "        \"close_date\": null,\n",
      "        \"concurred_exclusions\": null,\n",
      "        \"dominant_source\": \"AREA\",\n",
      "        \"measurement_scale\": \"NEIGHBORHOOD\",\n",
      "        \"measurement_scale_def\": \"500 M TO 4KM\",\n",
      "        \"monitoring_objective\": \"POPULATION EXPOSURE\",\n",
      "        \"last_method_code\": \"141\",\n",
      "        \"last_method_description\": \"Tisch Environ Model-6070 PM10 Hi-Vol - Gravimetric\",\n",
      "        \"last_method_begin_date\": \"2017-02-01\",\n",
      "        \"naaqs_primary_monitor\": null,\n",
      "        \"qa_primary_monitor\": null,\n",
      "        \"monitor_type\": \"SLAMS\",\n",
      "        \"networks\": \"NATTS\",\n",
      "        \"monitoring_agency_code\": \"0821\",\n",
      "        \"monitoring_agency\": \"Oregon Department Of Environmental Quality\",\n",
      "        \"si_id\": 103867,\n",
      "        \"latitude\": 45.558081,\n",
      "        \"longitude\": -122.670985,\n",
      "        \"datum\": \"NAD83\",\n",
      "        \"lat_lon_accuracy\": 1.0,\n",
      "        \"elevation\": 63.0,\n",
      "        \"probe_height\": 3.0,\n",
      "        \"pl_probe_location\": \"GROUND LEVEL SUPPORT\",\n",
      "        \"local_site_name\": null,\n",
      "        \"address\": \"Portland Humboltd School (PHS), 4915 N Gantenbein Ave\",\n",
      "        \"state_name\": \"Oregon\",\n",
      "        \"county_name\": \"Multnomah\",\n",
      "        \"city_name\": \"Portland\",\n",
      "        \"cbsa_code\": \"38900\",\n",
      "        \"cbsa_name\": \"Portland-Vancouver-Hillsboro, OR-WA\",\n",
      "        \"csa_code\": \"440\",\n",
      "        \"csa_name\": \"Portland-Vancouver-Salem, OR-WA\",\n",
      "        \"tribal_code\": null,\n",
      "        \"tribe_name\": null\n",
      "    },\n",
      "    {\n",
      "        \"state_code\": \"41\",\n",
      "        \"county_code\": \"051\",\n",
      "        \"site_number\": \"0003\",\n",
      "        \"parameter_code\": \"88502\",\n",
      "        \"poc\": 3,\n",
      "        \"parameter_name\": \"Acceptable PM2.5 AQI & Speciation Mass\",\n",
      "        \"open_date\": \"2021-02-19\",\n",
      "        \"close_date\": null,\n",
      "        \"concurred_exclusions\": null,\n",
      "        \"dominant_source\": \"AREA\",\n",
      "        \"measurement_scale\": \"NEIGHBORHOOD\",\n",
      "        \"measurement_scale_def\": \"500 M TO 4KM\",\n",
      "        \"monitoring_objective\": \"POPULATION EXPOSURE\",\n",
      "        \"last_method_code\": \"791\",\n",
      "        \"last_method_description\": \"OTHR AUTOMATD 2.5 MASS CONCENT - SURROGATE MEASURE\",\n",
      "        \"last_method_begin_date\": \"2021-02-19\",\n",
      "        \"naaqs_primary_monitor\": null,\n",
      "        \"qa_primary_monitor\": null,\n",
      "        \"monitor_type\": \"SPM\",\n",
      "        \"networks\": null,\n",
      "        \"monitoring_agency_code\": \"0821\",\n",
      "        \"monitoring_agency\": \"Oregon Department Of Environmental Quality\",\n",
      "        \"si_id\": 13260,\n",
      "        \"latitude\": 45.590049,\n",
      "        \"longitude\": -122.737682,\n",
      "        \"datum\": \"WGS84\",\n",
      "        \"lat_lon_accuracy\": 0.0,\n",
      "        \"elevation\": 45.0,\n",
      "        \"probe_height\": 10.0,\n",
      "        \"pl_probe_location\": \"TOP OF BUILDING\",\n",
      "        \"local_site_name\": null,\n",
      "        \"address\": \"ROOSEVELT HIGH/6941 N CENTRAL AVE\",\n",
      "        \"state_name\": \"Oregon\",\n",
      "        \"county_name\": \"Multnomah\",\n",
      "        \"city_name\": \"Portland\",\n",
      "        \"cbsa_code\": \"38900\",\n",
      "        \"cbsa_name\": \"Portland-Vancouver-Hillsboro, OR-WA\",\n",
      "        \"csa_code\": \"440\",\n",
      "        \"csa_name\": \"Portland-Vancouver-Salem, OR-WA\",\n",
      "        \"tribal_code\": null,\n",
      "        \"tribe_name\": null\n",
      "    },\n",
      "    {\n",
      "        \"state_code\": \"41\",\n",
      "        \"county_code\": \"067\",\n",
      "        \"site_number\": \"0004\",\n",
      "        \"parameter_code\": \"88502\",\n",
      "        \"poc\": 3,\n",
      "        \"parameter_name\": \"Acceptable PM2.5 AQI & Speciation Mass\",\n",
      "        \"open_date\": \"2005-01-27\",\n",
      "        \"close_date\": null,\n",
      "        \"concurred_exclusions\": null,\n",
      "        \"dominant_source\": \"AREA\",\n",
      "        \"measurement_scale\": \"NEIGHBORHOOD\",\n",
      "        \"measurement_scale_def\": \"500 M TO 4KM\",\n",
      "        \"monitoring_objective\": \"POPULATION EXPOSURE\",\n",
      "        \"last_method_code\": \"771\",\n",
      "        \"last_method_description\": \"Correlated Radiance Research M903 With Heated Inlet - Nephelometry\",\n",
      "        \"last_method_begin_date\": \"2005-01-27\",\n",
      "        \"naaqs_primary_monitor\": null,\n",
      "        \"qa_primary_monitor\": null,\n",
      "        \"monitor_type\": \"SLAMS\",\n",
      "        \"networks\": null,\n",
      "        \"monitoring_agency_code\": \"0821\",\n",
      "        \"monitoring_agency\": \"Oregon Department Of Environmental Quality\",\n",
      "        \"si_id\": 92254,\n",
      "        \"latitude\": 45.528501,\n",
      "        \"longitude\": -122.972398,\n",
      "        \"datum\": \"WGS84\",\n",
      "        \"lat_lon_accuracy\": 80.0,\n",
      "        \"elevation\": 16.0,\n",
      "        \"probe_height\": 3.0,\n",
      "        \"pl_probe_location\": \"GROUND LEVEL SUPPORT\",\n",
      "        \"local_site_name\": \"Hillsboro - Hare Field\",\n",
      "        \"address\": \"1149 NE GRANT ST HILLSBORO, OR 97124\",\n",
      "        \"state_name\": \"Oregon\",\n",
      "        \"county_name\": \"Washington\",\n",
      "        \"city_name\": \"Hillsboro\",\n",
      "        \"cbsa_code\": \"38900\",\n",
      "        \"cbsa_name\": \"Portland-Vancouver-Hillsboro, OR-WA\",\n",
      "        \"csa_code\": \"440\",\n",
      "        \"csa_name\": \"Portland-Vancouver-Salem, OR-WA\",\n",
      "        \"tribal_code\": null,\n",
      "        \"tribe_name\": null\n",
      "    },\n",
      "    {\n",
      "        \"state_code\": \"41\",\n",
      "        \"county_code\": \"051\",\n",
      "        \"site_number\": \"0031\",\n",
      "        \"parameter_code\": \"88502\",\n",
      "        \"poc\": 3,\n",
      "        \"parameter_name\": \"Acceptable PM2.5 AQI & Speciation Mass\",\n",
      "        \"open_date\": \"2020-07-01\",\n",
      "        \"close_date\": null,\n",
      "        \"concurred_exclusions\": null,\n",
      "        \"dominant_source\": \"AREA\",\n",
      "        \"measurement_scale\": \"NEIGHBORHOOD\",\n",
      "        \"measurement_scale_def\": \"500 M TO 4KM\",\n",
      "        \"monitoring_objective\": \"POPULATION EXPOSURE\",\n",
      "        \"last_method_code\": \"791\",\n",
      "        \"last_method_description\": \"OTHR AUTOMATD 2.5 MASS CONCENT - SURROGATE MEASURE\",\n",
      "        \"last_method_begin_date\": \"2020-07-01\",\n",
      "        \"naaqs_primary_monitor\": null,\n",
      "        \"qa_primary_monitor\": null,\n",
      "        \"monitor_type\": \"SPM\",\n",
      "        \"networks\": null,\n",
      "        \"monitoring_agency_code\": \"0821\",\n",
      "        \"monitoring_agency\": \"Oregon Department Of Environmental Quality\",\n",
      "        \"si_id\": 104675,\n",
      "        \"latitude\": 45.49623,\n",
      "        \"longitude\": -122.48337,\n",
      "        \"datum\": \"NAD83\",\n",
      "        \"lat_lon_accuracy\": 3.0,\n",
      "        \"elevation\": 81.0,\n",
      "        \"probe_height\": 2.0,\n",
      "        \"pl_probe_location\": \"GROUND LEVEL SUPPORT\",\n",
      "        \"local_site_name\": null,\n",
      "        \"address\": \"Centenial High School (GCH), 3505 SE 182nd Ave, Gresham\",\n",
      "        \"state_name\": \"Oregon\",\n",
      "        \"county_name\": \"Multnomah\",\n",
      "        \"city_name\": \"Gresham\",\n",
      "        \"cbsa_code\": \"38900\",\n",
      "        \"cbsa_name\": \"Portland-Vancouver-Hillsboro, OR-WA\",\n",
      "        \"csa_code\": \"440\",\n",
      "        \"csa_name\": \"Portland-Vancouver-Salem, OR-WA\",\n",
      "        \"tribal_code\": null,\n",
      "        \"tribe_name\": null\n",
      "    },\n",
      "    {\n",
      "        \"state_code\": \"41\",\n",
      "        \"county_code\": \"051\",\n",
      "        \"site_number\": \"2011\",\n",
      "        \"parameter_code\": \"88502\",\n",
      "        \"poc\": 3,\n",
      "        \"parameter_name\": \"Acceptable PM2.5 AQI & Speciation Mass\",\n",
      "        \"open_date\": \"2018-05-18\",\n",
      "        \"close_date\": null,\n",
      "        \"concurred_exclusions\": null,\n",
      "        \"dominant_source\": \"AREA\",\n",
      "        \"measurement_scale\": \"NEIGHBORHOOD\",\n",
      "        \"measurement_scale_def\": \"500 M TO 4KM\",\n",
      "        \"monitoring_objective\": \"POPULATION EXPOSURE\",\n",
      "        \"last_method_code\": \"771\",\n",
      "        \"last_method_description\": \"Correlated Radiance Research M903 With Heated Inlet - Nephelometry\",\n",
      "        \"last_method_begin_date\": \"2018-05-18\",\n",
      "        \"naaqs_primary_monitor\": null,\n",
      "        \"qa_primary_monitor\": null,\n",
      "        \"monitor_type\": \"SPM\",\n",
      "        \"networks\": null,\n",
      "        \"monitoring_agency_code\": \"0821\",\n",
      "        \"monitoring_agency\": \"Oregon Department Of Environmental Quality\",\n",
      "        \"si_id\": 104148,\n",
      "        \"latitude\": 45.5625,\n",
      "        \"longitude\": -122.575278,\n",
      "        \"datum\": \"NAD83\",\n",
      "        \"lat_lon_accuracy\": 1.0,\n",
      "        \"elevation\": 23.0,\n",
      "        \"probe_height\": 3.0,\n",
      "        \"pl_probe_location\": null,\n",
      "        \"local_site_name\": \"Portland Cully Helensview School (PCH)\",\n",
      "        \"address\": \"Portland Cully Helensview School, 8678 NE Sumner St. Portland OR, 97220 (PCH)\",\n",
      "        \"state_name\": \"Oregon\",\n",
      "        \"county_name\": \"Multnomah\",\n",
      "        \"city_name\": \"Portland\",\n",
      "        \"cbsa_code\": \"38900\",\n",
      "        \"cbsa_name\": \"Portland-Vancouver-Hillsboro, OR-WA\",\n",
      "        \"csa_code\": \"440\",\n",
      "        \"csa_name\": \"Portland-Vancouver-Salem, OR-WA\",\n",
      "        \"tribal_code\": null,\n",
      "        \"tribe_name\": null\n",
      "    },\n",
      "    {\n",
      "        \"state_code\": \"41\",\n",
      "        \"county_code\": \"067\",\n",
      "        \"site_number\": \"0004\",\n",
      "        \"parameter_code\": \"88502\",\n",
      "        \"poc\": 1,\n",
      "        \"parameter_name\": \"Acceptable PM2.5 AQI & Speciation Mass\",\n",
      "        \"open_date\": \"2017-01-01\",\n",
      "        \"close_date\": null,\n",
      "        \"concurred_exclusions\": null,\n",
      "        \"dominant_source\": \"AREA\",\n",
      "        \"measurement_scale\": \"NEIGHBORHOOD\",\n",
      "        \"measurement_scale_def\": \"500 M TO 4KM\",\n",
      "        \"monitoring_objective\": \"POPULATION EXPOSURE\",\n",
      "        \"last_method_code\": \"145\",\n",
      "        \"last_method_description\": \"R & P Model 2025 PM-2.5 Sequential Air Sampler w/VSCC - Gravimetric\",\n",
      "        \"last_method_begin_date\": \"2017-01-01\",\n",
      "        \"naaqs_primary_monitor\": null,\n",
      "        \"qa_primary_monitor\": null,\n",
      "        \"monitor_type\": \"SPM\",\n",
      "        \"networks\": null,\n",
      "        \"monitoring_agency_code\": \"0821\",\n",
      "        \"monitoring_agency\": \"Oregon Department Of Environmental Quality\",\n",
      "        \"si_id\": 92254,\n",
      "        \"latitude\": 45.528501,\n",
      "        \"longitude\": -122.972398,\n",
      "        \"datum\": \"WGS84\",\n",
      "        \"lat_lon_accuracy\": 80.0,\n",
      "        \"elevation\": 16.0,\n",
      "        \"probe_height\": 3.0,\n",
      "        \"pl_probe_location\": \"GROUND LEVEL SUPPORT\",\n",
      "        \"local_site_name\": \"Hillsboro - Hare Field\",\n",
      "        \"address\": \"1149 NE GRANT ST HILLSBORO, OR 97124\",\n",
      "        \"state_name\": \"Oregon\",\n",
      "        \"county_name\": \"Washington\",\n",
      "        \"city_name\": \"Hillsboro\",\n",
      "        \"cbsa_code\": \"38900\",\n",
      "        \"cbsa_name\": \"Portland-Vancouver-Hillsboro, OR-WA\",\n",
      "        \"csa_code\": \"440\",\n",
      "        \"csa_name\": \"Portland-Vancouver-Salem, OR-WA\",\n",
      "        \"tribal_code\": null,\n",
      "        \"tribe_name\": null\n",
      "    },\n",
      "    {\n",
      "        \"state_code\": \"41\",\n",
      "        \"county_code\": \"067\",\n",
      "        \"site_number\": \"0004\",\n",
      "        \"parameter_code\": \"88502\",\n",
      "        \"poc\": 5,\n",
      "        \"parameter_name\": \"Acceptable PM2.5 AQI & Speciation Mass\",\n",
      "        \"open_date\": \"2014-11-24\",\n",
      "        \"close_date\": null,\n",
      "        \"concurred_exclusions\": null,\n",
      "        \"dominant_source\": \"AREA\",\n",
      "        \"measurement_scale\": \"NEIGHBORHOOD\",\n",
      "        \"measurement_scale_def\": \"500 M TO 4KM\",\n",
      "        \"monitoring_objective\": \"POPULATION EXPOSURE\",\n",
      "        \"last_method_code\": \"810\",\n",
      "        \"last_method_description\": \"Met One SASS/SuperSASS Teflon - Gravimetric\",\n",
      "        \"last_method_begin_date\": \"2014-11-24\",\n",
      "        \"naaqs_primary_monitor\": null,\n",
      "        \"qa_primary_monitor\": null,\n",
      "        \"monitor_type\": \"SPM\",\n",
      "        \"networks\": \"CSN SUPPLEMENTAL\",\n",
      "        \"monitoring_agency_code\": \"0821\",\n",
      "        \"monitoring_agency\": \"Oregon Department Of Environmental Quality\",\n",
      "        \"si_id\": 92254,\n",
      "        \"latitude\": 45.528501,\n",
      "        \"longitude\": -122.972398,\n",
      "        \"datum\": \"WGS84\",\n",
      "        \"lat_lon_accuracy\": 80.0,\n",
      "        \"elevation\": 16.0,\n",
      "        \"probe_height\": 3.0,\n",
      "        \"pl_probe_location\": \"GROUND LEVEL SUPPORT\",\n",
      "        \"local_site_name\": \"Hillsboro - Hare Field\",\n",
      "        \"address\": \"1149 NE GRANT ST HILLSBORO, OR 97124\",\n",
      "        \"state_name\": \"Oregon\",\n",
      "        \"county_name\": \"Washington\",\n",
      "        \"city_name\": \"Hillsboro\",\n",
      "        \"cbsa_code\": \"38900\",\n",
      "        \"cbsa_name\": \"Portland-Vancouver-Hillsboro, OR-WA\",\n",
      "        \"csa_code\": \"440\",\n",
      "        \"csa_name\": \"Portland-Vancouver-Salem, OR-WA\",\n",
      "        \"tribal_code\": null,\n",
      "        \"tribe_name\": null\n",
      "    },\n",
      "    {\n",
      "        \"state_code\": \"41\",\n",
      "        \"county_code\": \"057\",\n",
      "        \"site_number\": \"0001\",\n",
      "        \"parameter_code\": \"88502\",\n",
      "        \"poc\": 3,\n",
      "        \"parameter_name\": \"Acceptable PM2.5 AQI & Speciation Mass\",\n",
      "        \"open_date\": \"2020-07-01\",\n",
      "        \"close_date\": \"2022-06-23\",\n",
      "        \"concurred_exclusions\": null,\n",
      "        \"dominant_source\": \"AREA\",\n",
      "        \"measurement_scale\": \"NEIGHBORHOOD\",\n",
      "        \"measurement_scale_def\": \"500 M TO 4KM\",\n",
      "        \"monitoring_objective\": \"POPULATION EXPOSURE\",\n",
      "        \"last_method_code\": \"791\",\n",
      "        \"last_method_description\": \"OTHR AUTOMATD 2.5 MASS CONCENT - SURROGATE MEASURE\",\n",
      "        \"last_method_begin_date\": \"2020-07-01\",\n",
      "        \"naaqs_primary_monitor\": null,\n",
      "        \"qa_primary_monitor\": null,\n",
      "        \"monitor_type\": null,\n",
      "        \"networks\": null,\n",
      "        \"monitoring_agency_code\": \"0821\",\n",
      "        \"monitoring_agency\": \"Oregon Department Of Environmental Quality\",\n",
      "        \"si_id\": 104680,\n",
      "        \"latitude\": 45.45735,\n",
      "        \"longitude\": -123.8028,\n",
      "        \"datum\": \"NAD83\",\n",
      "        \"lat_lon_accuracy\": 3.0,\n",
      "        \"elevation\": 19.0,\n",
      "        \"probe_height\": 2.0,\n",
      "        \"pl_probe_location\": \"GROUND LEVEL SUPPORT\",\n",
      "        \"local_site_name\": null,\n",
      "        \"address\": \"Tillamook ODF (TDF) 5005 3rd St, Tillamook, OR 97141\",\n",
      "        \"state_name\": \"Oregon\",\n",
      "        \"county_name\": \"Tillamook\",\n",
      "        \"city_name\": \"Tillamook\",\n",
      "        \"cbsa_code\": null,\n",
      "        \"cbsa_name\": null,\n",
      "        \"csa_code\": null,\n",
      "        \"csa_name\": null,\n",
      "        \"tribal_code\": null,\n",
      "        \"tribe_name\": null\n",
      "    },\n",
      "    {\n",
      "        \"state_code\": \"41\",\n",
      "        \"county_code\": \"051\",\n",
      "        \"site_number\": \"0033\",\n",
      "        \"parameter_code\": \"88502\",\n",
      "        \"poc\": 3,\n",
      "        \"parameter_name\": \"Acceptable PM2.5 AQI & Speciation Mass\",\n",
      "        \"open_date\": \"2021-03-17\",\n",
      "        \"close_date\": null,\n",
      "        \"concurred_exclusions\": null,\n",
      "        \"dominant_source\": \"AREA\",\n",
      "        \"measurement_scale\": \"NEIGHBORHOOD\",\n",
      "        \"measurement_scale_def\": \"500 M TO 4KM\",\n",
      "        \"monitoring_objective\": \"POPULATION EXPOSURE\",\n",
      "        \"last_method_code\": \"791\",\n",
      "        \"last_method_description\": \"OTHR AUTOMATD 2.5 MASS CONCENT - SURROGATE MEASURE\",\n",
      "        \"last_method_begin_date\": \"2021-03-17\",\n",
      "        \"naaqs_primary_monitor\": null,\n",
      "        \"qa_primary_monitor\": null,\n",
      "        \"monitor_type\": \"SPM\",\n",
      "        \"networks\": null,\n",
      "        \"monitoring_agency_code\": \"0821\",\n",
      "        \"monitoring_agency\": \"Oregon Department Of Environmental Quality\",\n",
      "        \"si_id\": 104803,\n",
      "        \"latitude\": 45.5273,\n",
      "        \"longitude\": -122.65123,\n",
      "        \"datum\": \"WGS84\",\n",
      "        \"lat_lon_accuracy\": 40.0,\n",
      "        \"elevation\": 40.0,\n",
      "        \"probe_height\": 5.0,\n",
      "        \"pl_probe_location\": \"TOP OF BUILDING\",\n",
      "        \"local_site_name\": null,\n",
      "        \"address\": \"Benson High School, Portland (BHS) 546 NE 12th Ave.\",\n",
      "        \"state_name\": \"Oregon\",\n",
      "        \"county_name\": \"Multnomah\",\n",
      "        \"city_name\": \"Portland\",\n",
      "        \"cbsa_code\": \"38900\",\n",
      "        \"cbsa_name\": \"Portland-Vancouver-Hillsboro, OR-WA\",\n",
      "        \"csa_code\": \"440\",\n",
      "        \"csa_name\": \"Portland-Vancouver-Salem, OR-WA\",\n",
      "        \"tribal_code\": null,\n",
      "        \"tribe_name\": null\n",
      "    }\n",
      "]\n"
     ]
    }
   ],
   "source": [
    "# Code from Dr. McDonald\n",
    "\n",
    "request_data = AQS_REQUEST_TEMPLATE.copy()\n",
    "request_data['email'] = USERNAME\n",
    "request_data['key'] = APIKEY\n",
    "request_data['param'] = AQI_PARAMS_PARTICULATES     # particulate request\n",
    "\n",
    "\n",
    "#   100 mile box - roughly within 50 miles of the location\n",
    "bbox = bounding_latlon(latlon,scale=2.0)\n",
    "\n",
    "#   put our bounding box into the request_data\n",
    "request_data['minlat'] = bbox[0]\n",
    "request_data['maxlat'] = bbox[1]\n",
    "request_data['minlon'] = bbox[2]\n",
    "request_data['maxlon'] = bbox[3]\n",
    "\n",
    "#\n",
    "#   we need to change the action for the API from the default to the bounding box - same recent date for now\n",
    "response = request_monitors(request_template=request_data, begin_date=\"20210701\", end_date=\"20210731\",\n",
    "                            endpoint_action = API_ACTION_MONITORS_BOX)\n",
    "#\n",
    "#\n",
    "#\n",
    "if response[\"Header\"][0]['status'] == \"Success\":\n",
    "    print(json.dumps(response['Data'],indent=4))\n",
    "else:\n",
    "    print(json.dumps(response,indent=4))"
   ]
  },
  {
   "cell_type": "markdown",
   "id": "0153b977",
   "metadata": {},
   "source": [
    "From the output above, we can see that these stations give us information on all the following parameters: *PM10 Total 0-10um STP, PM 2.5 - Local Conditions, Acceptable PM2.5 AQI & Speciation Mass*.\n",
    "\n",
    "Then, we observe the stations for the gaseous parameters."
   ]
  },
  {
   "cell_type": "code",
   "execution_count": 132,
   "id": "f88c091c",
   "metadata": {},
   "outputs": [
    {
     "name": "stdout",
     "output_type": "stream",
     "text": [
      "[\n",
      "    {\n",
      "        \"state_code\": \"53\",\n",
      "        \"county_code\": \"011\",\n",
      "        \"site_number\": \"0011\",\n",
      "        \"parameter_code\": \"44201\",\n",
      "        \"poc\": 1,\n",
      "        \"parameter_name\": \"Ozone\",\n",
      "        \"open_date\": \"1988-05-01\",\n",
      "        \"close_date\": null,\n",
      "        \"concurred_exclusions\": null,\n",
      "        \"dominant_source\": null,\n",
      "        \"measurement_scale\": \"URBAN SCALE\",\n",
      "        \"measurement_scale_def\": \"4 KM TO 50 KM\",\n",
      "        \"monitoring_objective\": \"POPULATION EXPOSURE\",\n",
      "        \"last_method_code\": \"087\",\n",
      "        \"last_method_description\": \"INSTRUMENTAL - ULTRA VIOLET ABSORPTION\",\n",
      "        \"last_method_begin_date\": \"2008-01-01\",\n",
      "        \"naaqs_primary_monitor\": \"Y\",\n",
      "        \"qa_primary_monitor\": null,\n",
      "        \"monitor_type\": \"SLAMS\",\n",
      "        \"networks\": null,\n",
      "        \"monitoring_agency_code\": \"1136\",\n",
      "        \"monitoring_agency\": \"Washington State Department Of Ecology\",\n",
      "        \"si_id\": 16490,\n",
      "        \"latitude\": 45.616667,\n",
      "        \"longitude\": -122.516667,\n",
      "        \"datum\": \"WGS84\",\n",
      "        \"lat_lon_accuracy\": 5.0,\n",
      "        \"elevation\": 5.0,\n",
      "        \"probe_height\": 10.0,\n",
      "        \"pl_probe_location\": \"TOWER\",\n",
      "        \"local_site_name\": \"VANCOUVER - BLAIRMONT DR\",\n",
      "        \"address\": \"1500 SE BLAIRMONT DR (Mountain View High School)\",\n",
      "        \"state_name\": \"Washington\",\n",
      "        \"county_name\": \"Clark\",\n",
      "        \"city_name\": \"Vancouver\",\n",
      "        \"cbsa_code\": \"38900\",\n",
      "        \"cbsa_name\": \"Portland-Vancouver-Hillsboro, OR-WA\",\n",
      "        \"csa_code\": \"440\",\n",
      "        \"csa_name\": \"Portland-Vancouver-Salem, OR-WA\",\n",
      "        \"tribal_code\": null,\n",
      "        \"tribe_name\": null\n",
      "    },\n",
      "    {\n",
      "        \"state_code\": \"41\",\n",
      "        \"county_code\": \"051\",\n",
      "        \"site_number\": \"0080\",\n",
      "        \"parameter_code\": \"44201\",\n",
      "        \"poc\": 1,\n",
      "        \"parameter_name\": \"Ozone\",\n",
      "        \"open_date\": \"2003-07-10\",\n",
      "        \"close_date\": null,\n",
      "        \"concurred_exclusions\": null,\n",
      "        \"dominant_source\": null,\n",
      "        \"measurement_scale\": \"NEIGHBORHOOD\",\n",
      "        \"measurement_scale_def\": \"500 M TO 4KM\",\n",
      "        \"monitoring_objective\": \"GENERAL/BACKGROUND\",\n",
      "        \"last_method_code\": \"087\",\n",
      "        \"last_method_description\": \"INSTRUMENTAL - ULTRA VIOLET ABSORPTION\",\n",
      "        \"last_method_begin_date\": \"2018-10-18\",\n",
      "        \"naaqs_primary_monitor\": \"Y\",\n",
      "        \"qa_primary_monitor\": null,\n",
      "        \"monitor_type\": \"SLAMS\",\n",
      "        \"networks\": \"NCORE\",\n",
      "        \"monitoring_agency_code\": \"0821\",\n",
      "        \"monitoring_agency\": \"Oregon Department Of Environmental Quality\",\n",
      "        \"si_id\": 13303,\n",
      "        \"latitude\": 45.496641,\n",
      "        \"longitude\": -122.602877,\n",
      "        \"datum\": \"WGS84\",\n",
      "        \"lat_lon_accuracy\": 0.0,\n",
      "        \"elevation\": 69.0,\n",
      "        \"probe_height\": 6.0,\n",
      "        \"pl_probe_location\": \"GROUND LEVEL SUPPORT\",\n",
      "        \"local_site_name\": \"Portland - SE Lafayette\",\n",
      "        \"address\": \"SE LAFAYETTE/5824 SE LAFAYETTE\",\n",
      "        \"state_name\": \"Oregon\",\n",
      "        \"county_name\": \"Multnomah\",\n",
      "        \"city_name\": \"Portland\",\n",
      "        \"cbsa_code\": \"38900\",\n",
      "        \"cbsa_name\": \"Portland-Vancouver-Hillsboro, OR-WA\",\n",
      "        \"csa_code\": \"440\",\n",
      "        \"csa_name\": \"Portland-Vancouver-Salem, OR-WA\",\n",
      "        \"tribal_code\": null,\n",
      "        \"tribe_name\": null\n",
      "    },\n",
      "    {\n",
      "        \"state_code\": \"41\",\n",
      "        \"county_code\": \"051\",\n",
      "        \"site_number\": \"0080\",\n",
      "        \"parameter_code\": \"42101\",\n",
      "        \"poc\": 1,\n",
      "        \"parameter_name\": \"Carbon monoxide\",\n",
      "        \"open_date\": \"1980-12-24\",\n",
      "        \"close_date\": null,\n",
      "        \"concurred_exclusions\": null,\n",
      "        \"dominant_source\": \"AREA\",\n",
      "        \"measurement_scale\": \"NEIGHBORHOOD\",\n",
      "        \"measurement_scale_def\": \"500 M TO 4KM\",\n",
      "        \"monitoring_objective\": \"POPULATION EXPOSURE\",\n",
      "        \"last_method_code\": \"593\",\n",
      "        \"last_method_description\": \"INSTRUMENTAL - Gas Filter Correlation Teledyne API 300 EU\",\n",
      "        \"last_method_begin_date\": \"2019-06-04\",\n",
      "        \"naaqs_primary_monitor\": null,\n",
      "        \"qa_primary_monitor\": null,\n",
      "        \"monitor_type\": \"SLAMS\",\n",
      "        \"networks\": \"NCORE\",\n",
      "        \"monitoring_agency_code\": \"0821\",\n",
      "        \"monitoring_agency\": \"Oregon Department Of Environmental Quality\",\n",
      "        \"si_id\": 13303,\n",
      "        \"latitude\": 45.496641,\n",
      "        \"longitude\": -122.602877,\n",
      "        \"datum\": \"WGS84\",\n",
      "        \"lat_lon_accuracy\": 0.0,\n",
      "        \"elevation\": 69.0,\n",
      "        \"probe_height\": 6.0,\n",
      "        \"pl_probe_location\": \"GROUND LEVEL SUPPORT\",\n",
      "        \"local_site_name\": \"Portland - SE Lafayette\",\n",
      "        \"address\": \"SE LAFAYETTE/5824 SE LAFAYETTE\",\n",
      "        \"state_name\": \"Oregon\",\n",
      "        \"county_name\": \"Multnomah\",\n",
      "        \"city_name\": \"Portland\",\n",
      "        \"cbsa_code\": \"38900\",\n",
      "        \"cbsa_name\": \"Portland-Vancouver-Hillsboro, OR-WA\",\n",
      "        \"csa_code\": \"440\",\n",
      "        \"csa_name\": \"Portland-Vancouver-Salem, OR-WA\",\n",
      "        \"tribal_code\": null,\n",
      "        \"tribe_name\": null\n",
      "    },\n",
      "    {\n",
      "        \"state_code\": \"41\",\n",
      "        \"county_code\": \"009\",\n",
      "        \"site_number\": \"0004\",\n",
      "        \"parameter_code\": \"44201\",\n",
      "        \"poc\": 1,\n",
      "        \"parameter_name\": \"Ozone\",\n",
      "        \"open_date\": \"1980-01-01\",\n",
      "        \"close_date\": null,\n",
      "        \"concurred_exclusions\": null,\n",
      "        \"dominant_source\": \"AREA\",\n",
      "        \"measurement_scale\": \"URBAN SCALE\",\n",
      "        \"measurement_scale_def\": \"4 KM TO 50 KM\",\n",
      "        \"monitoring_objective\": \"POPULATION EXPOSURE; REGIONAL TRANSPORT\",\n",
      "        \"last_method_code\": \"087\",\n",
      "        \"last_method_description\": \"INSTRUMENTAL - ULTRA VIOLET ABSORPTION\",\n",
      "        \"last_method_begin_date\": \"2018-10-02\",\n",
      "        \"naaqs_primary_monitor\": \"Y\",\n",
      "        \"qa_primary_monitor\": null,\n",
      "        \"monitor_type\": \"SLAMS\",\n",
      "        \"networks\": null,\n",
      "        \"monitoring_agency_code\": \"0821\",\n",
      "        \"monitoring_agency\": \"Oregon Department Of Environmental Quality\",\n",
      "        \"si_id\": 13100,\n",
      "        \"latitude\": 45.768531,\n",
      "        \"longitude\": -122.7721,\n",
      "        \"datum\": \"WGS84\",\n",
      "        \"lat_lon_accuracy\": 0.0,\n",
      "        \"elevation\": 6.0,\n",
      "        \"probe_height\": 4.0,\n",
      "        \"pl_probe_location\": \"GROUND LEVEL SUPPORT\",\n",
      "        \"local_site_name\": \"SAUVIE ISLAND-SIS\",\n",
      "        \"address\": \"SAUVIE ISLAND-SSB/ROUTE 1, BOX 442\",\n",
      "        \"state_name\": \"Oregon\",\n",
      "        \"county_name\": \"Columbia\",\n",
      "        \"city_name\": \"Not in a City\",\n",
      "        \"cbsa_code\": \"38900\",\n",
      "        \"cbsa_name\": \"Portland-Vancouver-Hillsboro, OR-WA\",\n",
      "        \"csa_code\": \"440\",\n",
      "        \"csa_name\": \"Portland-Vancouver-Salem, OR-WA\",\n",
      "        \"tribal_code\": null,\n",
      "        \"tribe_name\": null\n",
      "    },\n",
      "    {\n",
      "        \"state_code\": \"41\",\n",
      "        \"county_code\": \"051\",\n",
      "        \"site_number\": \"0080\",\n",
      "        \"parameter_code\": \"42602\",\n",
      "        \"poc\": 1,\n",
      "        \"parameter_name\": \"Nitrogen dioxide (NO2)\",\n",
      "        \"open_date\": \"1984-01-01\",\n",
      "        \"close_date\": null,\n",
      "        \"concurred_exclusions\": null,\n",
      "        \"dominant_source\": \"AREA\",\n",
      "        \"measurement_scale\": \"NEIGHBORHOOD\",\n",
      "        \"measurement_scale_def\": \"500 M TO 4KM\",\n",
      "        \"monitoring_objective\": \"GENERAL/BACKGROUND\",\n",
      "        \"last_method_code\": \"200\",\n",
      "        \"last_method_description\": \"Teledyne-API Model 200EUP or T200UP - Photolytic-Chemiluminescence\",\n",
      "        \"last_method_begin_date\": \"2019-12-20\",\n",
      "        \"naaqs_primary_monitor\": \"Y\",\n",
      "        \"qa_primary_monitor\": null,\n",
      "        \"monitor_type\": \"SLAMS\",\n",
      "        \"networks\": \"PROPOSED NCORE\",\n",
      "        \"monitoring_agency_code\": \"0821\",\n",
      "        \"monitoring_agency\": \"Oregon Department Of Environmental Quality\",\n",
      "        \"si_id\": 13303,\n",
      "        \"latitude\": 45.496641,\n",
      "        \"longitude\": -122.602877,\n",
      "        \"datum\": \"WGS84\",\n",
      "        \"lat_lon_accuracy\": 0.0,\n",
      "        \"elevation\": 69.0,\n",
      "        \"probe_height\": 6.0,\n",
      "        \"pl_probe_location\": \"GROUND LEVEL SUPPORT\",\n",
      "        \"local_site_name\": \"Portland - SE Lafayette\",\n",
      "        \"address\": \"SE LAFAYETTE/5824 SE LAFAYETTE\",\n",
      "        \"state_name\": \"Oregon\",\n",
      "        \"county_name\": \"Multnomah\",\n",
      "        \"city_name\": \"Portland\",\n",
      "        \"cbsa_code\": \"38900\",\n",
      "        \"cbsa_name\": \"Portland-Vancouver-Hillsboro, OR-WA\",\n",
      "        \"csa_code\": \"440\",\n",
      "        \"csa_name\": \"Portland-Vancouver-Salem, OR-WA\",\n",
      "        \"tribal_code\": null,\n",
      "        \"tribe_name\": null\n",
      "    },\n",
      "    {\n",
      "        \"state_code\": \"41\",\n",
      "        \"county_code\": \"051\",\n",
      "        \"site_number\": \"0080\",\n",
      "        \"parameter_code\": \"42401\",\n",
      "        \"poc\": 4,\n",
      "        \"parameter_name\": \"Sulfur dioxide\",\n",
      "        \"open_date\": \"2010-08-01\",\n",
      "        \"close_date\": null,\n",
      "        \"concurred_exclusions\": null,\n",
      "        \"dominant_source\": \"AREA\",\n",
      "        \"measurement_scale\": \"NEIGHBORHOOD\",\n",
      "        \"measurement_scale_def\": \"500 M TO 4KM\",\n",
      "        \"monitoring_objective\": \"POPULATION EXPOSURE\",\n",
      "        \"last_method_code\": \"600\",\n",
      "        \"last_method_description\": \"Instrumental - Ultraviolet Fluorescence API 100 EU\",\n",
      "        \"last_method_begin_date\": \"2019-06-04\",\n",
      "        \"naaqs_primary_monitor\": null,\n",
      "        \"qa_primary_monitor\": null,\n",
      "        \"monitor_type\": \"SLAMS\",\n",
      "        \"networks\": \"NCORE\",\n",
      "        \"monitoring_agency_code\": \"0821\",\n",
      "        \"monitoring_agency\": \"Oregon Department Of Environmental Quality\",\n",
      "        \"si_id\": 13303,\n",
      "        \"latitude\": 45.496641,\n",
      "        \"longitude\": -122.602877,\n",
      "        \"datum\": \"WGS84\",\n",
      "        \"lat_lon_accuracy\": 0.0,\n",
      "        \"elevation\": 69.0,\n",
      "        \"probe_height\": 3.0,\n",
      "        \"pl_probe_location\": \"GROUND LEVEL SUPPORT\",\n",
      "        \"local_site_name\": \"Portland - SE Lafayette\",\n",
      "        \"address\": \"SE LAFAYETTE/5824 SE LAFAYETTE\",\n",
      "        \"state_name\": \"Oregon\",\n",
      "        \"county_name\": \"Multnomah\",\n",
      "        \"city_name\": \"Portland\",\n",
      "        \"cbsa_code\": \"38900\",\n",
      "        \"cbsa_name\": \"Portland-Vancouver-Hillsboro, OR-WA\",\n",
      "        \"csa_code\": \"440\",\n",
      "        \"csa_name\": \"Portland-Vancouver-Salem, OR-WA\",\n",
      "        \"tribal_code\": null,\n",
      "        \"tribe_name\": null\n",
      "    },\n",
      "    {\n",
      "        \"state_code\": \"41\",\n",
      "        \"county_code\": \"051\",\n",
      "        \"site_number\": \"0080\",\n",
      "        \"parameter_code\": \"42401\",\n",
      "        \"poc\": 1,\n",
      "        \"parameter_name\": \"Sulfur dioxide\",\n",
      "        \"open_date\": \"1980-12-24\",\n",
      "        \"close_date\": null,\n",
      "        \"concurred_exclusions\": null,\n",
      "        \"dominant_source\": \"AREA\",\n",
      "        \"measurement_scale\": \"NEIGHBORHOOD\",\n",
      "        \"measurement_scale_def\": \"500 M TO 4KM\",\n",
      "        \"monitoring_objective\": \"POPULATION EXPOSURE\",\n",
      "        \"last_method_code\": \"600\",\n",
      "        \"last_method_description\": \"Instrumental - Ultraviolet Fluorescence API 100 EU\",\n",
      "        \"last_method_begin_date\": \"2019-06-04\",\n",
      "        \"naaqs_primary_monitor\": null,\n",
      "        \"qa_primary_monitor\": null,\n",
      "        \"monitor_type\": \"SLAMS\",\n",
      "        \"networks\": \"NCORE\",\n",
      "        \"monitoring_agency_code\": \"0821\",\n",
      "        \"monitoring_agency\": \"Oregon Department Of Environmental Quality\",\n",
      "        \"si_id\": 13303,\n",
      "        \"latitude\": 45.496641,\n",
      "        \"longitude\": -122.602877,\n",
      "        \"datum\": \"WGS84\",\n",
      "        \"lat_lon_accuracy\": 0.0,\n",
      "        \"elevation\": 69.0,\n",
      "        \"probe_height\": 3.0,\n",
      "        \"pl_probe_location\": \"GROUND LEVEL SUPPORT\",\n",
      "        \"local_site_name\": \"Portland - SE Lafayette\",\n",
      "        \"address\": \"SE LAFAYETTE/5824 SE LAFAYETTE\",\n",
      "        \"state_name\": \"Oregon\",\n",
      "        \"county_name\": \"Multnomah\",\n",
      "        \"city_name\": \"Portland\",\n",
      "        \"cbsa_code\": \"38900\",\n",
      "        \"cbsa_name\": \"Portland-Vancouver-Hillsboro, OR-WA\",\n",
      "        \"csa_code\": \"440\",\n",
      "        \"csa_name\": \"Portland-Vancouver-Salem, OR-WA\",\n",
      "        \"tribal_code\": null,\n",
      "        \"tribe_name\": null\n",
      "    }\n",
      "]\n"
     ]
    }
   ],
   "source": [
    "# Code from Dr. McDonald\n",
    "\n",
    "request_data = AQS_REQUEST_TEMPLATE.copy()\n",
    "request_data['email'] = USERNAME\n",
    "request_data['key'] = APIKEY\n",
    "request_data['param'] = AQI_PARAMS_GASEOUS     # gaseous request\n",
    "\n",
    "\n",
    "#   100 mile box - roughly within 50 miles of the location\n",
    "bbox = bounding_latlon(latlon,scale=2.0)\n",
    "\n",
    "#   put our bounding box into the request_data\n",
    "request_data['minlat'] = bbox[0]\n",
    "request_data['maxlat'] = bbox[1]\n",
    "request_data['minlon'] = bbox[2]\n",
    "request_data['maxlon'] = bbox[3]\n",
    "\n",
    "#\n",
    "#   we need to change the action for the API from the default to the bounding box - same recent date for now\n",
    "response = request_monitors(request_template=request_data, begin_date=\"20210701\", end_date=\"20210731\",\n",
    "                            endpoint_action = API_ACTION_MONITORS_BOX)\n",
    "#\n",
    "#\n",
    "#\n",
    "if response[\"Header\"][0]['status'] == \"Success\":\n",
    "    print(json.dumps(response['Data'],indent=4))\n",
    "else:\n",
    "    print(json.dumps(response,indent=4))"
   ]
  },
  {
   "cell_type": "markdown",
   "id": "4d2dc1a4",
   "metadata": {},
   "source": [
    "The output above shows us that we can obtain data for the following gaseous parameters: *Carbon monoxide, Sulfur dioxide, Nitrogen dioxide (NO2), Ozone*.\n",
    "\n",
    "Thus, we are now able to access data for all of the 7 AQI parameters we specified earlier."
   ]
  },
  {
   "cell_type": "markdown",
   "id": "b09a8f9b",
   "metadata": {},
   "source": [
    "Now, we would like to make daily summary requests from each of these stations. As stated earlier, we consider fire season to range between May 1st and October 31st, and will consider the years 1963 - 2023. First, we define a function, *request_daily_summary*."
   ]
  },
  {
   "cell_type": "code",
   "execution_count": 134,
   "id": "abf5ffae",
   "metadata": {},
   "outputs": [],
   "source": [
    "# Code from Dr. McDonald\n",
    "#    This implements the daily summary request. Daily summary provides a daily summary value for each sensor being requested\n",
    "#    from the start date to the end date. \n",
    "#\n",
    "#    Like the two other functions, this can be called with a mixture of a defined parameter dictionary, or with function\n",
    "#    parameters. If function parameters are provided, those take precedence over any parameters from the request template.\n",
    "#\n",
    "def request_daily_summary(email_address = None, key = None, param=None,\n",
    "                          begin_date = None, end_date = None, fips = None,\n",
    "                          endpoint_url = API_REQUEST_URL, \n",
    "                          endpoint_action = API_ACTION_DAILY_SUMMARY_BOX, \n",
    "                          request_template = AQS_REQUEST_TEMPLATE,\n",
    "                          headers = None):\n",
    "    \n",
    "    #  This prioritizes the info from the call parameters - not what's already in the template\n",
    "    if email_address:\n",
    "        request_template['email'] = email_address\n",
    "    if key:\n",
    "        request_template['key'] = key\n",
    "    if param:\n",
    "        request_template['param'] = param\n",
    "    if begin_date:\n",
    "        request_template['begin_date'] = begin_date\n",
    "    if end_date:\n",
    "        request_template['end_date'] = end_date\n",
    "    if fips and len(fips)==5:\n",
    "        request_template['state'] = fips[:2]\n",
    "        request_template['county'] = fips[2:]            \n",
    "\n",
    "    # Make sure there are values that allow us to make a call - these are always required\n",
    "    if not request_template['email']:\n",
    "        raise Exception(\"Must supply an email address to call 'request_daily_summary()'\")\n",
    "    if not request_template['key']: \n",
    "        raise Exception(\"Must supply a key to call 'request_daily_summary()'\")\n",
    "    if not request_template['param']: \n",
    "        raise Exception(\"Must supply param values to call 'request_daily_summary()'\")\n",
    "    if not request_template['begin_date']: \n",
    "        raise Exception(\"Must supply a begin_date to call 'request_daily_summary()'\")\n",
    "    if not request_template['end_date']: \n",
    "        raise Exception(\"Must supply an end_date to call 'request_daily_summary()'\")\n",
    "    # Note we're not validating FIPS fields because not all of the daily summary actions require the FIPS numbers\n",
    "        \n",
    "    # compose the request\n",
    "    request_url = endpoint_url+endpoint_action.format(**request_template)\n",
    "        \n",
    "    # make the request\n",
    "    try:\n",
    "        # Wait first, to make sure we don't exceed a rate limit in the situation where an exception occurs\n",
    "        # during the request processing - throttling is always a good practice with a free data source\n",
    "        if API_THROTTLE_WAIT > 0.0:\n",
    "            time.sleep(API_THROTTLE_WAIT)\n",
    "        response = requests.get(request_url, headers=headers)\n",
    "        json_response = response.json()\n",
    "    except Exception as e:\n",
    "        print(e)\n",
    "        json_response = None\n",
    "    return json_response"
   ]
  },
  {
   "cell_type": "markdown",
   "id": "19561e32",
   "metadata": {},
   "source": [
    "We will iterate through each of the years to obtain sensor values. We first request data for particulates. \n",
    "\n",
    "The idea and technique to convert the API response to a dataframe, particularly the code line `pd.DataFrame(response['Data'])` came from Jenny Wong, another student in the University of Washington Master of Science in Data Science program."
   ]
  },
  {
   "cell_type": "code",
   "execution_count": 156,
   "id": "faa7fc10",
   "metadata": {},
   "outputs": [
    {
     "name": "stderr",
     "output_type": "stream",
     "text": [
      "100%|██████████████████████████████████████████████████████████████████████████████████| 61/61 [28:38<00:00, 28.17s/it]\n"
     ]
    }
   ],
   "source": [
    "# Code from Dr. McDonald\n",
    "#    Create a copy of the AQS_REQUEST_TEMPLATE\n",
    "#\n",
    "request_data = AQS_REQUEST_TEMPLATE.copy()\n",
    "request_data['email'] = USERNAME\n",
    "request_data['key'] = APIKEY\n",
    "request_data['param'] = AQI_PARAMS_PARTICULATES # particulates\n",
    "\n",
    "#   Now, we need bounding box parameters\n",
    "\n",
    "#   100 mile box\n",
    "bbox = bounding_latlon(latlon,scale=2.0)\n",
    "\n",
    "# the bbox response comes back as a list - [minlat,maxlat,minlon,maxlon]\n",
    "\n",
    "#   put our bounding box into the request_data\n",
    "request_data['minlat'] = bbox[0]\n",
    "request_data['maxlat'] = bbox[1]\n",
    "request_data['minlon'] = bbox[2]\n",
    "request_data['maxlon'] = bbox[3]\n",
    "\n",
    "\n",
    "# Create a loop to iterate through each of the years (1963 - 2023)\n",
    "# Fire season is considered to be May 1 - October 31\n",
    "\n",
    "boundbox_particulates_df = pd.DataFrame()\n",
    "\n",
    "for year in tqdm(range(1963, 2024)): # specifying end date to 2024 gets data until 2023\n",
    "    response = request_daily_summary(request_template=request_data, begin_date=f\"{year}0501\", end_date=f\"{year}1031\",\n",
    "                                endpoint_action=API_ACTION_DAILY_SUMMARY_BOX)\n",
    "    boundbox = pd.DataFrame(response['Data']) # code from Jenny Wong\n",
    "    boundbox_particulates_df = boundbox_particulates_df.append(boundbox, ignore_index=True)"
   ]
  },
  {
   "cell_type": "markdown",
   "id": "2d039c23",
   "metadata": {},
   "source": [
    "We follow the same process for gaseous parameters."
   ]
  },
  {
   "cell_type": "code",
   "execution_count": 166,
   "id": "7774c56a",
   "metadata": {},
   "outputs": [
    {
     "name": "stderr",
     "output_type": "stream",
     "text": [
      "100%|██████████████████████████████████████████████████████████████████████████████████| 61/61 [23:54<00:00, 23.52s/it]\n"
     ]
    }
   ],
   "source": [
    "# Code from Dr. McDonald\n",
    "#    Create a copy of the AQS_REQUEST_TEMPLATE\n",
    "#\n",
    "request_data = AQS_REQUEST_TEMPLATE.copy()\n",
    "request_data['email'] = USERNAME\n",
    "request_data['key'] = APIKEY\n",
    "request_data['param'] = AQI_PARAMS_GASEOUS # gaseous\n",
    "\n",
    "#   Now, we need bounding box parameters\n",
    "\n",
    "#   100 mile box\n",
    "bbox = bounding_latlon(latlon,scale=2.0)\n",
    "\n",
    "# the bbox response comes back as a list - [minlat,maxlat,minlon,maxlon]\n",
    "\n",
    "#   put our bounding box into the request_data\n",
    "request_data['minlat'] = bbox[0]\n",
    "request_data['maxlat'] = bbox[1]\n",
    "request_data['minlon'] = bbox[2]\n",
    "request_data['maxlon'] = bbox[3]\n",
    "\n",
    "\n",
    "# Create a loop to iterate through each of the years (1963 - 2023)\n",
    "# Fire season is considered to be May 1 - October 31\n",
    "\n",
    "boundbox_gaseous_df = pd.DataFrame()\n",
    "\n",
    "for year in tqdm(range(1963, 2024)): # specifying end date to 2024 gets data until 2023\n",
    "    response = request_daily_summary(request_template=request_data, begin_date=f\"{year}0501\", end_date=f\"{year}1031\",\n",
    "                                endpoint_action=API_ACTION_DAILY_SUMMARY_BOX)\n",
    "    boundbox = pd.DataFrame(response['Data']) # code from Jenny Wong\n",
    "    boundbox_gaseous_df = boundbox_gaseous_df.append(boundbox, ignore_index=True)"
   ]
  },
  {
   "cell_type": "markdown",
   "id": "85ce6287",
   "metadata": {},
   "source": [
    "We concatenate both dataframes we have created to form a new dataframe, *boundbox_df*. This dataframe contains daily summary estimates for each of the parameters (including both particulate parameters and gaseous parameters) for the specified time frame."
   ]
  },
  {
   "cell_type": "code",
   "execution_count": 176,
   "id": "0a961eff",
   "metadata": {
    "scrolled": true
   },
   "outputs": [],
   "source": [
    "# Concatenate both dataframes\n",
    "boundbox_df = pd.concat([boundbox_particulates_df, boundbox_gaseous_df], ignore_index=True,axis=0)"
   ]
  },
  {
   "cell_type": "markdown",
   "id": "416cbde5",
   "metadata": {},
   "source": [
    "Now, we are interested in finding annual estimates for each parameter. Thus, we create a *year* column for each observation by extracting the year from the field *date_local*. We also only keep the variables were are interested in. We then create a new dataframe, *average_aqi*, in which we store the average estimates for each parameter. Our overall data ranges from 1964 to 2023, however we do not have estimates for each parameter for each of these years."
   ]
  },
  {
   "cell_type": "code",
   "execution_count": 193,
   "id": "8fbac348",
   "metadata": {},
   "outputs": [],
   "source": [
    "# Create year column\n",
    "boundbox_df['year'] = pd.to_datetime(boundbox_df['date_local']).dt.year\n",
    "\n",
    "# Keep columns of interest (parameter_code, parameter, aqi, year)\n",
    "boundbox_df = boundbox_df[['parameter_code', 'parameter', 'aqi', 'year']]"
   ]
  },
  {
   "cell_type": "code",
   "execution_count": 285,
   "id": "4b56cde6",
   "metadata": {},
   "outputs": [],
   "source": [
    "# Create new df that averages AQI (groups by parameter and year)\n",
    "average_aqi = boundbox_df.groupby(['year', 'parameter_code', 'parameter'])['aqi'].mean().reset_index()"
   ]
  },
  {
   "cell_type": "code",
   "execution_count": 286,
   "id": "e1dde4cd",
   "metadata": {
    "scrolled": true
   },
   "outputs": [
    {
     "data": {
      "text/html": [
       "<div>\n",
       "<style scoped>\n",
       "    .dataframe tbody tr th:only-of-type {\n",
       "        vertical-align: middle;\n",
       "    }\n",
       "\n",
       "    .dataframe tbody tr th {\n",
       "        vertical-align: top;\n",
       "    }\n",
       "\n",
       "    .dataframe thead th {\n",
       "        text-align: right;\n",
       "    }\n",
       "</style>\n",
       "<table border=\"1\" class=\"dataframe\">\n",
       "  <thead>\n",
       "    <tr style=\"text-align: right;\">\n",
       "      <th></th>\n",
       "      <th>year</th>\n",
       "      <th>parameter_code</th>\n",
       "      <th>parameter</th>\n",
       "      <th>aqi</th>\n",
       "    </tr>\n",
       "  </thead>\n",
       "  <tbody>\n",
       "    <tr>\n",
       "      <th>0</th>\n",
       "      <td>1964</td>\n",
       "      <td>42401</td>\n",
       "      <td>Sulfur dioxide</td>\n",
       "      <td>NaN</td>\n",
       "    </tr>\n",
       "    <tr>\n",
       "      <th>1</th>\n",
       "      <td>1965</td>\n",
       "      <td>42401</td>\n",
       "      <td>Sulfur dioxide</td>\n",
       "      <td>NaN</td>\n",
       "    </tr>\n",
       "    <tr>\n",
       "      <th>2</th>\n",
       "      <td>1966</td>\n",
       "      <td>42101</td>\n",
       "      <td>Carbon monoxide</td>\n",
       "      <td>140.631579</td>\n",
       "    </tr>\n",
       "    <tr>\n",
       "      <th>3</th>\n",
       "      <td>1966</td>\n",
       "      <td>42401</td>\n",
       "      <td>Sulfur dioxide</td>\n",
       "      <td>31.800000</td>\n",
       "    </tr>\n",
       "    <tr>\n",
       "      <th>4</th>\n",
       "      <td>1967</td>\n",
       "      <td>42101</td>\n",
       "      <td>Carbon monoxide</td>\n",
       "      <td>72.918478</td>\n",
       "    </tr>\n",
       "  </tbody>\n",
       "</table>\n",
       "</div>"
      ],
      "text/plain": [
       "   year parameter_code        parameter         aqi\n",
       "0  1964          42401   Sulfur dioxide         NaN\n",
       "1  1965          42401   Sulfur dioxide         NaN\n",
       "2  1966          42101  Carbon monoxide  140.631579\n",
       "3  1966          42401   Sulfur dioxide   31.800000\n",
       "4  1967          42101  Carbon monoxide   72.918478"
      ]
     },
     "execution_count": 286,
     "metadata": {},
     "output_type": "execute_result"
    }
   ],
   "source": [
    "# Show head of df\n",
    "average_aqi.head()"
   ]
  },
  {
   "cell_type": "markdown",
   "id": "4ac8790e",
   "metadata": {},
   "source": [
    "We also create a new dataframe, *one_aqi*, where we average all these AQI measures to produce one AQI estimate for each year."
   ]
  },
  {
   "cell_type": "code",
   "execution_count": 287,
   "id": "b0647b82",
   "metadata": {
    "scrolled": true
   },
   "outputs": [
    {
     "data": {
      "text/html": [
       "<div>\n",
       "<style scoped>\n",
       "    .dataframe tbody tr th:only-of-type {\n",
       "        vertical-align: middle;\n",
       "    }\n",
       "\n",
       "    .dataframe tbody tr th {\n",
       "        vertical-align: top;\n",
       "    }\n",
       "\n",
       "    .dataframe thead th {\n",
       "        text-align: right;\n",
       "    }\n",
       "</style>\n",
       "<table border=\"1\" class=\"dataframe\">\n",
       "  <thead>\n",
       "    <tr style=\"text-align: right;\">\n",
       "      <th></th>\n",
       "      <th>year</th>\n",
       "      <th>aqi</th>\n",
       "    </tr>\n",
       "  </thead>\n",
       "  <tbody>\n",
       "    <tr>\n",
       "      <th>0</th>\n",
       "      <td>1964</td>\n",
       "      <td>NaN</td>\n",
       "    </tr>\n",
       "    <tr>\n",
       "      <th>1</th>\n",
       "      <td>1965</td>\n",
       "      <td>NaN</td>\n",
       "    </tr>\n",
       "    <tr>\n",
       "      <th>2</th>\n",
       "      <td>1966</td>\n",
       "      <td>86.215789</td>\n",
       "    </tr>\n",
       "    <tr>\n",
       "      <th>3</th>\n",
       "      <td>1967</td>\n",
       "      <td>53.586957</td>\n",
       "    </tr>\n",
       "    <tr>\n",
       "      <th>4</th>\n",
       "      <td>1968</td>\n",
       "      <td>65.636816</td>\n",
       "    </tr>\n",
       "  </tbody>\n",
       "</table>\n",
       "</div>"
      ],
      "text/plain": [
       "   year        aqi\n",
       "0  1964        NaN\n",
       "1  1965        NaN\n",
       "2  1966  86.215789\n",
       "3  1967  53.586957\n",
       "4  1968  65.636816"
      ]
     },
     "execution_count": 287,
     "metadata": {},
     "output_type": "execute_result"
    }
   ],
   "source": [
    "# Average AQI across different parameters\n",
    "one_aqi = average_aqi.groupby('year')['aqi'].mean().reset_index()\n",
    "\n",
    "# Show head of df\n",
    "one_aqi.head()"
   ]
  },
  {
   "cell_type": "markdown",
   "id": "3675657d",
   "metadata": {},
   "source": [
    "## Comparing my Smoke Estimate to AQI Estimates"
   ]
  },
  {
   "cell_type": "markdown",
   "id": "0fa623ca",
   "metadata": {},
   "source": [
    "I will now compare my smoke estimate with AQI estimates for each year. First, I will create one dataframe that contains both sets of values for each year. I create a dataframe called *all_estimates_df*."
   ]
  },
  {
   "cell_type": "code",
   "execution_count": 344,
   "id": "457e6da7",
   "metadata": {},
   "outputs": [],
   "source": [
    "# Restructure estimate dataframe\n",
    "estimate_restructure1 = pd.DataFrame({\n",
    "    'year': average_fire_score_by_year['year'],  \n",
    "    'parameter': 'Smoke Estimate',  \n",
    "    'annual_estimate': average_fire_score_by_year['annual_estimate']\n",
    "})\n",
    "\n",
    "# Restructure the aqi dataframe\n",
    "average_aqi_restructure = average_aqi[['year', 'parameter','aqi']]\n",
    "average_aqi_restructure.rename(columns={'aqi': 'annual_estimate'}, inplace=True)\n",
    "\n",
    "# Concatenate both dataframes\n",
    "all_estimates_df = pd.concat([estimate_restructure1, average_aqi_restructure], ignore_index=True,axis=0)"
   ]
  },
  {
   "cell_type": "markdown",
   "id": "fb79644e",
   "metadata": {},
   "source": [
    "Then, I plot all measures in a time series plot."
   ]
  },
  {
   "cell_type": "code",
   "execution_count": 346,
   "id": "ea5a3a11",
   "metadata": {},
   "outputs": [
    {
     "data": {
      "image/png": "[encoded data removed]",
      "text/plain": [
       "<Figure size 720x432 with 1 Axes>"
      ]
     },
     "metadata": {
      "needs_background": "light"
     },
     "output_type": "display_data"
    }
   ],
   "source": [
    "# Plot measures\n",
    "plt.figure(figsize=(10, 6))\n",
    "sns.lineplot(data=all_estimates_df, x='year', y='annual_estimate', hue='parameter')\n",
    "plt.xlabel('Year')\n",
    "plt.ylabel('Estimated Value')\n",
    "plt.title('Smoke Impact and Air Quality Estimators Over Time')\n",
    "plt.legend(title='Parameter', bbox_to_anchor=(1.05, 1), loc='upper left')\n",
    "plt.show()"
   ]
  },
  {
   "cell_type": "markdown",
   "id": "2de1f9cc",
   "metadata": {},
   "source": [
    "I also want to create one measure of AQI, in which all 7 AQI measures are averaged for each year. I create a new dataframe with this measure and my smoke estimates, called *two_estimates_df*. I then create another time series plot in a similar format as above."
   ]
  },
  {
   "cell_type": "code",
   "execution_count": 348,
   "id": "b67d93e4",
   "metadata": {},
   "outputs": [],
   "source": [
    "# Restructure estimate dataframe\n",
    "estimate_restructure2 = average_fire_score_by_year[['year','annual_estimate']]\n",
    "estimate_restructure2['parameter'] = 'Smoke Estimate'\n",
    "\n",
    "# Restructure one aqi dataframe\n",
    "one_aqi_restructure = one_aqi.rename(columns={'aqi': 'annual_estimate'})\n",
    "one_aqi_restructure['parameter'] = 'Average AQI'\n",
    "\n",
    "# Concatenate both dataframes\n",
    "two_estimates_df = pd.concat([estimate_restructure2, one_aqi_restructure], ignore_index=True,axis=0)"
   ]
  },
  {
   "cell_type": "code",
   "execution_count": 595,
   "id": "62471097",
   "metadata": {
    "scrolled": false
   },
   "outputs": [
    {
     "data": {
      "image/png": "[encoded data removed]",
      "text/plain": [
       "<Figure size 720x432 with 1 Axes>"
      ]
     },
     "metadata": {
      "needs_background": "light"
     },
     "output_type": "display_data"
    }
   ],
   "source": [
    "# Plot 2 measures\n",
    "plt.figure(figsize=(10, 6))\n",
    "sns.lineplot(data=two_estimates_df, x='year', y='annual_estimate', hue='parameter')\n",
    "plt.xlabel('Year')\n",
    "plt.ylabel('Estimated Value')\n",
    "plt.title('Smoke Impact and Average Air Quality Index Over Time')\n",
    "plt.legend(title='Parameter')\n",
    "plt.show()"
   ]
  },
  {
   "cell_type": "markdown",
   "id": "aa12c05e",
   "metadata": {},
   "source": [
    "Upon observing both graphs, it is clear that my smoke impact measure greatly varies from the AQI measures. My smoke estimate steadily increases year over year, whereas the AQI measures appear to be decreasing over time. This is likely because my smoke estimator places a greater weight on the number of fires that occured each year, which was steadily increasing.\n",
    "\n",
    "In addition, my smoke estimate and AQI measures are not based on the same factors. As mentioned earlier, my smoke estimate is based on the number of fires that occurred each year, the distance of each fire from Longview, and the acres of land the fire burned. On the other hand, AQI measures focus on pollutants such as ozone, particle pollution (particulate matter), carbon monoxide, sulfur dioxide, and nitrogen dioxide. According to the [World Health Organization](https://www.who.int/health-topics/wildfires#tab=tab_1), wildfire smoke is comprised of particulate matter, nitrogen dioxide, ozone, aromatic hydrocarbons, and lead. Our AQI measures do not consider pollutants such as aromatic hydrocarbons and lead.\n",
    "\n",
    "Although both measures range from 0 to about 500, the categories vary as well. [AQI measures](https://www.airnow.gov/sites/default/files/2020-05/aqi-technical-assistance-document-sept2018.pdf) are categorized by the following groups: 0 to 50 is considered *Good*, 51 to 100 is considered *Moderate*, 101 to 150 is considered *Unhealthy for sensitive groups*, 151 to 200 is considered *Unhealthy*, 201 to 300 is considered *Very Unhealthy*, and 301 and higher is considered *Hazardous*. As my smoke measure was linearly scaled from 0 to 500 using measures of the most severe historical fires, I considered values around 500 to be hazardous, rather than starting at 300.\n",
    "\n",
    "Another factor to consider is the reliability of the earlier AQI and Wildfire data. According to the [Environmental Protection Agency](https://www.epa.gov/outdoor-air-quality-data/why-do-outdoor-air-monitoring-data-summaries-only-go-back-1980-isnt-older), data starting at 1980 should be used to track trends as this marked the start of nationally consistent operational and quality assurance procedures for air quality monitoring. Although data from previous years is available, there is uncertainty in the results. As for the Wildfire data, [NASA](https://earthobservatory.nasa.gov/images/145421/building-a-long-term-record-of-fire) states that satellites began to map fires beginning in the early 1980s. Thus, there is large uncertainty in the data before this time period, as fire-spotting airplanes did not produce as accurate results."
   ]
  },
  {
   "cell_type": "markdown",
   "id": "451b6bb7",
   "metadata": {},
   "source": [
    "## Creating a Predictive Model"
   ]
  },
  {
   "cell_type": "markdown",
   "id": "4d3b91cd",
   "metadata": {},
   "source": [
    "Now, I will create a predictive model based on the fire data and smoke estimate I have created above. In particular, I am interested in predicting yearly smoke estimates for the next 25 years (2024-2049). I will also account for uncertainty in my prediction. \n",
    "\n",
    "To build my model, I will be using a univariate time series AutoRegressive Integrated Moving Average (ARIMA) model. More information on ARIMA models can be found [here](https://www.investopedia.com/terms/a/autoregressive-integrated-moving-average-arima.asp#:~:text=Autoregressive%20integrated%20moving%20average%20(ARIMA)%20models%20predict%20future%20values%20based,to%20forecast%20future%20security%20prices.). I will use [pmdarima](https://pypi.org/project/pmdarima/), specifically [auto_arima](https://alkaline-ml.com/pmdarima/modules/generated/pmdarima.arima.auto_arima.html) which can be installed using pip.\n",
    "\n",
    "I have chosen to use an ARIMA model to predict values as I believe this is an appropriate method to work with univariate time series data, since I will be forecasting based solely on my smoke estimate variable. In addition, using my training set of data, I will be able to set values for my moving average and auto regressive terms. This will allow me to assign a more appropriate, higher weight to more recent data. This feature is useful as we know the data quality of more recent data is much higher. \n",
    "\n",
    "Code used in this section has been modified from the article [Using Python and Auto ARIMA to Forecast Seasonal Time Series](https://medium.com/@josemarcialportilla/using-python-and-auto-arima-to-forecast-seasonal-time-series-90877adff03c), published on Medium by Jose Marcial Portilla."
   ]
  },
  {
   "cell_type": "code",
   "execution_count": 355,
   "id": "308543d9",
   "metadata": {},
   "outputs": [],
   "source": [
    "# Import packages\n",
    "from pmdarima.arima import auto_arima"
   ]
  },
  {
   "cell_type": "markdown",
   "id": "332b978b",
   "metadata": {},
   "source": [
    "First, we will prepare out data by ensuring that our year column is in a datetime object format and set the index. We will use the *average_fire_score_by_year* dataframe created earlier."
   ]
  },
  {
   "cell_type": "code",
   "execution_count": 391,
   "id": "3eb218c2",
   "metadata": {},
   "outputs": [],
   "source": [
    "# Convert to datetime\n",
    "average_fire_score_by_year2 = average_fire_score_by_year.copy(deep=True)\n",
    "\n",
    "average_fire_score_by_year2['year'] = pd.to_datetime(average_fire_score_by_year2['year'], format='%Y')\n",
    "\n",
    "# Keep only annual_estimate and year column\n",
    "average_fire_score_by_year2 = average_fire_score_by_year2[['year','annual_estimate']]\n",
    "\n",
    "# Set index\n",
    "average_fire_score_by_year2.set_index('year', inplace=True)"
   ]
  },
  {
   "cell_type": "markdown",
   "id": "b1a674fd",
   "metadata": {},
   "source": [
    "We will plot the data to visualize it."
   ]
  },
  {
   "cell_type": "code",
   "execution_count": 398,
   "id": "7e6fe2b5",
   "metadata": {
    "scrolled": true
   },
   "outputs": [
    {
     "data": {
      "text/plain": [
       "<AxesSubplot:xlabel='year'>"
      ]
     },
     "execution_count": 398,
     "metadata": {},
     "output_type": "execute_result"
    },
    {
     "data": {
      "image/png": "[encoded data removed]",
      "text/plain": [
       "<Figure size 432x288 with 1 Axes>"
      ]
     },
     "metadata": {
      "needs_background": "light"
     },
     "output_type": "display_data"
    }
   ],
   "source": [
    "# Plot\n",
    "average_fire_score_by_year2.plot()"
   ]
  },
  {
   "cell_type": "markdown",
   "id": "ec6c333d",
   "metadata": {},
   "source": [
    "The next step is to split our dataset into a training set and a test set. We will use a 80/20 split, and plot both values. The split point is at 2009."
   ]
  },
  {
   "cell_type": "code",
   "execution_count": 404,
   "id": "5391e886",
   "metadata": {},
   "outputs": [],
   "source": [
    "# Create training and test set\n",
    "split_point = int(0.8 * len(average_fire_score_by_year2))\n",
    "\n",
    "train = average_fire_score_by_year2[:split_point]\n",
    "test = average_fire_score_by_year2[split_point:]"
   ]
  },
  {
   "cell_type": "code",
   "execution_count": 405,
   "id": "57f95541",
   "metadata": {
    "scrolled": true
   },
   "outputs": [
    {
     "data": {
      "text/plain": [
       "[<matplotlib.lines.Line2D at 0x26efb8a9280>]"
      ]
     },
     "execution_count": 405,
     "metadata": {},
     "output_type": "execute_result"
    },
    {
     "data": {
      "image/png": "[encoded data removed]",
      "text/plain": [
       "<Figure size 432x288 with 1 Axes>"
      ]
     },
     "metadata": {
      "needs_background": "light"
     },
     "output_type": "display_data"
    }
   ],
   "source": [
    "# Visualize data\n",
    "plt.plot(train)\n",
    "plt.plot(test)"
   ]
  },
  {
   "cell_type": "markdown",
   "id": "f70e8ffd",
   "metadata": {},
   "source": [
    "Now we will use the auto_arima function to find the best fit model using our training data. \n",
    "\n",
    "We try p and q values ranging from 1 to 3 to find the most optimal values from the model. The p term indicates the number of auto-regressive terms, which inspects past values. The q term represents the moving average aspect, specifically looking at the number of lagged forecast errors in the prediction. The d term looks at the differencing we will apply to our data. Since our data has a clear upward trend and is not stationary, we will set d=1. We also set m=12 as we observe seasonality in the data above, and set seasonal=True.\n",
    "\n",
    "The function performs a stepwise search to minimize AIC ([Akaike Information Criterion](https://en.wikipedia.org/wiki/Akaike_information_criterion)), which can be used to find the best fitting model."
   ]
  },
  {
   "cell_type": "code",
   "execution_count": 433,
   "id": "2a0dfe18",
   "metadata": {
    "scrolled": true
   },
   "outputs": [
    {
     "name": "stdout",
     "output_type": "stream",
     "text": [
      "Performing stepwise search to minimize aic\n",
      " ARIMA(1,1,1)(0,1,1)[12]             : AIC=301.444, Time=0.38 sec\n",
      " ARIMA(0,1,0)(0,1,0)[12]             : AIC=307.511, Time=0.03 sec\n",
      " ARIMA(1,1,0)(1,1,0)[12]             : AIC=301.523, Time=0.19 sec\n",
      " ARIMA(0,1,1)(0,1,1)[12]             : AIC=299.729, Time=0.26 sec\n",
      " ARIMA(0,1,1)(0,1,0)[12]             : AIC=303.867, Time=0.06 sec\n",
      " ARIMA(0,1,1)(1,1,1)[12]             : AIC=inf, Time=0.66 sec\n",
      " ARIMA(0,1,1)(0,1,2)[12]             : AIC=inf, Time=1.02 sec\n",
      " ARIMA(0,1,1)(1,1,0)[12]             : AIC=300.913, Time=0.17 sec\n",
      " ARIMA(0,1,1)(1,1,2)[12]             : AIC=inf, Time=1.28 sec\n",
      " ARIMA(0,1,0)(0,1,1)[12]             : AIC=inf, Time=0.27 sec\n",
      " ARIMA(0,1,2)(0,1,1)[12]             : AIC=inf, Time=0.57 sec\n",
      " ARIMA(1,1,0)(0,1,1)[12]             : AIC=300.403, Time=0.23 sec\n",
      " ARIMA(1,1,2)(0,1,1)[12]             : AIC=303.282, Time=0.37 sec\n",
      " ARIMA(0,1,1)(0,1,1)[12] intercept   : AIC=301.298, Time=0.34 sec\n",
      "\n",
      "Best model:  ARIMA(0,1,1)(0,1,1)[12]          \n",
      "Total fit time: 5.840 seconds\n"
     ]
    }
   ],
   "source": [
    "# Code from Jose Marcial Portilla\n",
    "\n",
    "# We use the auto-arima function to find the best fit model\n",
    "\n",
    "stepwise_model = auto_arima(train, start_p=1, start_q=1,\n",
    "                           max_p=3, max_q=3, m=12,\n",
    "                           start_P=0, seasonal=True,\n",
    "                           d=1, D=1, trace=True,\n",
    "                           error_action='ignore',  \n",
    "                           suppress_warnings=True, \n",
    "                           stepwise=True)"
   ]
  },
  {
   "cell_type": "code",
   "execution_count": 434,
   "id": "ca238e1d",
   "metadata": {
    "scrolled": true
   },
   "outputs": [
    {
     "data": {
      "text/html": [
       "<table class=\"simpletable\">\n",
       "<caption>SARIMAX Results</caption>\n",
       "<tr>\n",
       "  <th>Dep. Variable:</th>                  <td>y</td>               <th>  No. Observations:  </th>    <td>46</td>   \n",
       "</tr>\n",
       "<tr>\n",
       "  <th>Model:</th>           <td>SARIMAX(0, 1, 1)x(0, 1, 1, 12)</td> <th>  Log Likelihood     </th> <td>-146.865</td>\n",
       "</tr>\n",
       "<tr>\n",
       "  <th>Date:</th>                   <td>Wed, 08 Nov 2023</td>        <th>  AIC                </th>  <td>299.729</td>\n",
       "</tr>\n",
       "<tr>\n",
       "  <th>Time:</th>                       <td>17:03:40</td>            <th>  BIC                </th>  <td>304.219</td>\n",
       "</tr>\n",
       "<tr>\n",
       "  <th>Sample:</th>                    <td>01-01-1963</td>           <th>  HQIC               </th>  <td>301.240</td>\n",
       "</tr>\n",
       "<tr>\n",
       "  <th></th>                          <td>- 01-01-2008</td>          <th>                     </th>     <td> </td>   \n",
       "</tr>\n",
       "<tr>\n",
       "  <th>Covariance Type:</th>               <td>opg</td>              <th>                     </th>     <td> </td>   \n",
       "</tr>\n",
       "</table>\n",
       "<table class=\"simpletable\">\n",
       "<tr>\n",
       "      <td></td>        <th>coef</th>     <th>std err</th>      <th>z</th>      <th>P>|z|</th>  <th>[0.025</th>    <th>0.975]</th>  \n",
       "</tr>\n",
       "<tr>\n",
       "  <th>ma.L1</th>    <td>   -0.4243</td> <td>    0.193</td> <td>   -2.199</td> <td> 0.028</td> <td>   -0.802</td> <td>   -0.046</td>\n",
       "</tr>\n",
       "<tr>\n",
       "  <th>ma.S.L12</th> <td>   -0.7533</td> <td>    0.701</td> <td>   -1.075</td> <td> 0.282</td> <td>   -2.127</td> <td>    0.620</td>\n",
       "</tr>\n",
       "<tr>\n",
       "  <th>sigma2</th>   <td>  330.4910</td> <td>  162.888</td> <td>    2.029</td> <td> 0.042</td> <td>   11.236</td> <td>  649.746</td>\n",
       "</tr>\n",
       "</table>\n",
       "<table class=\"simpletable\">\n",
       "<tr>\n",
       "  <th>Ljung-Box (L1) (Q):</th>     <td>0.01</td> <th>  Jarque-Bera (JB):  </th> <td>0.38</td> \n",
       "</tr>\n",
       "<tr>\n",
       "  <th>Prob(Q):</th>                <td>0.93</td> <th>  Prob(JB):          </th> <td>0.83</td> \n",
       "</tr>\n",
       "<tr>\n",
       "  <th>Heteroskedasticity (H):</th> <td>4.03</td> <th>  Skew:              </th> <td>-0.09</td>\n",
       "</tr>\n",
       "<tr>\n",
       "  <th>Prob(H) (two-sided):</th>    <td>0.03</td> <th>  Kurtosis:          </th> <td>2.51</td> \n",
       "</tr>\n",
       "</table><br/><br/>Warnings:<br/>[1] Covariance matrix calculated using the outer product of gradients (complex-step)."
      ],
      "text/plain": [
       "<class 'statsmodels.iolib.summary.Summary'>\n",
       "\"\"\"\n",
       "                                     SARIMAX Results                                      \n",
       "==========================================================================================\n",
       "Dep. Variable:                                  y   No. Observations:                   46\n",
       "Model:             SARIMAX(0, 1, 1)x(0, 1, 1, 12)   Log Likelihood                -146.865\n",
       "Date:                            Wed, 08 Nov 2023   AIC                            299.729\n",
       "Time:                                    17:03:40   BIC                            304.219\n",
       "Sample:                                01-01-1963   HQIC                           301.240\n",
       "                                     - 01-01-2008                                         \n",
       "Covariance Type:                              opg                                         \n",
       "==============================================================================\n",
       "                 coef    std err          z      P>|z|      [0.025      0.975]\n",
       "------------------------------------------------------------------------------\n",
       "ma.L1         -0.4243      0.193     -2.199      0.028      -0.802      -0.046\n",
       "ma.S.L12      -0.7533      0.701     -1.075      0.282      -2.127       0.620\n",
       "sigma2       330.4910    162.888      2.029      0.042      11.236     649.746\n",
       "===================================================================================\n",
       "Ljung-Box (L1) (Q):                   0.01   Jarque-Bera (JB):                 0.38\n",
       "Prob(Q):                              0.93   Prob(JB):                         0.83\n",
       "Heteroskedasticity (H):               4.03   Skew:                            -0.09\n",
       "Prob(H) (two-sided):                  0.03   Kurtosis:                         2.51\n",
       "===================================================================================\n",
       "\n",
       "Warnings:\n",
       "[1] Covariance matrix calculated using the outer product of gradients (complex-step).\n",
       "\"\"\""
      ]
     },
     "execution_count": 434,
     "metadata": {},
     "output_type": "execute_result"
    }
   ],
   "source": [
    "stepwise_model.summary()"
   ]
  },
  {
   "cell_type": "markdown",
   "id": "e8450c32",
   "metadata": {},
   "source": [
    "Thus, the best model is the ARIMA(0,1,1)(0,1,1)[12] model. A model summary is shown above. We will use this model to forecast values on our test set. \n",
    "\n",
    "When forecasting values, we will also calculate a 95% confidence interval to create errror bounds and  account for uncertainty."
   ]
  },
  {
   "cell_type": "code",
   "execution_count": 506,
   "id": "99c99946",
   "metadata": {},
   "outputs": [],
   "source": [
    "# Forecast values on test data and create confidence interval\n",
    "prediction, conf_int = stepwise_model.predict(14,return_conf_int=True,alpha=0.05)\n",
    "\n",
    "confidence_interval = pd.DataFrame(conf_int)\n",
    "confidence_interval.columns = ['lower_bound', 'upper_bound']"
   ]
  },
  {
   "cell_type": "code",
   "execution_count": 507,
   "id": "2904fd57",
   "metadata": {
    "scrolled": true
   },
   "outputs": [
    {
     "data": {
      "text/html": [
       "<div>\n",
       "<style scoped>\n",
       "    .dataframe tbody tr th:only-of-type {\n",
       "        vertical-align: middle;\n",
       "    }\n",
       "\n",
       "    .dataframe tbody tr th {\n",
       "        vertical-align: top;\n",
       "    }\n",
       "\n",
       "    .dataframe thead th {\n",
       "        text-align: right;\n",
       "    }\n",
       "</style>\n",
       "<table border=\"1\" class=\"dataframe\">\n",
       "  <thead>\n",
       "    <tr style=\"text-align: right;\">\n",
       "      <th></th>\n",
       "      <th>predicted_estimates</th>\n",
       "      <th>lower_bound</th>\n",
       "      <th>upper_bound</th>\n",
       "    </tr>\n",
       "    <tr>\n",
       "      <th>index</th>\n",
       "      <th></th>\n",
       "      <th></th>\n",
       "      <th></th>\n",
       "    </tr>\n",
       "  </thead>\n",
       "  <tbody>\n",
       "    <tr>\n",
       "      <th>2009-01-01</th>\n",
       "      <td>121.350284</td>\n",
       "      <td>84.036202</td>\n",
       "      <td>158.664365</td>\n",
       "    </tr>\n",
       "    <tr>\n",
       "      <th>2010-01-01</th>\n",
       "      <td>124.416622</td>\n",
       "      <td>81.360369</td>\n",
       "      <td>167.472875</td>\n",
       "    </tr>\n",
       "    <tr>\n",
       "      <th>2011-01-01</th>\n",
       "      <td>137.163226</td>\n",
       "      <td>89.155927</td>\n",
       "      <td>185.170526</td>\n",
       "    </tr>\n",
       "    <tr>\n",
       "      <th>2012-01-01</th>\n",
       "      <td>145.394435</td>\n",
       "      <td>92.986770</td>\n",
       "      <td>197.802099</td>\n",
       "    </tr>\n",
       "    <tr>\n",
       "      <th>2013-01-01</th>\n",
       "      <td>137.249673</td>\n",
       "      <td>80.783546</td>\n",
       "      <td>193.715800</td>\n",
       "    </tr>\n",
       "    <tr>\n",
       "      <th>2014-01-01</th>\n",
       "      <td>133.889938</td>\n",
       "      <td>73.638102</td>\n",
       "      <td>194.141774</td>\n",
       "    </tr>\n",
       "    <tr>\n",
       "      <th>2015-01-01</th>\n",
       "      <td>137.793724</td>\n",
       "      <td>73.980371</td>\n",
       "      <td>201.607077</td>\n",
       "    </tr>\n",
       "    <tr>\n",
       "      <th>2016-01-01</th>\n",
       "      <td>135.253404</td>\n",
       "      <td>68.067065</td>\n",
       "      <td>202.439744</td>\n",
       "    </tr>\n",
       "    <tr>\n",
       "      <th>2017-01-01</th>\n",
       "      <td>138.348586</td>\n",
       "      <td>67.950685</td>\n",
       "      <td>208.746487</td>\n",
       "    </tr>\n",
       "    <tr>\n",
       "      <th>2018-01-01</th>\n",
       "      <td>158.940176</td>\n",
       "      <td>85.470967</td>\n",
       "      <td>232.409385</td>\n",
       "    </tr>\n",
       "    <tr>\n",
       "      <th>2019-01-01</th>\n",
       "      <td>148.231476</td>\n",
       "      <td>71.814299</td>\n",
       "      <td>224.648653</td>\n",
       "    </tr>\n",
       "    <tr>\n",
       "      <th>2020-01-01</th>\n",
       "      <td>154.256918</td>\n",
       "      <td>75.001304</td>\n",
       "      <td>233.512532</td>\n",
       "    </tr>\n",
       "    <tr>\n",
       "      <th>2021-01-01</th>\n",
       "      <td>152.536504</td>\n",
       "      <td>66.735658</td>\n",
       "      <td>238.337351</td>\n",
       "    </tr>\n",
       "    <tr>\n",
       "      <th>2022-01-01</th>\n",
       "      <td>155.602843</td>\n",
       "      <td>65.392512</td>\n",
       "      <td>245.813174</td>\n",
       "    </tr>\n",
       "  </tbody>\n",
       "</table>\n",
       "</div>"
      ],
      "text/plain": [
       "            predicted_estimates  lower_bound  upper_bound\n",
       "index                                                    \n",
       "2009-01-01           121.350284    84.036202   158.664365\n",
       "2010-01-01           124.416622    81.360369   167.472875\n",
       "2011-01-01           137.163226    89.155927   185.170526\n",
       "2012-01-01           145.394435    92.986770   197.802099\n",
       "2013-01-01           137.249673    80.783546   193.715800\n",
       "2014-01-01           133.889938    73.638102   194.141774\n",
       "2015-01-01           137.793724    73.980371   201.607077\n",
       "2016-01-01           135.253404    68.067065   202.439744\n",
       "2017-01-01           138.348586    67.950685   208.746487\n",
       "2018-01-01           158.940176    85.470967   232.409385\n",
       "2019-01-01           148.231476    71.814299   224.648653\n",
       "2020-01-01           154.256918    75.001304   233.512532\n",
       "2021-01-01           152.536504    66.735658   238.337351\n",
       "2022-01-01           155.602843    65.392512   245.813174"
      ]
     },
     "execution_count": 507,
     "metadata": {},
     "output_type": "execute_result"
    }
   ],
   "source": [
    "# Create dataframe for predictions on test data\n",
    "\n",
    "prediction=pd.DataFrame(stepwise_model.predict(n_periods=14)).reset_index()\n",
    "prediction['lower_bound'] = confidence_interval['lower_bound']\n",
    "prediction['upper_bound'] = confidence_interval['upper_bound']\n",
    "prediction['predicted_estimates'] = prediction[0]\n",
    "prediction = prediction[['index', 'predicted_estimates', 'lower_bound', 'upper_bound']]\n",
    "prediction.set_index('index', inplace=True)\n",
    "prediction"
   ]
  },
  {
   "cell_type": "markdown",
   "id": "3c4fb313",
   "metadata": {},
   "source": [
    "We plot our predicted values in green below, and compare this to the test set (in orange). We observe that our predictions are pretty good, as they follow the same general upward trend and similar peaks to our test data. Similarly, our predicted values fall within the 95% confidence interval (indicated by the dotted lines showing the upper and lower bounds)."
   ]
  },
  {
   "cell_type": "code",
   "execution_count": 518,
   "id": "b076b9fb",
   "metadata": {
    "scrolled": false
   },
   "outputs": [
    {
     "data": {
      "image/png": "[encoded data removed]",
      "text/plain": [
       "<Figure size 576x360 with 1 Axes>"
      ]
     },
     "metadata": {
      "needs_background": "light"
     },
     "output_type": "display_data"
    }
   ],
   "source": [
    "plt.figure(figsize=(8,5))\n",
    "plt.plot(train,label=\"Training\")\n",
    "plt.plot(test,label=\"Test\")\n",
    "plt.plot(prediction['predicted_estimates'], label='Prediction')\n",
    "plt.plot(prediction['lower_bound'],color='red', linestyle='--')\n",
    "plt.plot(prediction['upper_bound'], label='Confidence Interval', color='red', linestyle='--')\n",
    "plt.plot()\n",
    "plt.legend()\n",
    "plt.show()"
   ]
  },
  {
   "cell_type": "markdown",
   "id": "c25dc02f",
   "metadata": {},
   "source": [
    "We now use our ARIMA model (ARIMA(0,1,1)(0,1,1)[12]) to predict values for the next 25 years. Since my fire estimates only go up to 2020 (due to limitations in the original fire data), I will set my forecast periods to 29.\n",
    "\n",
    "I will use the [SARIMAX package](https://www.statsmodels.org/stable/examples/notebooks/generated/statespace_sarimax_stata.html) from statsmodels. First, I create the *model* and save the fitted values in *results*. Next, I forecast for the next 25 years and find the corresponding confidence intervals."
   ]
  },
  {
   "cell_type": "code",
   "execution_count": 555,
   "id": "506e2dc3",
   "metadata": {},
   "outputs": [],
   "source": [
    "from statsmodels.tsa.statespace.sarimax import SARIMAX\n",
    "warnings.filterwarnings(\"ignore\", category=UserWarning)\n",
    "\n",
    "# Apply ARIMA model to full dataset\n",
    "model = SARIMAX(average_fire_score_by_year2, order=(0, 1, 1), seasonal_order=(0, 1, 1, 12))\n",
    "results = model.fit(disp=False)\n",
    "\n",
    "warnings.resetwarnings()"
   ]
  },
  {
   "cell_type": "code",
   "execution_count": 556,
   "id": "84b913c0",
   "metadata": {},
   "outputs": [],
   "source": [
    "# Forecast for 29 periods to get data for up to 2049\n",
    "forecast_periods = 29\n",
    "forecast = results.get_forecast(steps=forecast_periods)\n",
    "\n",
    "# Find estimated values\n",
    "forecast_mean = forecast.predicted_mean\n",
    "\n",
    "# Find confidence interval\n",
    "forecast_confidence_interval = forecast.conf_int()"
   ]
  },
  {
   "cell_type": "code",
   "execution_count": 557,
   "id": "0e3a2e33",
   "metadata": {
    "scrolled": true
   },
   "outputs": [
    {
     "data": {
      "text/html": [
       "<div>\n",
       "<style scoped>\n",
       "    .dataframe tbody tr th:only-of-type {\n",
       "        vertical-align: middle;\n",
       "    }\n",
       "\n",
       "    .dataframe tbody tr th {\n",
       "        vertical-align: top;\n",
       "    }\n",
       "\n",
       "    .dataframe thead th {\n",
       "        text-align: right;\n",
       "    }\n",
       "</style>\n",
       "<table border=\"1\" class=\"dataframe\">\n",
       "  <thead>\n",
       "    <tr style=\"text-align: right;\">\n",
       "      <th></th>\n",
       "      <th>smoke_estimate</th>\n",
       "      <th>lower_bound</th>\n",
       "      <th>upper_bound</th>\n",
       "    </tr>\n",
       "    <tr>\n",
       "      <th>index</th>\n",
       "      <th></th>\n",
       "      <th></th>\n",
       "      <th></th>\n",
       "    </tr>\n",
       "  </thead>\n",
       "  <tbody>\n",
       "    <tr>\n",
       "      <th>2021-01-01</th>\n",
       "      <td>165.488533</td>\n",
       "      <td>128.229856</td>\n",
       "      <td>202.747210</td>\n",
       "    </tr>\n",
       "    <tr>\n",
       "      <th>2022-01-01</th>\n",
       "      <td>166.266204</td>\n",
       "      <td>124.223087</td>\n",
       "      <td>208.309321</td>\n",
       "    </tr>\n",
       "    <tr>\n",
       "      <th>2023-01-01</th>\n",
       "      <td>179.381572</td>\n",
       "      <td>133.181353</td>\n",
       "      <td>225.581791</td>\n",
       "    </tr>\n",
       "    <tr>\n",
       "      <th>2024-01-01</th>\n",
       "      <td>187.530747</td>\n",
       "      <td>137.543745</td>\n",
       "      <td>237.517748</td>\n",
       "    </tr>\n",
       "    <tr>\n",
       "      <th>2025-01-01</th>\n",
       "      <td>176.916909</td>\n",
       "      <td>123.410472</td>\n",
       "      <td>230.423345</td>\n",
       "    </tr>\n",
       "    <tr>\n",
       "      <th>2026-01-01</th>\n",
       "      <td>173.886049</td>\n",
       "      <td>117.077799</td>\n",
       "      <td>230.694299</td>\n",
       "    </tr>\n",
       "    <tr>\n",
       "      <th>2027-01-01</th>\n",
       "      <td>179.949028</td>\n",
       "      <td>120.020606</td>\n",
       "      <td>239.877449</td>\n",
       "    </tr>\n",
       "    <tr>\n",
       "      <th>2028-01-01</th>\n",
       "      <td>180.458017</td>\n",
       "      <td>117.564025</td>\n",
       "      <td>243.352008</td>\n",
       "    </tr>\n",
       "    <tr>\n",
       "      <th>2029-01-01</th>\n",
       "      <td>188.820561</td>\n",
       "      <td>123.094670</td>\n",
       "      <td>254.546451</td>\n",
       "    </tr>\n",
       "    <tr>\n",
       "      <th>2030-01-01</th>\n",
       "      <td>199.551167</td>\n",
       "      <td>131.110455</td>\n",
       "      <td>267.991880</td>\n",
       "    </tr>\n",
       "    <tr>\n",
       "      <th>2031-01-01</th>\n",
       "      <td>188.328849</td>\n",
       "      <td>117.276969</td>\n",
       "      <td>259.380728</td>\n",
       "    </tr>\n",
       "    <tr>\n",
       "      <th>2032-01-01</th>\n",
       "      <td>206.998843</td>\n",
       "      <td>133.428360</td>\n",
       "      <td>280.569327</td>\n",
       "    </tr>\n",
       "    <tr>\n",
       "      <th>2033-01-01</th>\n",
       "      <td>197.664406</td>\n",
       "      <td>119.416885</td>\n",
       "      <td>275.911927</td>\n",
       "    </tr>\n",
       "    <tr>\n",
       "      <th>2034-01-01</th>\n",
       "      <td>198.442077</td>\n",
       "      <td>116.870845</td>\n",
       "      <td>280.013309</td>\n",
       "    </tr>\n",
       "    <tr>\n",
       "      <th>2035-01-01</th>\n",
       "      <td>211.557445</td>\n",
       "      <td>126.703674</td>\n",
       "      <td>296.411216</td>\n",
       "    </tr>\n",
       "    <tr>\n",
       "      <th>2036-01-01</th>\n",
       "      <td>219.706620</td>\n",
       "      <td>132.037828</td>\n",
       "      <td>307.375412</td>\n",
       "    </tr>\n",
       "    <tr>\n",
       "      <th>2037-01-01</th>\n",
       "      <td>209.092782</td>\n",
       "      <td>118.696607</td>\n",
       "      <td>299.488957</td>\n",
       "    </tr>\n",
       "    <tr>\n",
       "      <th>2038-01-01</th>\n",
       "      <td>206.061922</td>\n",
       "      <td>113.018277</td>\n",
       "      <td>299.105567</td>\n",
       "    </tr>\n",
       "    <tr>\n",
       "      <th>2039-01-01</th>\n",
       "      <td>212.124901</td>\n",
       "      <td>116.507061</td>\n",
       "      <td>307.742741</td>\n",
       "    </tr>\n",
       "    <tr>\n",
       "      <th>2040-01-01</th>\n",
       "      <td>212.633890</td>\n",
       "      <td>114.509363</td>\n",
       "      <td>310.758417</td>\n",
       "    </tr>\n",
       "    <tr>\n",
       "      <th>2041-01-01</th>\n",
       "      <td>220.996434</td>\n",
       "      <td>120.427680</td>\n",
       "      <td>321.565187</td>\n",
       "    </tr>\n",
       "    <tr>\n",
       "      <th>2042-01-01</th>\n",
       "      <td>231.727040</td>\n",
       "      <td>128.772071</td>\n",
       "      <td>334.682009</td>\n",
       "    </tr>\n",
       "    <tr>\n",
       "      <th>2043-01-01</th>\n",
       "      <td>220.504722</td>\n",
       "      <td>115.217604</td>\n",
       "      <td>325.791839</td>\n",
       "    </tr>\n",
       "    <tr>\n",
       "      <th>2044-01-01</th>\n",
       "      <td>239.174716</td>\n",
       "      <td>131.605957</td>\n",
       "      <td>346.743476</td>\n",
       "    </tr>\n",
       "    <tr>\n",
       "      <th>2045-01-01</th>\n",
       "      <td>229.840279</td>\n",
       "      <td>118.213316</td>\n",
       "      <td>341.467242</td>\n",
       "    </tr>\n",
       "    <tr>\n",
       "      <th>2046-01-01</th>\n",
       "      <td>230.617950</td>\n",
       "      <td>115.972637</td>\n",
       "      <td>345.263263</td>\n",
       "    </tr>\n",
       "    <tr>\n",
       "      <th>2047-01-01</th>\n",
       "      <td>243.733318</td>\n",
       "      <td>125.965304</td>\n",
       "      <td>361.501332</td>\n",
       "    </tr>\n",
       "    <tr>\n",
       "      <th>2048-01-01</th>\n",
       "      <td>251.882493</td>\n",
       "      <td>131.564684</td>\n",
       "      <td>372.200301</td>\n",
       "    </tr>\n",
       "    <tr>\n",
       "      <th>2049-01-01</th>\n",
       "      <td>241.268655</td>\n",
       "      <td>118.453997</td>\n",
       "      <td>364.083312</td>\n",
       "    </tr>\n",
       "  </tbody>\n",
       "</table>\n",
       "</div>"
      ],
      "text/plain": [
       "            smoke_estimate  lower_bound  upper_bound\n",
       "index                                               \n",
       "2021-01-01      165.488533   128.229856   202.747210\n",
       "2022-01-01      166.266204   124.223087   208.309321\n",
       "2023-01-01      179.381572   133.181353   225.581791\n",
       "2024-01-01      187.530747   137.543745   237.517748\n",
       "2025-01-01      176.916909   123.410472   230.423345\n",
       "2026-01-01      173.886049   117.077799   230.694299\n",
       "2027-01-01      179.949028   120.020606   239.877449\n",
       "2028-01-01      180.458017   117.564025   243.352008\n",
       "2029-01-01      188.820561   123.094670   254.546451\n",
       "2030-01-01      199.551167   131.110455   267.991880\n",
       "2031-01-01      188.328849   117.276969   259.380728\n",
       "2032-01-01      206.998843   133.428360   280.569327\n",
       "2033-01-01      197.664406   119.416885   275.911927\n",
       "2034-01-01      198.442077   116.870845   280.013309\n",
       "2035-01-01      211.557445   126.703674   296.411216\n",
       "2036-01-01      219.706620   132.037828   307.375412\n",
       "2037-01-01      209.092782   118.696607   299.488957\n",
       "2038-01-01      206.061922   113.018277   299.105567\n",
       "2039-01-01      212.124901   116.507061   307.742741\n",
       "2040-01-01      212.633890   114.509363   310.758417\n",
       "2041-01-01      220.996434   120.427680   321.565187\n",
       "2042-01-01      231.727040   128.772071   334.682009\n",
       "2043-01-01      220.504722   115.217604   325.791839\n",
       "2044-01-01      239.174716   131.605957   346.743476\n",
       "2045-01-01      229.840279   118.213316   341.467242\n",
       "2046-01-01      230.617950   115.972637   345.263263\n",
       "2047-01-01      243.733318   125.965304   361.501332\n",
       "2048-01-01      251.882493   131.564684   372.200301\n",
       "2049-01-01      241.268655   118.453997   364.083312"
      ]
     },
     "execution_count": 557,
     "metadata": {},
     "output_type": "execute_result"
    }
   ],
   "source": [
    "# Reformat forecast data\n",
    "smoke_estimate_forecast = pd.DataFrame(forecast_mean)\n",
    "smoke_estimate_forecast = smoke_estimate_forecast.reset_index()\n",
    "\n",
    "# Reformat confidence interval data and place in one dataframe\n",
    "forecast_confidence_interval = forecast_confidence_interval.reset_index()\n",
    "smoke_estimate_forecast['lower_bound'] = forecast_confidence_interval['lower annual_estimate']\n",
    "smoke_estimate_forecast['upper_bound'] = forecast_confidence_interval['upper annual_estimate']\n",
    "smoke_estimate_forecast = smoke_estimate_forecast.rename(columns={'predicted_mean': 'smoke_estimate'})\n",
    "smoke_estimate_forecast.set_index('index', inplace=True)\n",
    "\n",
    "# Show final dataframe\n",
    "smoke_estimate_forecast"
   ]
  },
  {
   "cell_type": "markdown",
   "id": "136df6ba",
   "metadata": {},
   "source": [
    "Thus, the dataframe above shows my smoke estimate forecasted values for the next 25 years, as well as lower and upper bounds (based on a 95% confidence interval) to account for uncertainty in my estimates. I plot the forecasted values below to provide a visual representation."
   ]
  },
  {
   "cell_type": "code",
   "execution_count": 585,
   "id": "130aa0eb",
   "metadata": {
    "scrolled": false
   },
   "outputs": [
    {
     "data": {
      "image/png": "[encoded data removed]",
      "text/plain": [
       "<Figure size 576x360 with 1 Axes>"
      ]
     },
     "metadata": {
      "needs_background": "light"
     },
     "output_type": "display_data"
    }
   ],
   "source": [
    "# Plot forecasted values and CI\n",
    "\n",
    "plt.figure(figsize=(8,5))\n",
    "plt.plot(smoke_estimate_forecast['smoke_estimate'], label='Smoke Estimate')\n",
    "plt.plot(smoke_estimate_forecast['lower_bound'],color='red', linestyle='--')\n",
    "plt.plot(smoke_estimate_forecast['upper_bound'], label='Confidence Interval', color='red', linestyle='--')\n",
    "plt.plot()\n",
    "plt.title('Smoke Estimate Predictions for the Next 25 Years')\n",
    "plt.xlabel('Year')\n",
    "plt.ylabel('Smoke Estimate')\n",
    "plt.legend()\n",
    "plt.show()"
   ]
  },
  {
   "cell_type": "markdown",
   "id": "8651aef5",
   "metadata": {},
   "source": [
    "## Visualizations"
   ]
  },
  {
   "cell_type": "markdown",
   "id": "723c78fd",
   "metadata": {},
   "source": [
    "In this section, I create some plots to visualize different aspects of my analysis. The graphs below visualize data from my analysis range (1963 - 2023)."
   ]
  },
  {
   "cell_type": "markdown",
   "id": "4f896d18",
   "metadata": {},
   "source": [
    "### Number of Fires by Distance"
   ]
  },
  {
   "cell_type": "markdown",
   "id": "44977804",
   "metadata": {},
   "source": [
    "First, I will produce a histogram to show the number of fires occuring every 50 mile distance from Longview, Washington. The maximum distance in this case will be 1250 miles."
   ]
  },
  {
   "cell_type": "code",
   "execution_count": 571,
   "id": "b55baf40",
   "metadata": {},
   "outputs": [
    {
     "data": {
      "image/png": "[encoded data removed]",
      "text/plain": [
       "<Figure size 1080x432 with 1 Axes>"
      ]
     },
     "metadata": {
      "needs_background": "light"
     },
     "output_type": "display_data"
    }
   ],
   "source": [
    "# Plot histogram\n",
    "\n",
    "# Specify the width of each bin\n",
    "bin_width = 50\n",
    "\n",
    "# Calculate the number of bins \n",
    "num_bins = int(1250/bin_width)\n",
    "\n",
    "plt.figure(figsize=(15,6))\n",
    "plt.hist(gj_df_dist['distance'], bins=num_bins, range=(0, num_bins * bin_width))\n",
    "plt.title(\"Histogram of Fire Distance\")\n",
    "plt.ylabel(\"Number of fires\")\n",
    "plt.xlabel(\"Distance (mi)\")\n",
    "\n",
    "# Customize the x-axis ticks\n",
    "plt.xticks(range(0, int(1250) + 1, 50))\n",
    "\n",
    "plt.show()"
   ]
  },
  {
   "cell_type": "markdown",
   "id": "d5a04057",
   "metadata": {},
   "source": [
    "### Total Acres Burned per Year"
   ]
  },
  {
   "cell_type": "markdown",
   "id": "f88e64bd",
   "metadata": {},
   "source": [
    "Now, I will observe the total acres burned per year, looking at the fires occurring within 1250 miles of Longview. I will create a time series graph."
   ]
  },
  {
   "cell_type": "code",
   "execution_count": 586,
   "id": "cef0a132",
   "metadata": {},
   "outputs": [
    {
     "data": {
      "image/png": "[encoded data removed]",
      "text/plain": [
       "<Figure size 720x432 with 1 Axes>"
      ]
     },
     "metadata": {
      "needs_background": "light"
     },
     "output_type": "display_data"
    }
   ],
   "source": [
    "# Time series plot\n",
    "plt.figure(figsize=(10,6))\n",
    "plt.plot(pivot_df['year'], pivot_df['total_acres'], linestyle='-', label='Total Area Burned')\n",
    "plt.title(\"Total Acres Burned by Year\")\n",
    "plt.ylabel(\"Total Area Burned (acres)\")\n",
    "plt.xlabel(\"Year\")\n",
    "plt.legend()\n",
    "plt.show()"
   ]
  },
  {
   "cell_type": "markdown",
   "id": "932da8a1",
   "metadata": {},
   "source": [
    "### Fire Smoke Estimate and AQI Estimate"
   ]
  },
  {
   "cell_type": "markdown",
   "id": "146f0de7",
   "metadata": {},
   "source": [
    "The plots below are time series graphs showing my fire smoke estimate for Longview, as well as the AQI estimates for Longview for each year. The first graph shows my estimate and all 7 AQI measures. The second graph shows my estimate and an average AQI (found by averaging all the 7 AQI measures for each year)."
   ]
  },
  {
   "cell_type": "code",
   "execution_count": 582,
   "id": "720a2c1c",
   "metadata": {},
   "outputs": [
    {
     "data": {
      "image/png": "[encoded data removed]",
      "text/plain": [
       "<Figure size 720x432 with 1 Axes>"
      ]
     },
     "metadata": {
      "needs_background": "light"
     },
     "output_type": "display_data"
    }
   ],
   "source": [
    "# Plot all measures\n",
    "plt.figure(figsize=(10, 6))\n",
    "sns.lineplot(data=all_estimates_df, x='year', y='annual_estimate', hue='parameter')\n",
    "plt.xlabel('Year')\n",
    "plt.ylabel('Estimated Value')\n",
    "plt.title('Smoke Impact and Air Quality Estimators Over Time')\n",
    "plt.legend(title='Parameter', bbox_to_anchor=(1.05, 1), loc='upper left')\n",
    "plt.show()"
   ]
  },
  {
   "cell_type": "code",
   "execution_count": 583,
   "id": "577a7791",
   "metadata": {},
   "outputs": [
    {
     "data": {
      "image/png": "[encoded data removed]",
      "text/plain": [
       "<Figure size 720x432 with 1 Axes>"
      ]
     },
     "metadata": {
      "needs_background": "light"
     },
     "output_type": "display_data"
    }
   ],
   "source": [
    "# Plot two measures\n",
    "plt.figure(figsize=(10, 6))\n",
    "sns.lineplot(data=two_estimates_df, x='year', y='annual_estimate', hue='parameter')\n",
    "plt.xlabel('Year')\n",
    "plt.ylabel('AQI')\n",
    "plt.title('Smoke Impact and Average Air Quality Index Over Time')\n",
    "plt.legend(title='Parameter')\n",
    "plt.show()"
   ]
  }
 ],
 "metadata": {
  "kernelspec": {
   "display_name": "Python 3 (ipykernel)",
   "language": "python",
   "name": "python3"
  },
  "language_info": {
   "codemirror_mode": {
    "name": "ipython",
    "version": 3
   },
   "file_extension": ".py",
   "mimetype": "text/x-python",
   "name": "python",
   "nbconvert_exporter": "python",
   "pygments_lexer": "ipython3",
   "version": "3.9.12"
  }
 },
 "nbformat": 4,
 "nbformat_minor": 5
}
